{
 "cells": [
  {
   "cell_type": "code",
   "execution_count": 2,
   "id": "45f1b721-a239-4ae8-81cc-e806a794157d",
   "metadata": {},
   "outputs": [],
   "source": [
    "val l = listOf(0,1,2,3,4,5)"
   ]
  },
  {
   "cell_type": "code",
   "execution_count": 3,
   "id": "435d3a9a-e7b4-49a8-bd89-3e1b55233473",
   "metadata": {},
   "outputs": [
    {
     "data": {
      "text/plain": [
       "1"
      ]
     },
     "execution_count": 3,
     "metadata": {},
     "output_type": "execute_result"
    }
   ],
   "source": [
    "l.indexOf(1)"
   ]
  },
  {
   "cell_type": "code",
   "execution_count": 4,
   "id": "391c5056-577d-491f-8c58-0f49193fbc9e",
   "metadata": {},
   "outputs": [],
   "source": [
    "val m = listOf(0,1,2,1,1,2)"
   ]
  },
  {
   "cell_type": "code",
   "execution_count": 7,
   "id": "3c412789-1538-4756-8299-4df0f9f195ab",
   "metadata": {},
   "outputs": [
    {
     "data": {
      "text/plain": [
       "1"
      ]
     },
     "execution_count": 7,
     "metadata": {},
     "output_type": "execute_result"
    }
   ],
   "source": [
    "m.indexOf(1)"
   ]
  },
  {
   "cell_type": "code",
   "execution_count": 8,
   "id": "86c0daab-eeed-4e7f-9f5d-766edf2795ef",
   "metadata": {},
   "outputs": [
    {
     "data": {
      "text/plain": [
       "-1"
      ]
     },
     "execution_count": 8,
     "metadata": {},
     "output_type": "execute_result"
    }
   ],
   "source": [
    "m.indexOf(3)"
   ]
  },
  {
   "cell_type": "code",
   "execution_count": null,
   "id": "4d2c9dbd-bcb5-45a4-9aed-64d192002ca2",
   "metadata": {},
   "outputs": [],
   "source": []
  }
 ],
 "metadata": {
  "kernelspec": {
   "display_name": "Kotlin",
   "language": "kotlin",
   "name": "kotlin"
  },
  "language_info": {
   "codemirror_mode": "text/x-kotlin",
   "file_extension": ".kt",
   "mimetype": "text/x-kotlin",
   "name": "kotlin",
   "nbconvert_exporter": "",
   "pygments_lexer": "kotlin",
   "version": "2.2.20-Beta2"
  }
 },
 "nbformat": 4,
 "nbformat_minor": 5
}
