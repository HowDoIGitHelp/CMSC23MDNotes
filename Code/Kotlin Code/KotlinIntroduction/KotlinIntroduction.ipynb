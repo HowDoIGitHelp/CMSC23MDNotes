{
 "cells": [
  {
   "cell_type": "markdown",
   "id": "e6ed9aad-4de2-46fd-a0b2-fc908185734c",
   "metadata": {},
   "source": [
    "# Kotlin Syntax\n",
    "\n",
    "Kotlin is a high-level language with rich syntax support. Lets start by discussing how statements and expressions in kotlin look like. Unlike C or C++, statements in kotlin do not end with a semicolon. The boundary of a statement is defined by newlines. Below you have two statements"
   ]
  },
  {
   "cell_type": "code",
   "id": "296e2ba1-c33a-477e-ae9e-e4fd5a6b292d",
   "metadata": {
    "ExecuteTime": {
     "end_time": "2025-10-05T16:31:32.464430700Z",
     "start_time": "2025-10-05T16:31:32.335111800Z"
    }
   },
   "source": [
    "3 + 5\n",
    "9 - 2"
   ],
   "outputs": [
    {
     "data": {
      "text/plain": [
       "7"
      ]
     },
     "execution_count": 1,
     "metadata": {},
     "output_type": "execute_result"
    }
   ],
   "execution_count": 1
  },
  {
   "cell_type": "markdown",
   "id": "ef88a158-db9a-444a-8134-3ca67d574398",
   "metadata": {},
   "source": [
    "# Kotlin types\n",
    "\n",
    "### Numerical types\n",
    "\n",
    "Numbers in kotlin can be `Int`s `Floats`, `Long`, `Double` and more. An `Int` literal can be written just like any number in math."
   ]
  },
  {
   "cell_type": "code",
   "execution_count": 3,
   "id": "47b54eab-0ee9-496d-a566-d03ddac2ec89",
   "metadata": {},
   "outputs": [
    {
     "data": {
      "text/plain": [
       "3"
      ]
     },
     "execution_count": 3,
     "metadata": {},
     "output_type": "execute_result"
    }
   ],
   "source": [
    "3"
   ]
  },
  {
   "cell_type": "markdown",
   "id": "0023e7f7-1fd1-4aeb-9ab9-14c6657dd59b",
   "metadata": {},
   "source": [
    "You can expose the specific type of an expression using the following syntax:"
   ]
  },
  {
   "cell_type": "code",
   "execution_count": 5,
   "id": "7f33a862-3428-4095-9d35-0c037b623573",
   "metadata": {},
   "outputs": [
    {
     "data": {
      "text/plain": [
       "Int"
      ]
     },
     "execution_count": 5,
     "metadata": {},
     "output_type": "execute_result"
    }
   ],
   "source": [
    "3::class.simpleName"
   ]
  },
  {
   "cell_type": "code",
   "execution_count": 8,
   "id": "05bb9f3b-6738-4c78-8132-d381dde8544c",
   "metadata": {},
   "outputs": [
    {
     "data": {
      "text/plain": [
       "Int"
      ]
     },
     "execution_count": 8,
     "metadata": {},
     "output_type": "execute_result"
    }
   ],
   "source": [
    "(2 - 3)::class.simpleName"
   ]
  },
  {
   "cell_type": "markdown",
   "id": "9d592778-52f3-4127-abdc-dcb433693c6f",
   "metadata": {},
   "source": [
    "A number with decimal values are automatically interpreted as `Double`"
   ]
  },
  {
   "cell_type": "code",
   "execution_count": 7,
   "id": "37acaca3-f023-4d05-90fe-53b6216d1750",
   "metadata": {},
   "outputs": [
    {
     "data": {
      "text/plain": [
       "Double"
      ]
     },
     "execution_count": 7,
     "metadata": {},
     "output_type": "execute_result"
    }
   ],
   "source": [
    "3.1::class.simpleName"
   ]
  },
  {
   "cell_type": "code",
   "execution_count": 9,
   "id": "27244832-e693-4395-b45e-39e8fcfbfad1",
   "metadata": {},
   "outputs": [
    {
     "data": {
      "text/plain": [
       "Double"
      ]
     },
     "execution_count": 9,
     "metadata": {},
     "output_type": "execute_result"
    }
   ],
   "source": [
    "2.0::class.simpleName"
   ]
  },
  {
   "cell_type": "markdown",
   "id": "8fb4f447-103e-476f-bc40-0781f9044e9a",
   "metadata": {},
   "source": [
    "If you want to force kotlin to interpret a number literal as `Long`, add the prefix `L` to the number literal. If you want to force kotlin to interpret a decimal literal as `Float`, add the prefix `f`."
   ]
  },
  {
   "cell_type": "code",
   "execution_count": 20,
   "id": "fbaa0954-b31b-4044-85f3-647803ffbbe3",
   "metadata": {},
   "outputs": [
    {
     "data": {
      "text/plain": [
       "Long"
      ]
     },
     "execution_count": 20,
     "metadata": {},
     "output_type": "execute_result"
    }
   ],
   "source": [
    "2L::class.simpleName"
   ]
  },
  {
   "cell_type": "code",
   "execution_count": 27,
   "id": "c3123dbc-d558-47eb-a2b4-34b65f7a1fbd",
   "metadata": {},
   "outputs": [
    {
     "data": {
      "text/plain": [
       "Long"
      ]
     },
     "execution_count": 27,
     "metadata": {},
     "output_type": "execute_result"
    }
   ],
   "source": [
    "0xffffffffL::class.simpleName //works with hexadecimal values too"
   ]
  },
  {
   "cell_type": "code",
   "execution_count": 29,
   "id": "7d9f8410-9622-4c84-9770-2543f3ef2a30",
   "metadata": {},
   "outputs": [
    {
     "data": {
      "text/plain": [
       "Float"
      ]
     },
     "execution_count": 29,
     "metadata": {},
     "output_type": "execute_result"
    }
   ],
   "source": [
    "0.0f::class.simpleName"
   ]
  },
  {
   "cell_type": "code",
   "execution_count": 34,
   "id": "9cc43e52-ffa5-4ee8-aa46-2d35113afca4",
   "metadata": {},
   "outputs": [
    {
     "data": {
      "text/plain": [
       "Float"
      ]
     },
     "execution_count": 34,
     "metadata": {},
     "output_type": "execute_result"
    }
   ],
   "source": [
    "(-1f)::class.simpleName"
   ]
  },
  {
   "cell_type": "markdown",
   "id": "4bdff49e-466d-48d6-b21a-4ee908f81104",
   "metadata": {},
   "source": [
    "### Boolean values\n",
    "\n",
    "You can write `Boolean` literals using `true` and `false`. Expression that evaluate into either `true` or `false` are also `Boolean` values"
   ]
  },
  {
   "cell_type": "code",
   "execution_count": 35,
   "id": "a2c882c2-9130-42fb-8d16-b8ddee40200d",
   "metadata": {},
   "outputs": [
    {
     "data": {
      "text/plain": [
       "Boolean"
      ]
     },
     "execution_count": 35,
     "metadata": {},
     "output_type": "execute_result"
    }
   ],
   "source": [
    "true::class.simpleName"
   ]
  },
  {
   "cell_type": "code",
   "execution_count": 36,
   "id": "52dc39a1-8946-47e0-bb79-f28e4de898b2",
   "metadata": {},
   "outputs": [
    {
     "data": {
      "text/plain": [
       "Boolean"
      ]
     },
     "execution_count": 36,
     "metadata": {},
     "output_type": "execute_result"
    }
   ],
   "source": [
    "false::class.simpleName"
   ]
  },
  {
   "cell_type": "code",
   "execution_count": 37,
   "id": "b46f99ee-6e6c-4376-bb87-a503ae26f9bf",
   "metadata": {},
   "outputs": [
    {
     "data": {
      "text/plain": [
       "Boolean"
      ]
     },
     "execution_count": 37,
     "metadata": {},
     "output_type": "execute_result"
    }
   ],
   "source": [
    "(4 > 5)::class.simpleName"
   ]
  },
  {
   "cell_type": "markdown",
   "id": "b140cf95-4d69-440d-81fa-b7d5c2dc6bb2",
   "metadata": {},
   "source": [
    "### Characters\n",
    "\n",
    "Character literals are created by surrounding single characters with single quotes"
   ]
  },
  {
   "cell_type": "code",
   "execution_count": 57,
   "id": "784582bf-aee6-4b69-8460-e3c97e4efda2",
   "metadata": {},
   "outputs": [
    {
     "data": {
      "text/plain": [
       "Char"
      ]
     },
     "execution_count": 57,
     "metadata": {},
     "output_type": "execute_result"
    }
   ],
   "source": [
    "'a'::class.simpleName"
   ]
  },
  {
   "cell_type": "code",
   "execution_count": 58,
   "id": "6718c1ed-6eab-4514-b62c-3a8931456edf",
   "metadata": {},
   "outputs": [
    {
     "data": {
      "text/plain": [
       "Char"
      ]
     },
     "execution_count": 58,
     "metadata": {},
     "output_type": "execute_result"
    }
   ],
   "source": [
    "'2'::class.simpleName"
   ]
  },
  {
   "cell_type": "code",
   "execution_count": 59,
   "id": "03027afa-3c35-4a03-a96f-e1cba3d1b578",
   "metadata": {},
   "outputs": [
    {
     "data": {
      "text/plain": [
       "Char"
      ]
     },
     "execution_count": 59,
     "metadata": {},
     "output_type": "execute_result"
    }
   ],
   "source": [
    "'\\n'::class.simpleName"
   ]
  },
  {
   "cell_type": "markdown",
   "id": "d26ce360-2d0a-4cf3-ab2d-5a5312590ce3",
   "metadata": {},
   "source": [
    "### Operations and type compatibility\n",
    "\n",
    "When combining different types using operations, only some combinations of types are compatible for said operation. Test the following code on your own to see how kotlin handles them:"
   ]
  },
  {
   "cell_type": "code",
   "execution_count": 62,
   "id": "57f3d155-acbc-4cb8-9d0f-4e18fdfbcbfe",
   "metadata": {},
   "outputs": [
    {
     "data": {
      "text/plain": [
       "7.0"
      ]
     },
     "execution_count": 62,
     "metadata": {},
     "output_type": "execute_result"
    }
   ],
   "source": [
    "3 + 4.0"
   ]
  },
  {
   "cell_type": "code",
   "execution_count": 63,
   "id": "b5b810e4-15f5-4a7e-9410-1f1de5806f16",
   "metadata": {},
   "outputs": [
    {
     "data": {
      "text/plain": [
       "3"
      ]
     },
     "execution_count": 63,
     "metadata": {},
     "output_type": "execute_result"
    }
   ],
   "source": [
    "'2' + 1"
   ]
  },
  {
   "cell_type": "code",
   "execution_count": 64,
   "id": "72046b3e-8af4-4a36-9d6e-a35b888ba5c1",
   "metadata": {
    "scrolled": true
   },
   "outputs": [
    {
     "additionalInfo": {
      "colEnd": 4,
      "colStart": 3,
      "lineEnd": 1,
      "lineStart": 1,
      "message": "None of the following functions can be called with the arguments supplied: \npublic final operator fun plus(other: Byte): Int defined in kotlin.Int\npublic final operator fun plus(other: Double): Double defined in kotlin.Int\npublic final operator fun plus(other: Float): Float defined in kotlin.Int\npublic final operator fun plus(other: Int): Int defined in kotlin.Int\npublic final operator fun plus(other: Long): Long defined in kotlin.Int\npublic final operator fun plus(other: Short): Int defined in kotlin.Int",
      "path": "Line_63.jupyter.kts"
     },
     "ename": "org.jetbrains.kotlinx.jupyter.exceptions.ReplCompilerException",
     "evalue": "at Cell In[64], line 1, column 3: None of the following functions can be called with the arguments supplied: \npublic final operator fun plus(other: Byte): Int defined in kotlin.Int\npublic final operator fun plus(other: Double): Double defined in kotlin.Int\npublic final operator fun plus(other: Float): Float defined in kotlin.Int\npublic final operator fun plus(other: Int): Int defined in kotlin.Int\npublic final operator fun plus(other: Long): Long defined in kotlin.Int\npublic final operator fun plus(other: Short): Int defined in kotlin.Int",
     "execution_count": 64,
     "output_type": "error",
     "status": "error",
     "traceback": [
      "org.jetbrains.kotlinx.jupyter.exceptions.ReplCompilerException: at Cell In[64], line 1, column 3: None of the following functions can be called with the arguments supplied: ",
      "public final operator fun plus(other: Byte): Int defined in kotlin.Int",
      "public final operator fun plus(other: Double): Double defined in kotlin.Int",
      "public final operator fun plus(other: Float): Float defined in kotlin.Int",
      "public final operator fun plus(other: Int): Int defined in kotlin.Int",
      "public final operator fun plus(other: Long): Long defined in kotlin.Int",
      "public final operator fun plus(other: Short): Int defined in kotlin.Int",
      "\tat org.jetbrains.kotlinx.jupyter.repl.impl.JupyterCompilerImpl.compileSync(JupyterCompilerImpl.kt:151)",
      "\tat org.jetbrains.kotlinx.jupyter.repl.impl.InternalEvaluatorImpl.eval(InternalEvaluatorImpl.kt:126)",
      "\tat org.jetbrains.kotlinx.jupyter.repl.impl.CellExecutorImpl.execute_L4Nmkdk$lambda$0$0(CellExecutorImpl.kt:80)",
      "\tat org.jetbrains.kotlinx.jupyter.repl.impl.ReplForJupyterImpl.withHost(ReplForJupyterImpl.kt:790)",
      "\tat org.jetbrains.kotlinx.jupyter.repl.impl.CellExecutorImpl.execute-L4Nmkdk(CellExecutorImpl.kt:78)",
      "\tat org.jetbrains.kotlinx.jupyter.repl.execution.CellExecutor.execute-L4Nmkdk$default(CellExecutor.kt:14)",
      "\tat org.jetbrains.kotlinx.jupyter.repl.impl.ReplForJupyterImpl.evaluateUserCode-wNURfNM(ReplForJupyterImpl.kt:615)",
      "\tat org.jetbrains.kotlinx.jupyter.repl.impl.ReplForJupyterImpl.evalExImpl(ReplForJupyterImpl.kt:473)",
      "\tat org.jetbrains.kotlinx.jupyter.repl.impl.ReplForJupyterImpl.evalEx$lambda$0(ReplForJupyterImpl.kt:467)",
      "\tat org.jetbrains.kotlinx.jupyter.repl.impl.ReplForJupyterImpl.withEvalContext(ReplForJupyterImpl.kt:449)",
      "\tat org.jetbrains.kotlinx.jupyter.repl.impl.ReplForJupyterImpl.evalEx(ReplForJupyterImpl.kt:466)",
      "\tat org.jetbrains.kotlinx.jupyter.messaging.IdeCompatibleMessageRequestProcessor.processExecuteRequest$lambda$0$0$0(IdeCompatibleMessageRequestProcessor.kt:161)",
      "\tat org.jetbrains.kotlinx.jupyter.streams.BlockingSubstitutionEngine.withDataSubstitution(SubstitutionEngine.kt:124)",
      "\tat org.jetbrains.kotlinx.jupyter.streams.StreamSubstitutionManager.withSubstitutedStreams(StreamSubstitutionManager.kt:118)",
      "\tat org.jetbrains.kotlinx.jupyter.messaging.IdeCompatibleMessageRequestProcessor.withForkedIn(IdeCompatibleMessageRequestProcessor.kt:351)",
      "\tat org.jetbrains.kotlinx.jupyter.messaging.IdeCompatibleMessageRequestProcessor.evalWithIO$lambda$0$0(IdeCompatibleMessageRequestProcessor.kt:364)",
      "\tat org.jetbrains.kotlinx.jupyter.streams.BlockingSubstitutionEngine.withDataSubstitution(SubstitutionEngine.kt:124)",
      "\tat org.jetbrains.kotlinx.jupyter.streams.StreamSubstitutionManager.withSubstitutedStreams(StreamSubstitutionManager.kt:118)",
      "\tat org.jetbrains.kotlinx.jupyter.messaging.IdeCompatibleMessageRequestProcessor.withForkedErr(IdeCompatibleMessageRequestProcessor.kt:341)",
      "\tat org.jetbrains.kotlinx.jupyter.messaging.IdeCompatibleMessageRequestProcessor.evalWithIO$lambda$0(IdeCompatibleMessageRequestProcessor.kt:363)",
      "\tat org.jetbrains.kotlinx.jupyter.streams.BlockingSubstitutionEngine.withDataSubstitution(SubstitutionEngine.kt:124)",
      "\tat org.jetbrains.kotlinx.jupyter.streams.StreamSubstitutionManager.withSubstitutedStreams(StreamSubstitutionManager.kt:118)",
      "\tat org.jetbrains.kotlinx.jupyter.messaging.IdeCompatibleMessageRequestProcessor.withForkedOut(IdeCompatibleMessageRequestProcessor.kt:334)",
      "\tat org.jetbrains.kotlinx.jupyter.messaging.IdeCompatibleMessageRequestProcessor.evalWithIO(IdeCompatibleMessageRequestProcessor.kt:362)",
      "\tat org.jetbrains.kotlinx.jupyter.messaging.IdeCompatibleMessageRequestProcessor.processExecuteRequest$lambda$0$0(IdeCompatibleMessageRequestProcessor.kt:160)",
      "\tat org.jetbrains.kotlinx.jupyter.execution.JupyterExecutorImpl$Task.execute(JupyterExecutorImpl.kt:41)",
      "\tat org.jetbrains.kotlinx.jupyter.execution.JupyterExecutorImpl.executorThread$lambda$0(JupyterExecutorImpl.kt:81)",
      "\tat kotlin.concurrent.ThreadsKt$thread$thread$1.run(Thread.kt:30)",
      ""
     ]
    }
   ],
   "source": [
    "1 + '4'"
   ]
  },
  {
   "cell_type": "code",
   "execution_count": 65,
   "id": "ade46913-7739-42ef-b93b-3405fe26183d",
   "metadata": {
    "scrolled": true
   },
   "outputs": [
    {
     "additionalInfo": {
      "colEnd": 7,
      "colStart": 6,
      "lineEnd": 1,
      "lineStart": 1,
      "message": "Unresolved reference. None of the following candidates is applicable because of receiver type mismatch: \npublic inline operator fun BigDecimal.plus(other: BigDecimal): BigDecimal defined in kotlin\npublic inline operator fun BigInteger.plus(other: BigInteger): BigInteger defined in kotlin\npublic operator fun <T> Array<TypeVariable(T)>.plus(element: TypeVariable(T)): Array<TypeVariable(T)> defined in kotlin.collections\npublic operator fun <T> Array<TypeVariable(T)>.plus(elements: Array<out TypeVariable(T)>): Array<TypeVariable(T)> defined in kotlin.collections\npublic operator fun <T> Array<TypeVariable(T)>.plus(elements: Collection<TypeVariable(T)>): Array<TypeVariable(T)> defined in kotlin.collections\npublic operator fun BooleanArray.plus(element: Boolean): BooleanArray defined in kotlin.collections\npublic operator fun BooleanArray.plus(elements: BooleanArray): BooleanArray defined in kotlin.collections\npublic operator fun BooleanArray.plus(elements: Collection<Boolean>): BooleanArray defined in kotlin.collections\npublic operator fun ByteArray.plus(element: Byte): ByteArray defined in kotlin.collections\npublic operator fun ByteArray.plus(elements: ByteArray): ByteArray defined in kotlin.collections\npublic operator fun ByteArray.plus(elements: Collection<Byte>): ByteArray defined in kotlin.collections\npublic inline operator fun Char.plus(other: String): String defined in kotlin.text\npublic operator fun CharArray.plus(element: Char): CharArray defined in kotlin.collections\npublic operator fun CharArray.plus(elements: CharArray): CharArray defined in kotlin.collections\npublic operator fun CharArray.plus(elements: Collection<Char>): CharArray defined in kotlin.collections\npublic operator fun DoubleArray.plus(element: Double): DoubleArray defined in kotlin.collections\npublic operator fun DoubleArray.plus(elements: DoubleArray): DoubleArray defined in kotlin.collections\npublic operator fun DoubleArray.plus(elements: Collection<Double>): DoubleArray defined in kotlin.collections\npublic operator fun FloatArray.plus(element: Float): FloatArray defined in kotlin.collections\npublic operator fun FloatArray.plus(elements: FloatArray): FloatArray defined in kotlin.collections\npublic operator fun FloatArray.plus(elements: Collection<Float>): FloatArray defined in kotlin.collections\npublic operator fun IntArray.plus(element: Int): IntArray defined in kotlin.collections\npublic operator fun IntArray.plus(elements: IntArray): IntArray defined in kotlin.collections\npublic operator fun IntArray.plus(elements: Collection<Int>): IntArray defined in kotlin.collections\npublic operator fun LongArray.plus(element: Long): LongArray defined in kotlin.collections\npublic operator fun LongArray.plus(elements: LongArray): LongArray defined in kotlin.collections\npublic operator fun LongArray.plus(elements: Collection<Long>): LongArray defined in kotlin.collections\npublic operator fun ShortArray.plus(element: Short): ShortArray defined in kotlin.collections\npublic operator fun ShortArray.plus(elements: ShortArray): ShortArray defined in kotlin.collections\npublic operator fun ShortArray.plus(elements: Collection<Short>): ShortArray defined in kotlin.collections\npublic operator fun String?.plus(other: Any?): String defined in kotlin\npublic inline operator fun UByteArray.plus(element: UByte): UByteArray defined in kotlin.collections\npublic inline operator fun UByteArray.plus(elements: UByteArray): UByteArray defined in kotlin.collections\npublic operator fun UByteArray.plus(elements: Collection<UByte>): UByteArray defined in kotlin.collections\npublic inline operator fun UIntArray.plus(element: UInt): UIntArray defined in kotlin.collections\npublic inline operator fun UIntArray.plus(elements: UIntArray): UIntArray defined in kotlin.collections\npublic operator fun UIntArray.plus(elements: Collection<UInt>): UIntArray defined in kotlin.collections\npublic inline operator fun ULongArray.plus(element: ULong): ULongArray defined in kotlin.collections\npublic inline operator fun ULongArray.plus(elements: ULongArray): ULongArray defined in kotlin.collections\npublic operator fun ULongArray.plus(elements: Collection<ULong>): ULongArray defined in kotlin.collections\npublic inline operator fun UShortArray.plus(element: UShort): UShortArray defined in kotlin.collections\npublic inline operator fun UShortArray.plus(elements: UShortArray): UShortArray defined in kotlin.collections\npublic operator fun UShortArray.plus(elements: Collection<UShort>): UShortArray defined in kotlin.collections\npublic operator fun <T> Collection<TypeVariable(T)>.plus(element: TypeVariable(T)): List<TypeVariable(T)> defined in kotlin.collections\npublic operator fun <T> Collection<TypeVariable(T)>.plus(elements: Array<out TypeVariable(T)>): List<TypeVariable(T)> defined in kotlin.collections\npublic operator fun <T> Collection<TypeVariable(T)>.plus(elements: Iterable<TypeVariable(T)>): List<TypeVariable(T)> defined in kotlin.collections\npublic operator fun <T> Collection<TypeVariable(T)>.plus(elements: Sequence<TypeVariable(T)>): List<TypeVariable(T)> defined in kotlin.collections\npublic operator fun <T> Iterable<TypeVariable(T)>.plus(element: TypeVariable(T)): List<TypeVariable(T)> defined in kotlin.collections\npublic operator fun <T> Iterable<TypeVariable(T)>.plus(elements: Array<out TypeVariable(T)>): List<TypeVariable(T)> defined in kotlin.collections\npublic operator fun <T> Iterable<TypeVariable(T)>.plus(elements: Iterable<TypeVariable(T)>): List<TypeVariable(T)> defined in kotlin.collections\npublic operator fun <T> Iterable<TypeVariable(T)>.plus(elements: Sequence<TypeVariable(T)>): List<TypeVariable(T)> defined in kotlin.collections\npublic operator fun <K, V> Map<out TypeVariable(K), TypeVariable(V)>.plus(pairs: Array<out Pair<TypeVariable(K), TypeVariable(V)>>): Map<TypeVariable(K), TypeVariable(V)> defined in kotlin.collections\npublic operator fun <K, V> Map<out TypeVariable(K), TypeVariable(V)>.plus(pair: Pair<TypeVariable(K), TypeVariable(V)>): Map<TypeVariable(K), TypeVariable(V)> defined in kotlin.collections\npublic operator fun <K, V> Map<out TypeVariable(K), TypeVariable(V)>.plus(pairs: Iterable<Pair<TypeVariable(K), TypeVariable(V)>>): Map<TypeVariable(K), TypeVariable(V)> defined in kotlin.collections\npublic operator fun <K, V> Map<out TypeVariable(K), TypeVariable(V)>.plus(map: Map<out TypeVariable(K), TypeVariable(V)>): Map<TypeVariable(K), TypeVariable(V)> defined in kotlin.collections\npublic operator fun <K, V> Map<out TypeVariable(K), TypeVariable(V)>.plus(pairs: Sequence<Pair<TypeVariable(K), TypeVariable(V)>>): Map<TypeVariable(K), TypeVariable(V)> defined in kotlin.collections\npublic operator fun <T> Set<TypeVariable(T)>.plus(element: TypeVariable(T)): Set<TypeVariable(T)> defined in kotlin.collections\npublic operator fun <T> Set<TypeVariable(T)>.plus(elements: Array<out TypeVariable(T)>): Set<TypeVariable(T)> defined in kotlin.collections\npublic operator fun <T> Set<TypeVariable(T)>.plus(elements: Iterable<TypeVariable(T)>): Set<TypeVariable(T)> defined in kotlin.collections\npublic operator fun <T> Set<TypeVariable(T)>.plus(elements: Sequence<TypeVariable(T)>): Set<TypeVariable(T)> defined in kotlin.collections\npublic operator fun <T> Sequence<TypeVariable(T)>.plus(element: TypeVariable(T)): Sequence<TypeVariable(T)> defined in kotlin.sequences\npublic operator fun <T> Sequence<TypeVariable(T)>.plus(elements: Array<out TypeVariable(T)>): Sequence<TypeVariable(T)> defined in kotlin.sequences\npublic operator fun <T> Sequence<TypeVariable(T)>.plus(elements: Iterable<TypeVariable(T)>): Sequence<TypeVariable(T)> defined in kotlin.sequences\npublic operator fun <T> Sequence<TypeVariable(T)>.plus(elements: Sequence<TypeVariable(T)>): Sequence<TypeVariable(T)> defined in kotlin.sequences",
      "path": "Line_64.jupyter.kts"
     },
     "ename": "org.jetbrains.kotlinx.jupyter.exceptions.ReplCompilerException",
     "evalue": "at Cell In[65], line 1, column 6: Unresolved reference. None of the following candidates is applicable because of receiver type mismatch: \npublic inline operator fun BigDecimal.plus(other: BigDecimal): BigDecimal defined in kotlin\npublic inline operator fun BigInteger.plus(other: BigInteger): BigInteger defined in kotlin\npublic operator fun <T> Array<TypeVariable(T)>.plus(element: TypeVariable(T)): Array<TypeVariable(T)> defined in kotlin.collections\npublic operator fun <T> Array<TypeVariable(T)>.plus(elements: Array<out TypeVariable(T)>): Array<TypeVariable(T)> defined in kotlin.collections\npublic operator fun <T> Array<TypeVariable(T)>.plus(elements: Collection<TypeVariable(T)>): Array<TypeVariable(T)> defined in kotlin.collections\npublic operator fun BooleanArray.plus(element: Boolean): BooleanArray defined in kotlin.collections\npublic operator fun BooleanArray.plus(elements: BooleanArray): BooleanArray defined in kotlin.collections\npublic operator fun BooleanArray.plus(elements: Collection<Boolean>): BooleanArray defined in kotlin.collections\npublic operator fun ByteArray.plus(element: Byte): ByteArray defined in kotlin.collections\npublic operator fun ByteArray.plus(elements: ByteArray): ByteArray defined in kotlin.collections\npublic operator fun ByteArray.plus(elements: Collection<Byte>): ByteArray defined in kotlin.collections\npublic inline operator fun Char.plus(other: String): String defined in kotlin.text\npublic operator fun CharArray.plus(element: Char): CharArray defined in kotlin.collections\npublic operator fun CharArray.plus(elements: CharArray): CharArray defined in kotlin.collections\npublic operator fun CharArray.plus(elements: Collection<Char>): CharArray defined in kotlin.collections\npublic operator fun DoubleArray.plus(element: Double): DoubleArray defined in kotlin.collections\npublic operator fun DoubleArray.plus(elements: DoubleArray): DoubleArray defined in kotlin.collections\npublic operator fun DoubleArray.plus(elements: Collection<Double>): DoubleArray defined in kotlin.collections\npublic operator fun FloatArray.plus(element: Float): FloatArray defined in kotlin.collections\npublic operator fun FloatArray.plus(elements: FloatArray): FloatArray defined in kotlin.collections\npublic operator fun FloatArray.plus(elements: Collection<Float>): FloatArray defined in kotlin.collections\npublic operator fun IntArray.plus(element: Int): IntArray defined in kotlin.collections\npublic operator fun IntArray.plus(elements: IntArray): IntArray defined in kotlin.collections\npublic operator fun IntArray.plus(elements: Collection<Int>): IntArray defined in kotlin.collections\npublic operator fun LongArray.plus(element: Long): LongArray defined in kotlin.collections\npublic operator fun LongArray.plus(elements: LongArray): LongArray defined in kotlin.collections\npublic operator fun LongArray.plus(elements: Collection<Long>): LongArray defined in kotlin.collections\npublic operator fun ShortArray.plus(element: Short): ShortArray defined in kotlin.collections\npublic operator fun ShortArray.plus(elements: ShortArray): ShortArray defined in kotlin.collections\npublic operator fun ShortArray.plus(elements: Collection<Short>): ShortArray defined in kotlin.collections\npublic operator fun String?.plus(other: Any?): String defined in kotlin\npublic inline operator fun UByteArray.plus(element: UByte): UByteArray defined in kotlin.collections\npublic inline operator fun UByteArray.plus(elements: UByteArray): UByteArray defined in kotlin.collections\npublic operator fun UByteArray.plus(elements: Collection<UByte>): UByteArray defined in kotlin.collections\npublic inline operator fun UIntArray.plus(element: UInt): UIntArray defined in kotlin.collections\npublic inline operator fun UIntArray.plus(elements: UIntArray): UIntArray defined in kotlin.collections\npublic operator fun UIntArray.plus(elements: Collection<UInt>): UIntArray defined in kotlin.collections\npublic inline operator fun ULongArray.plus(element: ULong): ULongArray defined in kotlin.collections\npublic inline operator fun ULongArray.plus(elements: ULongArray): ULongArray defined in kotlin.collections\npublic operator fun ULongArray.plus(elements: Collection<ULong>): ULongArray defined in kotlin.collections\npublic inline operator fun UShortArray.plus(element: UShort): UShortArray defined in kotlin.collections\npublic inline operator fun UShortArray.plus(elements: UShortArray): UShortArray defined in kotlin.collections\npublic operator fun UShortArray.plus(elements: Collection<UShort>): UShortArray defined in kotlin.collections\npublic operator fun <T> Collection<TypeVariable(T)>.plus(element: TypeVariable(T)): List<TypeVariable(T)> defined in kotlin.collections\npublic operator fun <T> Collection<TypeVariable(T)>.plus(elements: Array<out TypeVariable(T)>): List<TypeVariable(T)> defined in kotlin.collections\npublic operator fun <T> Collection<TypeVariable(T)>.plus(elements: Iterable<TypeVariable(T)>): List<TypeVariable(T)> defined in kotlin.collections\npublic operator fun <T> Collection<TypeVariable(T)>.plus(elements: Sequence<TypeVariable(T)>): List<TypeVariable(T)> defined in kotlin.collections\npublic operator fun <T> Iterable<TypeVariable(T)>.plus(element: TypeVariable(T)): List<TypeVariable(T)> defined in kotlin.collections\npublic operator fun <T> Iterable<TypeVariable(T)>.plus(elements: Array<out TypeVariable(T)>): List<TypeVariable(T)> defined in kotlin.collections\npublic operator fun <T> Iterable<TypeVariable(T)>.plus(elements: Iterable<TypeVariable(T)>): List<TypeVariable(T)> defined in kotlin.collections\npublic operator fun <T> Iterable<TypeVariable(T)>.plus(elements: Sequence<TypeVariable(T)>): List<TypeVariable(T)> defined in kotlin.collections\npublic operator fun <K, V> Map<out TypeVariable(K), TypeVariable(V)>.plus(pairs: Array<out Pair<TypeVariable(K), TypeVariable(V)>>): Map<TypeVariable(K), TypeVariable(V)> defined in kotlin.collections\npublic operator fun <K, V> Map<out TypeVariable(K), TypeVariable(V)>.plus(pair: Pair<TypeVariable(K), TypeVariable(V)>): Map<TypeVariable(K), TypeVariable(V)> defined in kotlin.collections\npublic operator fun <K, V> Map<out TypeVariable(K), TypeVariable(V)>.plus(pairs: Iterable<Pair<TypeVariable(K), TypeVariable(V)>>): Map<TypeVariable(K), TypeVariable(V)> defined in kotlin.collections\npublic operator fun <K, V> Map<out TypeVariable(K), TypeVariable(V)>.plus(map: Map<out TypeVariable(K), TypeVariable(V)>): Map<TypeVariable(K), TypeVariable(V)> defined in kotlin.collections\npublic operator fun <K, V> Map<out TypeVariable(K), TypeVariable(V)>.plus(pairs: Sequence<Pair<TypeVariable(K), TypeVariable(V)>>): Map<TypeVariable(K), TypeVariable(V)> defined in kotlin.collections\npublic operator fun <T> Set<TypeVariable(T)>.plus(element: TypeVariable(T)): Set<TypeVariable(T)> defined in kotlin.collections\npublic operator fun <T> Set<TypeVariable(T)>.plus(elements: Array<out TypeVariable(T)>): Set<TypeVariable(T)> defined in kotlin.collections\npublic operator fun <T> Set<TypeVariable(T)>.plus(elements: Iterable<TypeVariable(T)>): Set<TypeVariable(T)> defined in kotlin.collections\npublic operator fun <T> Set<TypeVariable(T)>.plus(elements: Sequence<TypeVariable(T)>): Set<TypeVariable(T)> defined in kotlin.collections\npublic operator fun <T> Sequence<TypeVariable(T)>.plus(element: TypeVariable(T)): Sequence<TypeVariable(T)> defined in kotlin.sequences\npublic operator fun <T> Sequence<TypeVariable(T)>.plus(elements: Array<out TypeVariable(T)>): Sequence<TypeVariable(T)> defined in kotlin.sequences\npublic operator fun <T> Sequence<TypeVariable(T)>.plus(elements: Iterable<TypeVariable(T)>): Sequence<TypeVariable(T)> defined in kotlin.sequences\npublic operator fun <T> Sequence<TypeVariable(T)>.plus(elements: Sequence<TypeVariable(T)>): Sequence<TypeVariable(T)> defined in kotlin.sequences",
     "execution_count": 65,
     "output_type": "error",
     "status": "error",
     "traceback": [
      "org.jetbrains.kotlinx.jupyter.exceptions.ReplCompilerException: at Cell In[65], line 1, column 6: Unresolved reference. None of the following candidates is applicable because of receiver type mismatch: ",
      "public inline operator fun BigDecimal.plus(other: BigDecimal): BigDecimal defined in kotlin",
      "public inline operator fun BigInteger.plus(other: BigInteger): BigInteger defined in kotlin",
      "public operator fun <T> Array<TypeVariable(T)>.plus(element: TypeVariable(T)): Array<TypeVariable(T)> defined in kotlin.collections",
      "public operator fun <T> Array<TypeVariable(T)>.plus(elements: Array<out TypeVariable(T)>): Array<TypeVariable(T)> defined in kotlin.collections",
      "public operator fun <T> Array<TypeVariable(T)>.plus(elements: Collection<TypeVariable(T)>): Array<TypeVariable(T)> defined in kotlin.collections",
      "public operator fun BooleanArray.plus(element: Boolean): BooleanArray defined in kotlin.collections",
      "public operator fun BooleanArray.plus(elements: BooleanArray): BooleanArray defined in kotlin.collections",
      "public operator fun BooleanArray.plus(elements: Collection<Boolean>): BooleanArray defined in kotlin.collections",
      "public operator fun ByteArray.plus(element: Byte): ByteArray defined in kotlin.collections",
      "public operator fun ByteArray.plus(elements: ByteArray): ByteArray defined in kotlin.collections",
      "public operator fun ByteArray.plus(elements: Collection<Byte>): ByteArray defined in kotlin.collections",
      "public inline operator fun Char.plus(other: String): String defined in kotlin.text",
      "public operator fun CharArray.plus(element: Char): CharArray defined in kotlin.collections",
      "public operator fun CharArray.plus(elements: CharArray): CharArray defined in kotlin.collections",
      "public operator fun CharArray.plus(elements: Collection<Char>): CharArray defined in kotlin.collections",
      "public operator fun DoubleArray.plus(element: Double): DoubleArray defined in kotlin.collections",
      "public operator fun DoubleArray.plus(elements: DoubleArray): DoubleArray defined in kotlin.collections",
      "public operator fun DoubleArray.plus(elements: Collection<Double>): DoubleArray defined in kotlin.collections",
      "public operator fun FloatArray.plus(element: Float): FloatArray defined in kotlin.collections",
      "public operator fun FloatArray.plus(elements: FloatArray): FloatArray defined in kotlin.collections",
      "public operator fun FloatArray.plus(elements: Collection<Float>): FloatArray defined in kotlin.collections",
      "public operator fun IntArray.plus(element: Int): IntArray defined in kotlin.collections",
      "public operator fun IntArray.plus(elements: IntArray): IntArray defined in kotlin.collections",
      "public operator fun IntArray.plus(elements: Collection<Int>): IntArray defined in kotlin.collections",
      "public operator fun LongArray.plus(element: Long): LongArray defined in kotlin.collections",
      "public operator fun LongArray.plus(elements: LongArray): LongArray defined in kotlin.collections",
      "public operator fun LongArray.plus(elements: Collection<Long>): LongArray defined in kotlin.collections",
      "public operator fun ShortArray.plus(element: Short): ShortArray defined in kotlin.collections",
      "public operator fun ShortArray.plus(elements: ShortArray): ShortArray defined in kotlin.collections",
      "public operator fun ShortArray.plus(elements: Collection<Short>): ShortArray defined in kotlin.collections",
      "public operator fun String?.plus(other: Any?): String defined in kotlin",
      "public inline operator fun UByteArray.plus(element: UByte): UByteArray defined in kotlin.collections",
      "public inline operator fun UByteArray.plus(elements: UByteArray): UByteArray defined in kotlin.collections",
      "public operator fun UByteArray.plus(elements: Collection<UByte>): UByteArray defined in kotlin.collections",
      "public inline operator fun UIntArray.plus(element: UInt): UIntArray defined in kotlin.collections",
      "public inline operator fun UIntArray.plus(elements: UIntArray): UIntArray defined in kotlin.collections",
      "public operator fun UIntArray.plus(elements: Collection<UInt>): UIntArray defined in kotlin.collections",
      "public inline operator fun ULongArray.plus(element: ULong): ULongArray defined in kotlin.collections",
      "public inline operator fun ULongArray.plus(elements: ULongArray): ULongArray defined in kotlin.collections",
      "public operator fun ULongArray.plus(elements: Collection<ULong>): ULongArray defined in kotlin.collections",
      "public inline operator fun UShortArray.plus(element: UShort): UShortArray defined in kotlin.collections",
      "public inline operator fun UShortArray.plus(elements: UShortArray): UShortArray defined in kotlin.collections",
      "public operator fun UShortArray.plus(elements: Collection<UShort>): UShortArray defined in kotlin.collections",
      "public operator fun <T> Collection<TypeVariable(T)>.plus(element: TypeVariable(T)): List<TypeVariable(T)> defined in kotlin.collections",
      "public operator fun <T> Collection<TypeVariable(T)>.plus(elements: Array<out TypeVariable(T)>): List<TypeVariable(T)> defined in kotlin.collections",
      "public operator fun <T> Collection<TypeVariable(T)>.plus(elements: Iterable<TypeVariable(T)>): List<TypeVariable(T)> defined in kotlin.collections",
      "public operator fun <T> Collection<TypeVariable(T)>.plus(elements: Sequence<TypeVariable(T)>): List<TypeVariable(T)> defined in kotlin.collections",
      "public operator fun <T> Iterable<TypeVariable(T)>.plus(element: TypeVariable(T)): List<TypeVariable(T)> defined in kotlin.collections",
      "public operator fun <T> Iterable<TypeVariable(T)>.plus(elements: Array<out TypeVariable(T)>): List<TypeVariable(T)> defined in kotlin.collections",
      "public operator fun <T> Iterable<TypeVariable(T)>.plus(elements: Iterable<TypeVariable(T)>): List<TypeVariable(T)> defined in kotlin.collections",
      "public operator fun <T> Iterable<TypeVariable(T)>.plus(elements: Sequence<TypeVariable(T)>): List<TypeVariable(T)> defined in kotlin.collections",
      "public operator fun <K, V> Map<out TypeVariable(K), TypeVariable(V)>.plus(pairs: Array<out Pair<TypeVariable(K), TypeVariable(V)>>): Map<TypeVariable(K), TypeVariable(V)> defined in kotlin.collections",
      "public operator fun <K, V> Map<out TypeVariable(K), TypeVariable(V)>.plus(pair: Pair<TypeVariable(K), TypeVariable(V)>): Map<TypeVariable(K), TypeVariable(V)> defined in kotlin.collections",
      "public operator fun <K, V> Map<out TypeVariable(K), TypeVariable(V)>.plus(pairs: Iterable<Pair<TypeVariable(K), TypeVariable(V)>>): Map<TypeVariable(K), TypeVariable(V)> defined in kotlin.collections",
      "public operator fun <K, V> Map<out TypeVariable(K), TypeVariable(V)>.plus(map: Map<out TypeVariable(K), TypeVariable(V)>): Map<TypeVariable(K), TypeVariable(V)> defined in kotlin.collections",
      "public operator fun <K, V> Map<out TypeVariable(K), TypeVariable(V)>.plus(pairs: Sequence<Pair<TypeVariable(K), TypeVariable(V)>>): Map<TypeVariable(K), TypeVariable(V)> defined in kotlin.collections",
      "public operator fun <T> Set<TypeVariable(T)>.plus(element: TypeVariable(T)): Set<TypeVariable(T)> defined in kotlin.collections",
      "public operator fun <T> Set<TypeVariable(T)>.plus(elements: Array<out TypeVariable(T)>): Set<TypeVariable(T)> defined in kotlin.collections",
      "public operator fun <T> Set<TypeVariable(T)>.plus(elements: Iterable<TypeVariable(T)>): Set<TypeVariable(T)> defined in kotlin.collections",
      "public operator fun <T> Set<TypeVariable(T)>.plus(elements: Sequence<TypeVariable(T)>): Set<TypeVariable(T)> defined in kotlin.collections",
      "public operator fun <T> Sequence<TypeVariable(T)>.plus(element: TypeVariable(T)): Sequence<TypeVariable(T)> defined in kotlin.sequences",
      "public operator fun <T> Sequence<TypeVariable(T)>.plus(elements: Array<out TypeVariable(T)>): Sequence<TypeVariable(T)> defined in kotlin.sequences",
      "public operator fun <T> Sequence<TypeVariable(T)>.plus(elements: Iterable<TypeVariable(T)>): Sequence<TypeVariable(T)> defined in kotlin.sequences",
      "public operator fun <T> Sequence<TypeVariable(T)>.plus(elements: Sequence<TypeVariable(T)>): Sequence<TypeVariable(T)> defined in kotlin.sequences",
      "\tat org.jetbrains.kotlinx.jupyter.repl.impl.JupyterCompilerImpl.compileSync(JupyterCompilerImpl.kt:151)",
      "\tat org.jetbrains.kotlinx.jupyter.repl.impl.InternalEvaluatorImpl.eval(InternalEvaluatorImpl.kt:126)",
      "\tat org.jetbrains.kotlinx.jupyter.repl.impl.CellExecutorImpl.execute_L4Nmkdk$lambda$0$0(CellExecutorImpl.kt:80)",
      "\tat org.jetbrains.kotlinx.jupyter.repl.impl.ReplForJupyterImpl.withHost(ReplForJupyterImpl.kt:790)",
      "\tat org.jetbrains.kotlinx.jupyter.repl.impl.CellExecutorImpl.execute-L4Nmkdk(CellExecutorImpl.kt:78)",
      "\tat org.jetbrains.kotlinx.jupyter.repl.execution.CellExecutor.execute-L4Nmkdk$default(CellExecutor.kt:14)",
      "\tat org.jetbrains.kotlinx.jupyter.repl.impl.ReplForJupyterImpl.evaluateUserCode-wNURfNM(ReplForJupyterImpl.kt:615)",
      "\tat org.jetbrains.kotlinx.jupyter.repl.impl.ReplForJupyterImpl.evalExImpl(ReplForJupyterImpl.kt:473)",
      "\tat org.jetbrains.kotlinx.jupyter.repl.impl.ReplForJupyterImpl.evalEx$lambda$0(ReplForJupyterImpl.kt:467)",
      "\tat org.jetbrains.kotlinx.jupyter.repl.impl.ReplForJupyterImpl.withEvalContext(ReplForJupyterImpl.kt:449)",
      "\tat org.jetbrains.kotlinx.jupyter.repl.impl.ReplForJupyterImpl.evalEx(ReplForJupyterImpl.kt:466)",
      "\tat org.jetbrains.kotlinx.jupyter.messaging.IdeCompatibleMessageRequestProcessor.processExecuteRequest$lambda$0$0$0(IdeCompatibleMessageRequestProcessor.kt:161)",
      "\tat org.jetbrains.kotlinx.jupyter.streams.BlockingSubstitutionEngine.withDataSubstitution(SubstitutionEngine.kt:124)",
      "\tat org.jetbrains.kotlinx.jupyter.streams.StreamSubstitutionManager.withSubstitutedStreams(StreamSubstitutionManager.kt:118)",
      "\tat org.jetbrains.kotlinx.jupyter.messaging.IdeCompatibleMessageRequestProcessor.withForkedIn(IdeCompatibleMessageRequestProcessor.kt:351)",
      "\tat org.jetbrains.kotlinx.jupyter.messaging.IdeCompatibleMessageRequestProcessor.evalWithIO$lambda$0$0(IdeCompatibleMessageRequestProcessor.kt:364)",
      "\tat org.jetbrains.kotlinx.jupyter.streams.BlockingSubstitutionEngine.withDataSubstitution(SubstitutionEngine.kt:124)",
      "\tat org.jetbrains.kotlinx.jupyter.streams.StreamSubstitutionManager.withSubstitutedStreams(StreamSubstitutionManager.kt:118)",
      "\tat org.jetbrains.kotlinx.jupyter.messaging.IdeCompatibleMessageRequestProcessor.withForkedErr(IdeCompatibleMessageRequestProcessor.kt:341)",
      "\tat org.jetbrains.kotlinx.jupyter.messaging.IdeCompatibleMessageRequestProcessor.evalWithIO$lambda$0(IdeCompatibleMessageRequestProcessor.kt:363)",
      "\tat org.jetbrains.kotlinx.jupyter.streams.BlockingSubstitutionEngine.withDataSubstitution(SubstitutionEngine.kt:124)",
      "\tat org.jetbrains.kotlinx.jupyter.streams.StreamSubstitutionManager.withSubstitutedStreams(StreamSubstitutionManager.kt:118)",
      "\tat org.jetbrains.kotlinx.jupyter.messaging.IdeCompatibleMessageRequestProcessor.withForkedOut(IdeCompatibleMessageRequestProcessor.kt:334)",
      "\tat org.jetbrains.kotlinx.jupyter.messaging.IdeCompatibleMessageRequestProcessor.evalWithIO(IdeCompatibleMessageRequestProcessor.kt:362)",
      "\tat org.jetbrains.kotlinx.jupyter.messaging.IdeCompatibleMessageRequestProcessor.processExecuteRequest$lambda$0$0(IdeCompatibleMessageRequestProcessor.kt:160)",
      "\tat org.jetbrains.kotlinx.jupyter.execution.JupyterExecutorImpl$Task.execute(JupyterExecutorImpl.kt:41)",
      "\tat org.jetbrains.kotlinx.jupyter.execution.JupyterExecutorImpl.executorThread$lambda$0(JupyterExecutorImpl.kt:81)",
      "\tat kotlin.concurrent.ThreadsKt$thread$thread$1.run(Thread.kt:30)",
      ""
     ]
    }
   ],
   "source": [
    "true + 0"
   ]
  },
  {
   "cell_type": "markdown",
   "id": "d5417d6a-1f89-4fd4-99c8-996bf8d2781b",
   "metadata": {},
   "source": [
    "### Values and Variables\n",
    "\n",
    "Just like other languages, you can assign values or into identifiers. There are two types in kotlin, values (denoted by `val`) and variables (denoted by `var`).\n",
    "\n",
    "Variables are just like any variables in the imperative sense. You can assign values to it and you can reassign new values to it. When declaring `var`s (and `val`s) you must provide it with an assigned value. Without an assigned value, kotlin cannot compile"
   ]
  },
  {
   "cell_type": "code",
   "execution_count": 44,
   "id": "96b28d6b-c10d-437e-bce9-84946180665b",
   "metadata": {},
   "outputs": [],
   "source": [
    "var x = 0\n",
    "x = 1"
   ]
  },
  {
   "cell_type": "code",
   "execution_count": 43,
   "id": "bf8e0d62-e3cc-42c0-b09f-7712499e0f36",
   "metadata": {
    "scrolled": true
   },
   "outputs": [
    {
     "additionalInfo": {
      "colEnd": 9,
      "colStart": 1,
      "lineEnd": 1,
      "lineStart": 1,
      "message": "Abstract property 'y' in non-abstract class 'Line_42_jupyter'",
      "path": "Line_42.jupyter.kts"
     },
     "ename": "org.jetbrains.kotlinx.jupyter.exceptions.ReplCompilerException",
     "evalue": "at Cell In[43], line 1, column 1: Abstract property 'y' in non-abstract class 'Line_42_jupyter'\nat Cell In[43], line 1, column 1: This property must either have a type annotation, be initialized or be delegated",
     "execution_count": 43,
     "output_type": "error",
     "status": "error",
     "traceback": [
      "org.jetbrains.kotlinx.jupyter.exceptions.ReplCompilerException: at Cell In[43], line 1, column 1: Abstract property 'y' in non-abstract class 'Line_42_jupyter'",
      "at Cell In[43], line 1, column 1: This property must either have a type annotation, be initialized or be delegated",
      "\tat org.jetbrains.kotlinx.jupyter.repl.impl.JupyterCompilerImpl.compileSync(JupyterCompilerImpl.kt:151)",
      "\tat org.jetbrains.kotlinx.jupyter.repl.impl.InternalEvaluatorImpl.eval(InternalEvaluatorImpl.kt:126)",
      "\tat org.jetbrains.kotlinx.jupyter.repl.impl.CellExecutorImpl.execute_L4Nmkdk$lambda$0$0(CellExecutorImpl.kt:80)",
      "\tat org.jetbrains.kotlinx.jupyter.repl.impl.ReplForJupyterImpl.withHost(ReplForJupyterImpl.kt:790)",
      "\tat org.jetbrains.kotlinx.jupyter.repl.impl.CellExecutorImpl.execute-L4Nmkdk(CellExecutorImpl.kt:78)",
      "\tat org.jetbrains.kotlinx.jupyter.repl.execution.CellExecutor.execute-L4Nmkdk$default(CellExecutor.kt:14)",
      "\tat org.jetbrains.kotlinx.jupyter.repl.impl.ReplForJupyterImpl.evaluateUserCode-wNURfNM(ReplForJupyterImpl.kt:615)",
      "\tat org.jetbrains.kotlinx.jupyter.repl.impl.ReplForJupyterImpl.evalExImpl(ReplForJupyterImpl.kt:473)",
      "\tat org.jetbrains.kotlinx.jupyter.repl.impl.ReplForJupyterImpl.evalEx$lambda$0(ReplForJupyterImpl.kt:467)",
      "\tat org.jetbrains.kotlinx.jupyter.repl.impl.ReplForJupyterImpl.withEvalContext(ReplForJupyterImpl.kt:449)",
      "\tat org.jetbrains.kotlinx.jupyter.repl.impl.ReplForJupyterImpl.evalEx(ReplForJupyterImpl.kt:466)",
      "\tat org.jetbrains.kotlinx.jupyter.messaging.IdeCompatibleMessageRequestProcessor.processExecuteRequest$lambda$0$0$0(IdeCompatibleMessageRequestProcessor.kt:161)",
      "\tat org.jetbrains.kotlinx.jupyter.streams.BlockingSubstitutionEngine.withDataSubstitution(SubstitutionEngine.kt:124)",
      "\tat org.jetbrains.kotlinx.jupyter.streams.StreamSubstitutionManager.withSubstitutedStreams(StreamSubstitutionManager.kt:118)",
      "\tat org.jetbrains.kotlinx.jupyter.messaging.IdeCompatibleMessageRequestProcessor.withForkedIn(IdeCompatibleMessageRequestProcessor.kt:351)",
      "\tat org.jetbrains.kotlinx.jupyter.messaging.IdeCompatibleMessageRequestProcessor.evalWithIO$lambda$0$0(IdeCompatibleMessageRequestProcessor.kt:364)",
      "\tat org.jetbrains.kotlinx.jupyter.streams.BlockingSubstitutionEngine.withDataSubstitution(SubstitutionEngine.kt:124)",
      "\tat org.jetbrains.kotlinx.jupyter.streams.StreamSubstitutionManager.withSubstitutedStreams(StreamSubstitutionManager.kt:118)",
      "\tat org.jetbrains.kotlinx.jupyter.messaging.IdeCompatibleMessageRequestProcessor.withForkedErr(IdeCompatibleMessageRequestProcessor.kt:341)",
      "\tat org.jetbrains.kotlinx.jupyter.messaging.IdeCompatibleMessageRequestProcessor.evalWithIO$lambda$0(IdeCompatibleMessageRequestProcessor.kt:363)",
      "\tat org.jetbrains.kotlinx.jupyter.streams.BlockingSubstitutionEngine.withDataSubstitution(SubstitutionEngine.kt:124)",
      "\tat org.jetbrains.kotlinx.jupyter.streams.StreamSubstitutionManager.withSubstitutedStreams(StreamSubstitutionManager.kt:118)",
      "\tat org.jetbrains.kotlinx.jupyter.messaging.IdeCompatibleMessageRequestProcessor.withForkedOut(IdeCompatibleMessageRequestProcessor.kt:334)",
      "\tat org.jetbrains.kotlinx.jupyter.messaging.IdeCompatibleMessageRequestProcessor.evalWithIO(IdeCompatibleMessageRequestProcessor.kt:362)",
      "\tat org.jetbrains.kotlinx.jupyter.messaging.IdeCompatibleMessageRequestProcessor.processExecuteRequest$lambda$0$0(IdeCompatibleMessageRequestProcessor.kt:160)",
      "\tat org.jetbrains.kotlinx.jupyter.execution.JupyterExecutorImpl$Task.execute(JupyterExecutorImpl.kt:41)",
      "\tat org.jetbrains.kotlinx.jupyter.execution.JupyterExecutorImpl.executorThread$lambda$0(JupyterExecutorImpl.kt:81)",
      "\tat kotlin.concurrent.ThreadsKt$thread$thread$1.run(Thread.kt:30)",
      ""
     ]
    }
   ],
   "source": [
    "var y"
   ]
  },
  {
   "cell_type": "markdown",
   "id": "dd11dde5-d802-4eeb-8654-cfaf0a272d07",
   "metadata": {},
   "source": [
    "The value assigned to a `var` or `val` allows kotlin to **infer** the type of said `var` or `val`."
   ]
  },
  {
   "cell_type": "code",
   "execution_count": 45,
   "id": "d6752d85-2c33-4c82-bfee-e4a102b894c4",
   "metadata": {},
   "outputs": [
    {
     "data": {
      "text/plain": [
       "Int"
      ]
     },
     "execution_count": 45,
     "metadata": {},
     "output_type": "execute_result"
    }
   ],
   "source": [
    "var y = 2\n",
    "y::class.simpleName"
   ]
  },
  {
   "cell_type": "markdown",
   "id": "1726e5d9-ec2f-4d81-8382-7ef2f8b78537",
   "metadata": {},
   "source": [
    "You can also explicitly declare the type of a `var` or `val` using the following syntax. \n",
    "\n",
    "In some cases kotlin cannot infer the type of a `var` or `val`. This happens when the assigned value is ambiguous or a value cannot be provided (function declarations and abstractions). For these cases, an explicit type definition is required."
   ]
  },
  {
   "cell_type": "code",
   "execution_count": 48,
   "id": "43dc388d-4501-4336-a10c-1581aef28e26",
   "metadata": {},
   "outputs": [],
   "source": [
    "var y: Int = 2"
   ]
  },
  {
   "cell_type": "markdown",
   "id": "d9ca391b-8bb4-4f8a-b9e7-41b42a298a70",
   "metadata": {},
   "source": [
    "Kotlin `val`s are just like `var`s except the values assigned during declaration are final. Kotlin `val`s cannot be reassigned with new values."
   ]
  },
  {
   "cell_type": "code",
   "execution_count": 49,
   "id": "f94138d4-6edd-4255-b1a8-f6baba087a65",
   "metadata": {
    "scrolled": true
   },
   "outputs": [
    {
     "additionalInfo": {
      "colEnd": 2,
      "colStart": 1,
      "lineEnd": 2,
      "lineStart": 2,
      "message": "Val cannot be reassigned",
      "path": "Line_48.jupyter.kts"
     },
     "ename": "org.jetbrains.kotlinx.jupyter.exceptions.ReplCompilerException",
     "evalue": "at Cell In[49], line 2, column 1: Val cannot be reassigned",
     "execution_count": 49,
     "output_type": "error",
     "status": "error",
     "traceback": [
      "org.jetbrains.kotlinx.jupyter.exceptions.ReplCompilerException: at Cell In[49], line 2, column 1: Val cannot be reassigned",
      "\tat org.jetbrains.kotlinx.jupyter.repl.impl.JupyterCompilerImpl.compileSync(JupyterCompilerImpl.kt:151)",
      "\tat org.jetbrains.kotlinx.jupyter.repl.impl.InternalEvaluatorImpl.eval(InternalEvaluatorImpl.kt:126)",
      "\tat org.jetbrains.kotlinx.jupyter.repl.impl.CellExecutorImpl.execute_L4Nmkdk$lambda$0$0(CellExecutorImpl.kt:80)",
      "\tat org.jetbrains.kotlinx.jupyter.repl.impl.ReplForJupyterImpl.withHost(ReplForJupyterImpl.kt:790)",
      "\tat org.jetbrains.kotlinx.jupyter.repl.impl.CellExecutorImpl.execute-L4Nmkdk(CellExecutorImpl.kt:78)",
      "\tat org.jetbrains.kotlinx.jupyter.repl.execution.CellExecutor.execute-L4Nmkdk$default(CellExecutor.kt:14)",
      "\tat org.jetbrains.kotlinx.jupyter.repl.impl.ReplForJupyterImpl.evaluateUserCode-wNURfNM(ReplForJupyterImpl.kt:615)",
      "\tat org.jetbrains.kotlinx.jupyter.repl.impl.ReplForJupyterImpl.evalExImpl(ReplForJupyterImpl.kt:473)",
      "\tat org.jetbrains.kotlinx.jupyter.repl.impl.ReplForJupyterImpl.evalEx$lambda$0(ReplForJupyterImpl.kt:467)",
      "\tat org.jetbrains.kotlinx.jupyter.repl.impl.ReplForJupyterImpl.withEvalContext(ReplForJupyterImpl.kt:449)",
      "\tat org.jetbrains.kotlinx.jupyter.repl.impl.ReplForJupyterImpl.evalEx(ReplForJupyterImpl.kt:466)",
      "\tat org.jetbrains.kotlinx.jupyter.messaging.IdeCompatibleMessageRequestProcessor.processExecuteRequest$lambda$0$0$0(IdeCompatibleMessageRequestProcessor.kt:161)",
      "\tat org.jetbrains.kotlinx.jupyter.streams.BlockingSubstitutionEngine.withDataSubstitution(SubstitutionEngine.kt:124)",
      "\tat org.jetbrains.kotlinx.jupyter.streams.StreamSubstitutionManager.withSubstitutedStreams(StreamSubstitutionManager.kt:118)",
      "\tat org.jetbrains.kotlinx.jupyter.messaging.IdeCompatibleMessageRequestProcessor.withForkedIn(IdeCompatibleMessageRequestProcessor.kt:351)",
      "\tat org.jetbrains.kotlinx.jupyter.messaging.IdeCompatibleMessageRequestProcessor.evalWithIO$lambda$0$0(IdeCompatibleMessageRequestProcessor.kt:364)",
      "\tat org.jetbrains.kotlinx.jupyter.streams.BlockingSubstitutionEngine.withDataSubstitution(SubstitutionEngine.kt:124)",
      "\tat org.jetbrains.kotlinx.jupyter.streams.StreamSubstitutionManager.withSubstitutedStreams(StreamSubstitutionManager.kt:118)",
      "\tat org.jetbrains.kotlinx.jupyter.messaging.IdeCompatibleMessageRequestProcessor.withForkedErr(IdeCompatibleMessageRequestProcessor.kt:341)",
      "\tat org.jetbrains.kotlinx.jupyter.messaging.IdeCompatibleMessageRequestProcessor.evalWithIO$lambda$0(IdeCompatibleMessageRequestProcessor.kt:363)",
      "\tat org.jetbrains.kotlinx.jupyter.streams.BlockingSubstitutionEngine.withDataSubstitution(SubstitutionEngine.kt:124)",
      "\tat org.jetbrains.kotlinx.jupyter.streams.StreamSubstitutionManager.withSubstitutedStreams(StreamSubstitutionManager.kt:118)",
      "\tat org.jetbrains.kotlinx.jupyter.messaging.IdeCompatibleMessageRequestProcessor.withForkedOut(IdeCompatibleMessageRequestProcessor.kt:334)",
      "\tat org.jetbrains.kotlinx.jupyter.messaging.IdeCompatibleMessageRequestProcessor.evalWithIO(IdeCompatibleMessageRequestProcessor.kt:362)",
      "\tat org.jetbrains.kotlinx.jupyter.messaging.IdeCompatibleMessageRequestProcessor.processExecuteRequest$lambda$0$0(IdeCompatibleMessageRequestProcessor.kt:160)",
      "\tat org.jetbrains.kotlinx.jupyter.execution.JupyterExecutorImpl$Task.execute(JupyterExecutorImpl.kt:41)",
      "\tat org.jetbrains.kotlinx.jupyter.execution.JupyterExecutorImpl.executorThread$lambda$0(JupyterExecutorImpl.kt:81)",
      "\tat kotlin.concurrent.ThreadsKt$thread$thread$1.run(Thread.kt:30)",
      ""
     ]
    }
   ],
   "source": [
    "val z = 5\n",
    "z = 4"
   ]
  },
  {
   "cell_type": "markdown",
   "id": "150ecc6e-e7ca-4a29-9954-9ff4ed43e8a4",
   "metadata": {},
   "source": [
    "# Compound Types\n",
    "\n",
    "Compound types are types that are made of other types.\n",
    "\n",
    "### Pair\n",
    "\n",
    "A `Pair` in kotlin is a pair of values. You can create a pair literal using the following syntax:"
   ]
  },
  {
   "cell_type": "code",
   "execution_count": 209,
   "id": "f9ac1a08-1647-4e37-a26c-d58c1014a22e",
   "metadata": {},
   "outputs": [
    {
     "data": {
      "text/plain": [
       "(1, 5)"
      ]
     },
     "execution_count": 209,
     "metadata": {},
     "output_type": "execute_result"
    }
   ],
   "source": [
    "1 to 5"
   ]
  },
  {
   "cell_type": "markdown",
   "id": "41a310a6-ec53-404c-92cc-5cda8fa11fc6",
   "metadata": {},
   "source": [
    "You can access the first value and second value using `first` and `second`"
   ]
  },
  {
   "cell_type": "code",
   "execution_count": 210,
   "id": "3e8c68e3-7bcb-4591-a0ad-c3aa7f57a3df",
   "metadata": {},
   "outputs": [
    {
     "data": {
      "text/plain": [
       "2"
      ]
     },
     "execution_count": 210,
     "metadata": {},
     "output_type": "execute_result"
    }
   ],
   "source": [
    "val point = 2 to 5\n",
    "point.first"
   ]
  },
  {
   "cell_type": "code",
   "execution_count": 211,
   "id": "67c68dc5-2505-49da-ab74-ea19a302c9ae",
   "metadata": {},
   "outputs": [
    {
     "data": {
      "text/plain": [
       "5"
      ]
     },
     "execution_count": 211,
     "metadata": {},
     "output_type": "execute_result"
    }
   ],
   "source": [
    "point.second"
   ]
  },
  {
   "cell_type": "code",
   "execution_count": 213,
   "id": "dbdbc0a6-612b-47d5-aefc-b0b2c6545580",
   "metadata": {},
   "outputs": [
    {
     "data": {
      "text/plain": [
       "true"
      ]
     },
     "execution_count": 213,
     "metadata": {},
     "output_type": "execute_result"
    }
   ],
   "source": [
    "val u = true to 'a' // it can be a mix of any two types\n",
    "u.first"
   ]
  },
  {
   "cell_type": "markdown",
   "id": "bba1a079-10a7-4625-9036-ceb51c23e3d5",
   "metadata": {},
   "source": [
    "you can also use destructuring to separate a pair into two `var`s or `val`s using the following syntax:"
   ]
  },
  {
   "cell_type": "code",
   "execution_count": 217,
   "id": "5cd60378-07a5-48b7-9b17-d236ccbc5bce",
   "metadata": {},
   "outputs": [
    {
     "data": {
      "text/plain": [
       "true"
      ]
     },
     "execution_count": 217,
     "metadata": {},
     "output_type": "execute_result"
    }
   ],
   "source": [
    "val (booleanValue, charValue) = u\n",
    "\n",
    "booleanValue"
   ]
  },
  {
   "cell_type": "code",
   "execution_count": 218,
   "id": "8a2b210d-b52f-4e56-a257-64b2948dceb9",
   "metadata": {},
   "outputs": [
    {
     "data": {
      "text/plain": [
       "a"
      ]
     },
     "execution_count": 218,
     "metadata": {},
     "output_type": "execute_result"
    }
   ],
   "source": [
    "charValue"
   ]
  },
  {
   "cell_type": "markdown",
   "id": "be88e08a-6618-41f5-bd5a-e133e58b01e2",
   "metadata": {},
   "source": [
    "# Collections\n",
    "\n",
    "Collections in kotlin are like specialized arrays. They can hold a series of values and include useful member functions and attributes. \n",
    "\n",
    "### List\n",
    "\n",
    "You can create a list using the builtin `listOf` constructor. The code below declares a variable called number assigned with the list containing the integers `1`, `2`, `3`, and `4` as its elements."
   ]
  },
  {
   "cell_type": "code",
   "execution_count": 32,
   "id": "ecc9bf3e-d131-489c-a502-3d1ce5b7d11c",
   "metadata": {},
   "outputs": [
    {
     "data": {
      "text/plain": [
       "[1, 2, 3, 4]"
      ]
     },
     "execution_count": 32,
     "metadata": {},
     "output_type": "execute_result"
    }
   ],
   "source": [
    "var numbers = listOf(1,2,3,4)\n",
    "numbers"
   ]
  },
  {
   "cell_type": "markdown",
   "id": "7eac6c27-f84e-420b-ad22-757df0c6ba44",
   "metadata": {},
   "source": [
    "When creating an empty list `var` or `val`, kotlin cannot infer the type of the elements of the said empty list. This is a case where you must explicitly declare the type of the of the variable. The syntax below declares that you are creating an empty list of `Int`s"
   ]
  },
  {
   "cell_type": "code",
   "execution_count": 33,
   "id": "bfebb5a1-3135-4496-a441-f8575e1a5ae1",
   "metadata": {},
   "outputs": [
    {
     "data": {
      "text/plain": [
       "[]"
      ]
     },
     "execution_count": 33,
     "metadata": {},
     "output_type": "execute_result"
    }
   ],
   "source": [
    "var emptylist: List<Int> = listOf()\n",
    "emptylist"
   ]
  },
  {
   "cell_type": "markdown",
   "id": "475d459b-ce1c-4e3d-ad16-88aad8cff859",
   "metadata": {},
   "source": [
    "You can check if an element is a member of a Collection using the `in` operator"
   ]
  },
  {
   "cell_type": "code",
   "execution_count": 37,
   "id": "bab94f7a-d16f-40fd-a9f1-50b854ed4e23",
   "metadata": {},
   "outputs": [
    {
     "data": {
      "text/plain": [
       "true"
      ]
     },
     "execution_count": 37,
     "metadata": {},
     "output_type": "execute_result"
    }
   ],
   "source": [
    "3 in numbers"
   ]
  },
  {
   "cell_type": "code",
   "execution_count": 35,
   "id": "c743df4f-a210-468e-8174-f26806232a38",
   "metadata": {},
   "outputs": [
    {
     "data": {
      "text/plain": [
       "false"
      ]
     },
     "execution_count": 35,
     "metadata": {},
     "output_type": "execute_result"
    }
   ],
   "source": [
    "5 in numbers"
   ]
  },
  {
   "cell_type": "markdown",
   "id": "56321ad3-14b0-4ea7-beb4-17693d7240fd",
   "metadata": {},
   "source": [
    "You can concatenate two lists using the `+` operator (as long as the types match)"
   ]
  },
  {
   "cell_type": "code",
   "execution_count": 97,
   "id": "277c9e2e-86de-463d-83dc-c2e6d4f5aa4a",
   "metadata": {},
   "outputs": [
    {
     "data": {
      "text/plain": [
       "[1, 2, 3, 4, 5, 6, 7]"
      ]
     },
     "execution_count": 97,
     "metadata": {},
     "output_type": "execute_result"
    }
   ],
   "source": [
    "listOf(1,2,3,4) + listOf(5,6,7)"
   ]
  },
  {
   "cell_type": "markdown",
   "id": "24af6129-65aa-44dd-a71d-fb4d2dbcbe4a",
   "metadata": {},
   "source": [
    "The following are useful builtin functions and attributes for lists:"
   ]
  },
  {
   "cell_type": "code",
   "execution_count": 6,
   "id": "d4e8ae7a-0293-4bf4-b69b-77a6c765cb99",
   "metadata": {},
   "outputs": [
    {
     "data": {
      "text/plain": [
       "4"
      ]
     },
     "execution_count": 6,
     "metadata": {},
     "output_type": "execute_result"
    }
   ],
   "source": [
    "numbers.size //attribute where the size (number of elements) of the list is stored"
   ]
  },
  {
   "cell_type": "code",
   "execution_count": 7,
   "id": "abd1df18-8370-417d-bffa-7fe00709a58d",
   "metadata": {},
   "outputs": [
    {
     "data": {
      "text/plain": [
       "3"
      ]
     },
     "execution_count": 7,
     "metadata": {},
     "output_type": "execute_result"
    }
   ],
   "source": [
    "numbers.elementAt(2) //returns the element at index 2 (third element)"
   ]
  },
  {
   "cell_type": "markdown",
   "id": "0870cb1b-1d37-4d09-896d-e96e07b3729a",
   "metadata": {},
   "source": [
    "You can also achieve the behavior of `elementAt` at using list indexing:"
   ]
  },
  {
   "cell_type": "code",
   "execution_count": 8,
   "id": "4e37f27f-0b0c-4c13-afe8-ad7c2e65237f",
   "metadata": {},
   "outputs": [
    {
     "data": {
      "text/plain": [
       "3"
      ]
     },
     "execution_count": 8,
     "metadata": {},
     "output_type": "execute_result"
    }
   ],
   "source": [
    "numbers[2]"
   ]
  },
  {
   "cell_type": "markdown",
   "id": "7302ed8e-0b55-4bfc-af8c-59157c017a15",
   "metadata": {},
   "source": [
    "Lists in kotlin are immutable. This means that you cannot change the elements inside it."
   ]
  },
  {
   "cell_type": "code",
   "execution_count": 9,
   "id": "dd063bbd-68c3-4407-b0db-b3fb86c9f760",
   "metadata": {
    "scrolled": true
   },
   "outputs": [
    {
     "additionalInfo": {
      "colEnd": 11,
      "colStart": 1,
      "lineEnd": 1,
      "lineStart": 1,
      "message": "Unresolved reference. None of the following candidates is applicable because of receiver type mismatch: \npublic inline operator fun kotlin.text.StringBuilder /* = java.lang.StringBuilder */.set(index: Int, value: Char): Unit defined in kotlin.text",
      "path": "Line_8.jupyter.kts"
     },
     "ename": "org.jetbrains.kotlinx.jupyter.exceptions.ReplCompilerException",
     "evalue": "at Cell In[9], line 1, column 1: Unresolved reference. None of the following candidates is applicable because of receiver type mismatch: \npublic inline operator fun kotlin.text.StringBuilder /* = java.lang.StringBuilder */.set(index: Int, value: Char): Unit defined in kotlin.text\nat Cell In[9], line 1, column 8: No set method providing array access",
     "execution_count": 9,
     "output_type": "error",
     "status": "error",
     "traceback": [
      "org.jetbrains.kotlinx.jupyter.exceptions.ReplCompilerException: at Cell In[9], line 1, column 1: Unresolved reference. None of the following candidates is applicable because of receiver type mismatch: ",
      "public inline operator fun kotlin.text.StringBuilder /* = java.lang.StringBuilder */.set(index: Int, value: Char): Unit defined in kotlin.text",
      "at Cell In[9], line 1, column 8: No set method providing array access",
      "\tat org.jetbrains.kotlinx.jupyter.repl.impl.JupyterCompilerImpl.compileSync(JupyterCompilerImpl.kt:151)",
      "\tat org.jetbrains.kotlinx.jupyter.repl.impl.InternalEvaluatorImpl.eval(InternalEvaluatorImpl.kt:126)",
      "\tat org.jetbrains.kotlinx.jupyter.repl.impl.CellExecutorImpl.execute_L4Nmkdk$lambda$0$0(CellExecutorImpl.kt:80)",
      "\tat org.jetbrains.kotlinx.jupyter.repl.impl.ReplForJupyterImpl.withHost(ReplForJupyterImpl.kt:790)",
      "\tat org.jetbrains.kotlinx.jupyter.repl.impl.CellExecutorImpl.execute-L4Nmkdk(CellExecutorImpl.kt:78)",
      "\tat org.jetbrains.kotlinx.jupyter.repl.execution.CellExecutor.execute-L4Nmkdk$default(CellExecutor.kt:14)",
      "\tat org.jetbrains.kotlinx.jupyter.repl.impl.ReplForJupyterImpl.evaluateUserCode-wNURfNM(ReplForJupyterImpl.kt:615)",
      "\tat org.jetbrains.kotlinx.jupyter.repl.impl.ReplForJupyterImpl.evalExImpl(ReplForJupyterImpl.kt:473)",
      "\tat org.jetbrains.kotlinx.jupyter.repl.impl.ReplForJupyterImpl.evalEx$lambda$0(ReplForJupyterImpl.kt:467)",
      "\tat org.jetbrains.kotlinx.jupyter.repl.impl.ReplForJupyterImpl.withEvalContext(ReplForJupyterImpl.kt:449)",
      "\tat org.jetbrains.kotlinx.jupyter.repl.impl.ReplForJupyterImpl.evalEx(ReplForJupyterImpl.kt:466)",
      "\tat org.jetbrains.kotlinx.jupyter.messaging.IdeCompatibleMessageRequestProcessor.processExecuteRequest$lambda$0$0$0(IdeCompatibleMessageRequestProcessor.kt:161)",
      "\tat org.jetbrains.kotlinx.jupyter.streams.BlockingSubstitutionEngine.withDataSubstitution(SubstitutionEngine.kt:124)",
      "\tat org.jetbrains.kotlinx.jupyter.streams.StreamSubstitutionManager.withSubstitutedStreams(StreamSubstitutionManager.kt:118)",
      "\tat org.jetbrains.kotlinx.jupyter.messaging.IdeCompatibleMessageRequestProcessor.withForkedIn(IdeCompatibleMessageRequestProcessor.kt:351)",
      "\tat org.jetbrains.kotlinx.jupyter.messaging.IdeCompatibleMessageRequestProcessor.evalWithIO$lambda$0$0(IdeCompatibleMessageRequestProcessor.kt:364)",
      "\tat org.jetbrains.kotlinx.jupyter.streams.BlockingSubstitutionEngine.withDataSubstitution(SubstitutionEngine.kt:124)",
      "\tat org.jetbrains.kotlinx.jupyter.streams.StreamSubstitutionManager.withSubstitutedStreams(StreamSubstitutionManager.kt:118)",
      "\tat org.jetbrains.kotlinx.jupyter.messaging.IdeCompatibleMessageRequestProcessor.withForkedErr(IdeCompatibleMessageRequestProcessor.kt:341)",
      "\tat org.jetbrains.kotlinx.jupyter.messaging.IdeCompatibleMessageRequestProcessor.evalWithIO$lambda$0(IdeCompatibleMessageRequestProcessor.kt:363)",
      "\tat org.jetbrains.kotlinx.jupyter.streams.BlockingSubstitutionEngine.withDataSubstitution(SubstitutionEngine.kt:124)",
      "\tat org.jetbrains.kotlinx.jupyter.streams.StreamSubstitutionManager.withSubstitutedStreams(StreamSubstitutionManager.kt:118)",
      "\tat org.jetbrains.kotlinx.jupyter.messaging.IdeCompatibleMessageRequestProcessor.withForkedOut(IdeCompatibleMessageRequestProcessor.kt:334)",
      "\tat org.jetbrains.kotlinx.jupyter.messaging.IdeCompatibleMessageRequestProcessor.evalWithIO(IdeCompatibleMessageRequestProcessor.kt:362)",
      "\tat org.jetbrains.kotlinx.jupyter.messaging.IdeCompatibleMessageRequestProcessor.processExecuteRequest$lambda$0$0(IdeCompatibleMessageRequestProcessor.kt:160)",
      "\tat org.jetbrains.kotlinx.jupyter.execution.JupyterExecutorImpl$Task.execute(JupyterExecutorImpl.kt:41)",
      "\tat org.jetbrains.kotlinx.jupyter.execution.JupyterExecutorImpl.executorThread$lambda$0(JupyterExecutorImpl.kt:81)",
      "\tat kotlin.concurrent.ThreadsKt$thread$thread$1.run(Thread.kt:30)",
      ""
     ]
    }
   ],
   "source": [
    "numbers[2] = 4"
   ]
  },
  {
   "cell_type": "markdown",
   "id": "c6ea7008-8c49-480f-8401-416922e539d8",
   "metadata": {},
   "source": [
    "But since `number` is a `var`, even if the current list stored inside it is immutable, `number` itself is a variable, meaning `number` itself can be changed."
   ]
  },
  {
   "cell_type": "code",
   "execution_count": 11,
   "id": "a1f794fb-0c77-490e-aace-6adf4b599336",
   "metadata": {},
   "outputs": [
    {
     "data": {
      "text/plain": [
       "[5, 6, 7, 8]"
      ]
     },
     "execution_count": 11,
     "metadata": {},
     "output_type": "execute_result"
    }
   ],
   "source": [
    "numbers = listOf(5,6,7,8)\n",
    "numbers"
   ]
  },
  {
   "cell_type": "markdown",
   "id": "bc6b0679-a5b6-4e51-9e4a-076c1742a235",
   "metadata": {},
   "source": [
    "### MutableList\n",
    "\n",
    "Mutable lists can be created using the `mutableList()` constructor. Like the name suggests, the elements of this type of collection can be changed."
   ]
  },
  {
   "cell_type": "code",
   "execution_count": null,
   "id": "669b247a-518d-4d0d-bce3-627cd4bd1c44",
   "metadata": {},
   "outputs": [],
   "source": [
    "var series = mutableListOf(-1,-2,-3,-4)\n",
    "series"
   ]
  },
  {
   "cell_type": "markdown",
   "id": "1e71ca81-1b7f-4cba-b1fc-7833cb95210f",
   "metadata": {},
   "source": [
    "You can change the elements by reassigning elements accessed through element indexing:"
   ]
  },
  {
   "cell_type": "code",
   "execution_count": 27,
   "id": "c7125b87-7710-4331-846f-8290e548fc3f",
   "metadata": {},
   "outputs": [
    {
     "data": {
      "text/plain": [
       "[-1, 5, -3, -4]"
      ]
     },
     "execution_count": 27,
     "metadata": {},
     "output_type": "execute_result"
    }
   ],
   "source": [
    "series[1] = 5\n",
    "series"
   ]
  },
  {
   "cell_type": "markdown",
   "id": "d0ded714-4866-41c4-b67d-7adb1fad3b2c",
   "metadata": {},
   "source": [
    "You can append elements to the list using the function `add()`"
   ]
  },
  {
   "cell_type": "code",
   "execution_count": 28,
   "id": "ecf524f5-4629-4d3b-aa9b-956f42c4ced8",
   "metadata": {},
   "outputs": [
    {
     "data": {
      "text/plain": [
       "[-1, 5, -3, -4, -5]"
      ]
     },
     "execution_count": 28,
     "metadata": {},
     "output_type": "execute_result"
    }
   ],
   "source": [
    "series.add(-5)\n",
    "series"
   ]
  },
  {
   "cell_type": "markdown",
   "id": "bd70eb1a-bfd0-49c1-9530-e9d527909ce4",
   "metadata": {},
   "source": [
    "You can remove elements using `remove()` (removes the fires occurence of the reference passed in the function) or `removeAt()` (given an index, it removes the lement at said index)"
   ]
  },
  {
   "cell_type": "code",
   "execution_count": 29,
   "id": "9883d0a8-acd4-415b-8c43-72144c687e58",
   "metadata": {},
   "outputs": [
    {
     "data": {
      "text/plain": [
       "[-1, 5, -4, -5]"
      ]
     },
     "execution_count": 29,
     "metadata": {},
     "output_type": "execute_result"
    }
   ],
   "source": [
    "series.remove(-3) //removes the first occurence of -3\n",
    "series"
   ]
  },
  {
   "cell_type": "code",
   "execution_count": 48,
   "id": "e4de3be0-e0fb-4b9b-a9b2-3b66897d06bb",
   "metadata": {},
   "outputs": [
    {
     "data": {
      "text/plain": [
       "[-1, -5]"
      ]
     },
     "execution_count": 48,
     "metadata": {},
     "output_type": "execute_result"
    }
   ],
   "source": [
    "series.removeAt(1) //removes the element at index 1\n",
    "series"
   ]
  },
  {
   "cell_type": "code",
   "execution_count": 49,
   "id": "df87fb67-80ed-478f-b5c0-abf91dad95d9",
   "metadata": {
    "scrolled": true
   },
   "outputs": [
    {
     "additionalInfo": {
      "colEnd": 16,
      "colStart": 15,
      "lineEnd": 1,
      "lineStart": 1,
      "message": "The integer literal does not conform to the expected type IntRange",
      "path": "Line_48.jupyter.kts"
     },
     "ename": "org.jetbrains.kotlinx.jupyter.exceptions.ReplCompilerException",
     "evalue": "at Cell In[49], line 1, column 15: The integer literal does not conform to the expected type IntRange\nat Cell In[49], line 1, column 17: Too many arguments for public fun <T> List<T>.slice(indices: IntRange): List<T> defined in kotlin.collections",
     "execution_count": 49,
     "output_type": "error",
     "status": "error",
     "traceback": [
      "org.jetbrains.kotlinx.jupyter.exceptions.ReplCompilerException: at Cell In[49], line 1, column 15: The integer literal does not conform to the expected type IntRange",
      "at Cell In[49], line 1, column 17: Too many arguments for public fun <T> List<T>.slice(indices: IntRange): List<T> defined in kotlin.collections",
      "\tat org.jetbrains.kotlinx.jupyter.repl.impl.JupyterCompilerImpl.compileSync(JupyterCompilerImpl.kt:151)",
      "\tat org.jetbrains.kotlinx.jupyter.repl.impl.InternalEvaluatorImpl.eval(InternalEvaluatorImpl.kt:126)",
      "\tat org.jetbrains.kotlinx.jupyter.repl.impl.CellExecutorImpl.execute_L4Nmkdk$lambda$0$0(CellExecutorImpl.kt:80)",
      "\tat org.jetbrains.kotlinx.jupyter.repl.impl.ReplForJupyterImpl.withHost(ReplForJupyterImpl.kt:790)",
      "\tat org.jetbrains.kotlinx.jupyter.repl.impl.CellExecutorImpl.execute-L4Nmkdk(CellExecutorImpl.kt:78)",
      "\tat org.jetbrains.kotlinx.jupyter.repl.execution.CellExecutor.execute-L4Nmkdk$default(CellExecutor.kt:14)",
      "\tat org.jetbrains.kotlinx.jupyter.repl.impl.ReplForJupyterImpl.evaluateUserCode-wNURfNM(ReplForJupyterImpl.kt:615)",
      "\tat org.jetbrains.kotlinx.jupyter.repl.impl.ReplForJupyterImpl.evalExImpl(ReplForJupyterImpl.kt:473)",
      "\tat org.jetbrains.kotlinx.jupyter.repl.impl.ReplForJupyterImpl.evalEx$lambda$0(ReplForJupyterImpl.kt:467)",
      "\tat org.jetbrains.kotlinx.jupyter.repl.impl.ReplForJupyterImpl.withEvalContext(ReplForJupyterImpl.kt:449)",
      "\tat org.jetbrains.kotlinx.jupyter.repl.impl.ReplForJupyterImpl.evalEx(ReplForJupyterImpl.kt:466)",
      "\tat org.jetbrains.kotlinx.jupyter.messaging.IdeCompatibleMessageRequestProcessor.processExecuteRequest$lambda$0$0$0(IdeCompatibleMessageRequestProcessor.kt:161)",
      "\tat org.jetbrains.kotlinx.jupyter.streams.BlockingSubstitutionEngine.withDataSubstitution(SubstitutionEngine.kt:124)",
      "\tat org.jetbrains.kotlinx.jupyter.streams.StreamSubstitutionManager.withSubstitutedStreams(StreamSubstitutionManager.kt:118)",
      "\tat org.jetbrains.kotlinx.jupyter.messaging.IdeCompatibleMessageRequestProcessor.withForkedIn(IdeCompatibleMessageRequestProcessor.kt:351)",
      "\tat org.jetbrains.kotlinx.jupyter.messaging.IdeCompatibleMessageRequestProcessor.evalWithIO$lambda$0$0(IdeCompatibleMessageRequestProcessor.kt:364)",
      "\tat org.jetbrains.kotlinx.jupyter.streams.BlockingSubstitutionEngine.withDataSubstitution(SubstitutionEngine.kt:124)",
      "\tat org.jetbrains.kotlinx.jupyter.streams.StreamSubstitutionManager.withSubstitutedStreams(StreamSubstitutionManager.kt:118)",
      "\tat org.jetbrains.kotlinx.jupyter.messaging.IdeCompatibleMessageRequestProcessor.withForkedErr(IdeCompatibleMessageRequestProcessor.kt:341)",
      "\tat org.jetbrains.kotlinx.jupyter.messaging.IdeCompatibleMessageRequestProcessor.evalWithIO$lambda$0(IdeCompatibleMessageRequestProcessor.kt:363)",
      "\tat org.jetbrains.kotlinx.jupyter.streams.BlockingSubstitutionEngine.withDataSubstitution(SubstitutionEngine.kt:124)",
      "\tat org.jetbrains.kotlinx.jupyter.streams.StreamSubstitutionManager.withSubstitutedStreams(StreamSubstitutionManager.kt:118)",
      "\tat org.jetbrains.kotlinx.jupyter.messaging.IdeCompatibleMessageRequestProcessor.withForkedOut(IdeCompatibleMessageRequestProcessor.kt:334)",
      "\tat org.jetbrains.kotlinx.jupyter.messaging.IdeCompatibleMessageRequestProcessor.evalWithIO(IdeCompatibleMessageRequestProcessor.kt:362)",
      "\tat org.jetbrains.kotlinx.jupyter.messaging.IdeCompatibleMessageRequestProcessor.processExecuteRequest$lambda$0$0(IdeCompatibleMessageRequestProcessor.kt:160)",
      "\tat org.jetbrains.kotlinx.jupyter.execution.JupyterExecutorImpl$Task.execute(JupyterExecutorImpl.kt:41)",
      "\tat org.jetbrains.kotlinx.jupyter.execution.JupyterExecutorImpl.executorThread$lambda$0(JupyterExecutorImpl.kt:81)",
      "\tat kotlin.concurrent.ThreadsKt$thread$thread$1.run(Thread.kt:30)",
      ""
     ]
    }
   ],
   "source": [
    "numbers.slice(0,1)"
   ]
  },
  {
   "cell_type": "markdown",
   "id": "fe94f427-9cfb-4051-8055-6bcd26a59875",
   "metadata": {},
   "source": [
    "### IntRange and IntProgression\n",
    "\n",
    "`IntRange`s are collections of series of `Int`s. Using `IntRange`s you can generate a finite series of integers by simply defining the start and finish,"
   ]
  },
  {
   "cell_type": "code",
   "execution_count": 55,
   "id": "4a946e67-394a-45b2-bdae-d4b4a28614a9",
   "metadata": {},
   "outputs": [
    {
     "data": {
      "text/plain": [
       "0..10"
      ]
     },
     "execution_count": 55,
     "metadata": {},
     "output_type": "execute_result"
    }
   ],
   "source": [
    "var range = 0..10\n",
    "range"
   ]
  },
  {
   "cell_type": "code",
   "execution_count": 58,
   "id": "987e53b3-1b53-4b9a-8189-399764fdff28",
   "metadata": {},
   "outputs": [
    {
     "data": {
      "text/plain": [
       "0"
      ]
     },
     "execution_count": 58,
     "metadata": {},
     "output_type": "execute_result"
    }
   ],
   "source": [
    "range.elementAt(0)"
   ]
  },
  {
   "cell_type": "code",
   "execution_count": 59,
   "id": "006c3449-991d-4e0b-a055-efa19759eba0",
   "metadata": {},
   "outputs": [
    {
     "data": {
      "text/plain": [
       "2"
      ]
     },
     "execution_count": 59,
     "metadata": {},
     "output_type": "execute_result"
    }
   ],
   "source": [
    "range.elementAt(2)"
   ]
  },
  {
   "cell_type": "code",
   "execution_count": 61,
   "id": "81c339e1-91e7-404a-8a1b-3df35a580e9f",
   "metadata": {},
   "outputs": [
    {
     "data": {
      "text/plain": [
       "[0, 1, 2, 3, 4, 5, 6, 7, 8, 9, 10]"
      ]
     },
     "execution_count": 61,
     "metadata": {},
     "output_type": "execute_result"
    }
   ],
   "source": [
    "range.toList() // We reveal the elements of the range by generating a list out of it"
   ]
  },
  {
   "cell_type": "markdown",
   "id": "9a4c76e0-da0b-4165-b108-00540cf4bd37",
   "metadata": {},
   "source": [
    "When specifying a step size you will create an `IntProgression` instead. This will allow you to skip some integers "
   ]
  },
  {
   "cell_type": "code",
   "execution_count": 229,
   "id": "30b0c2bc-2410-4ee8-aa4d-178afb8ca21a",
   "metadata": {},
   "outputs": [
    {
     "data": {
      "text/plain": [
       "[-3, -1, 1, 3]"
      ]
     },
     "execution_count": 229,
     "metadata": {},
     "output_type": "execute_result"
    }
   ],
   "source": [
    "(-3..4 step 2).toList()"
   ]
  },
  {
   "cell_type": "code",
   "execution_count": 66,
   "id": "a02a18ce-6cef-4ae5-95ed-264840d52d47",
   "metadata": {},
   "outputs": [
    {
     "data": {
      "text/plain": [
       "[10, 14, 18, 22, 26, 30, 34, 38, 42]"
      ]
     },
     "execution_count": 66,
     "metadata": {},
     "output_type": "execute_result"
    }
   ],
   "source": [
    "(10..45 step 4).toList()"
   ]
  },
  {
   "cell_type": "markdown",
   "id": "a8ccf8d6-545b-4626-8976-73106357c149",
   "metadata": {},
   "source": [
    "You can use `IntRange`s to create sublists out of `List`s and `MutableLists`. Using the builtin `slice()` function you can generate a new list taking only elements specified in the `IntRange` instance passed in `slice()`."
   ]
  },
  {
   "cell_type": "code",
   "execution_count": 73,
   "id": "15b8fbf7-e9fc-4995-a350-7c86e1b5a03b",
   "metadata": {},
   "outputs": [
    {
     "data": {
      "text/plain": [
       "[101, 102, 103, 104]"
      ]
     },
     "execution_count": 73,
     "metadata": {},
     "output_type": "execute_result"
    }
   ],
   "source": [
    "val aList = listOf(101,102,103,104,105,106,107,108,109)\n",
    "aList.slice(0..3) // creates a sublist from index 0 until index 3"
   ]
  },
  {
   "cell_type": "code",
   "execution_count": 113,
   "id": "3fccffd7-e567-4bc3-8609-8ce0f445c4d2",
   "metadata": {},
   "outputs": [
    {
     "data": {
      "text/plain": [
       "[106, 107, 108, 109]"
      ]
     },
     "execution_count": 113,
     "metadata": {},
     "output_type": "execute_result"
    }
   ],
   "source": [
    "aList.slice(5..(aList.size-1)) //creates a sublist from index 5 until the last available index"
   ]
  },
  {
   "cell_type": "code",
   "execution_count": 225,
   "id": "9993844c-78e2-4c97-ac09-1162c52c8dad",
   "metadata": {},
   "outputs": [
    {
     "data": {
      "text/plain": [
       "[109, 107, 105, 103, 101]"
      ]
     },
     "execution_count": 225,
     "metadata": {},
     "output_type": "execute_result"
    }
   ],
   "source": [
    "aList.slice(8 downTo 0 step 2) // to create a decreasing progression use `downTo` instead of `..`"
   ]
  },
  {
   "cell_type": "markdown",
   "id": "c176fba8-82fe-4ac3-b12b-7449b2616396",
   "metadata": {},
   "source": [
    "## Strings\n",
    "\n",
    "`Strings` are special collections where the elements are exclusively `Char`s. Just like in C, `String`s are used to represent text. You can create a `String` by surrounding characters with double quotes."
   ]
  },
  {
   "cell_type": "code",
   "execution_count": 107,
   "id": "c6b312e2-4ed0-436f-bbd0-34441dfbb776",
   "metadata": {},
   "outputs": [
    {
     "data": {
      "text/plain": [
       "this is a string"
      ]
     },
     "execution_count": 107,
     "metadata": {},
     "output_type": "execute_result"
    }
   ],
   "source": [
    "var str = \"this is a string\"\n",
    "str"
   ]
  },
  {
   "cell_type": "code",
   "execution_count": 110,
   "id": "de810567-ed9b-42f6-8802-4a1a3e595459",
   "metadata": {},
   "outputs": [
    {
     "data": {
      "text/plain": [
       "String"
      ]
     },
     "execution_count": 110,
     "metadata": {},
     "output_type": "execute_result"
    }
   ],
   "source": [
    "str::class.simpleName"
   ]
  },
  {
   "cell_type": "markdown",
   "id": "ed029103-5616-40e9-8bc2-49daffb38bc2",
   "metadata": {},
   "source": [
    "You can use a lot of the existing builtin list functions and operations for strings as well"
   ]
  },
  {
   "cell_type": "code",
   "execution_count": 114,
   "id": "551ff354-01aa-4cfb-bb97-92ba046f70e0",
   "metadata": {},
   "outputs": [
    {
     "data": {
      "text/plain": [
       "16"
      ]
     },
     "execution_count": 114,
     "metadata": {},
     "output_type": "execute_result"
    }
   ],
   "source": [
    "str.length // str uses the attribute length as the number of elements"
   ]
  },
  {
   "cell_type": "code",
   "execution_count": 116,
   "id": "8bc360bc-d6b6-4e25-8e0b-ca7c751859f5",
   "metadata": {},
   "outputs": [
    {
     "data": {
      "text/plain": [
       "i"
      ]
     },
     "execution_count": 116,
     "metadata": {},
     "output_type": "execute_result"
    }
   ],
   "source": [
    "str[2] // accessing individual elements"
   ]
  },
  {
   "cell_type": "code",
   "execution_count": 118,
   "id": "9e690cbc-7a78-4b14-b68f-be8230ece065",
   "metadata": {},
   "outputs": [
    {
     "data": {
      "text/plain": [
       "this is a string too."
      ]
     },
     "execution_count": 118,
     "metadata": {},
     "output_type": "execute_result"
    }
   ],
   "source": [
    "str + \" too.\" // concatenation"
   ]
  },
  {
   "cell_type": "code",
   "execution_count": 120,
   "id": "48f60d52-bcf0-41f6-a14f-a879aea85dad",
   "metadata": {},
   "outputs": [
    {
     "data": {
      "text/plain": [
       "true"
      ]
     },
     "execution_count": 120,
     "metadata": {},
     "output_type": "execute_result"
    }
   ],
   "source": [
    "'h' in str"
   ]
  },
  {
   "cell_type": "code",
   "execution_count": 122,
   "id": "9ff0c288-2686-48cd-91ce-d1d94d0db064",
   "metadata": {},
   "outputs": [
    {
     "data": {
      "text/plain": [
       "true"
      ]
     },
     "execution_count": 122,
     "metadata": {},
     "output_type": "execute_result"
    }
   ],
   "source": [
    "\"is a\" in str"
   ]
  },
  {
   "cell_type": "markdown",
   "id": "ed5d132d-03f5-4195-bb29-1b4f262e75ff",
   "metadata": {},
   "source": [
    "Just like `List`s, `String`s are also immutable"
   ]
  },
  {
   "cell_type": "code",
   "execution_count": 123,
   "id": "d46420ee-0e25-48f3-8d10-f8856537ea80",
   "metadata": {
    "scrolled": true
   },
   "outputs": [
    {
     "additionalInfo": {
      "colEnd": 7,
      "colStart": 1,
      "lineEnd": 1,
      "lineStart": 1,
      "message": "Unresolved reference. None of the following candidates is applicable because of receiver type mismatch: \npublic inline operator fun kotlin.text.StringBuilder /* = java.lang.StringBuilder */.set(index: Int, value: Char): Unit defined in kotlin.text",
      "path": "Line_122.jupyter.kts"
     },
     "ename": "org.jetbrains.kotlinx.jupyter.exceptions.ReplCompilerException",
     "evalue": "at Cell In[123], line 1, column 1: Unresolved reference. None of the following candidates is applicable because of receiver type mismatch: \npublic inline operator fun kotlin.text.StringBuilder /* = java.lang.StringBuilder */.set(index: Int, value: Char): Unit defined in kotlin.text\nat Cell In[123], line 1, column 4: No set method providing array access",
     "execution_count": 123,
     "output_type": "error",
     "status": "error",
     "traceback": [
      "org.jetbrains.kotlinx.jupyter.exceptions.ReplCompilerException: at Cell In[123], line 1, column 1: Unresolved reference. None of the following candidates is applicable because of receiver type mismatch: ",
      "public inline operator fun kotlin.text.StringBuilder /* = java.lang.StringBuilder */.set(index: Int, value: Char): Unit defined in kotlin.text",
      "at Cell In[123], line 1, column 4: No set method providing array access",
      "\tat org.jetbrains.kotlinx.jupyter.repl.impl.JupyterCompilerImpl.compileSync(JupyterCompilerImpl.kt:151)",
      "\tat org.jetbrains.kotlinx.jupyter.repl.impl.InternalEvaluatorImpl.eval(InternalEvaluatorImpl.kt:126)",
      "\tat org.jetbrains.kotlinx.jupyter.repl.impl.CellExecutorImpl.execute_L4Nmkdk$lambda$0$0(CellExecutorImpl.kt:80)",
      "\tat org.jetbrains.kotlinx.jupyter.repl.impl.ReplForJupyterImpl.withHost(ReplForJupyterImpl.kt:790)",
      "\tat org.jetbrains.kotlinx.jupyter.repl.impl.CellExecutorImpl.execute-L4Nmkdk(CellExecutorImpl.kt:78)",
      "\tat org.jetbrains.kotlinx.jupyter.repl.execution.CellExecutor.execute-L4Nmkdk$default(CellExecutor.kt:14)",
      "\tat org.jetbrains.kotlinx.jupyter.repl.impl.ReplForJupyterImpl.evaluateUserCode-wNURfNM(ReplForJupyterImpl.kt:615)",
      "\tat org.jetbrains.kotlinx.jupyter.repl.impl.ReplForJupyterImpl.evalExImpl(ReplForJupyterImpl.kt:473)",
      "\tat org.jetbrains.kotlinx.jupyter.repl.impl.ReplForJupyterImpl.evalEx$lambda$0(ReplForJupyterImpl.kt:467)",
      "\tat org.jetbrains.kotlinx.jupyter.repl.impl.ReplForJupyterImpl.withEvalContext(ReplForJupyterImpl.kt:449)",
      "\tat org.jetbrains.kotlinx.jupyter.repl.impl.ReplForJupyterImpl.evalEx(ReplForJupyterImpl.kt:466)",
      "\tat org.jetbrains.kotlinx.jupyter.messaging.IdeCompatibleMessageRequestProcessor.processExecuteRequest$lambda$0$0$0(IdeCompatibleMessageRequestProcessor.kt:161)",
      "\tat org.jetbrains.kotlinx.jupyter.streams.BlockingSubstitutionEngine.withDataSubstitution(SubstitutionEngine.kt:124)",
      "\tat org.jetbrains.kotlinx.jupyter.streams.StreamSubstitutionManager.withSubstitutedStreams(StreamSubstitutionManager.kt:118)",
      "\tat org.jetbrains.kotlinx.jupyter.messaging.IdeCompatibleMessageRequestProcessor.withForkedIn(IdeCompatibleMessageRequestProcessor.kt:351)",
      "\tat org.jetbrains.kotlinx.jupyter.messaging.IdeCompatibleMessageRequestProcessor.evalWithIO$lambda$0$0(IdeCompatibleMessageRequestProcessor.kt:364)",
      "\tat org.jetbrains.kotlinx.jupyter.streams.BlockingSubstitutionEngine.withDataSubstitution(SubstitutionEngine.kt:124)",
      "\tat org.jetbrains.kotlinx.jupyter.streams.StreamSubstitutionManager.withSubstitutedStreams(StreamSubstitutionManager.kt:118)",
      "\tat org.jetbrains.kotlinx.jupyter.messaging.IdeCompatibleMessageRequestProcessor.withForkedErr(IdeCompatibleMessageRequestProcessor.kt:341)",
      "\tat org.jetbrains.kotlinx.jupyter.messaging.IdeCompatibleMessageRequestProcessor.evalWithIO$lambda$0(IdeCompatibleMessageRequestProcessor.kt:363)",
      "\tat org.jetbrains.kotlinx.jupyter.streams.BlockingSubstitutionEngine.withDataSubstitution(SubstitutionEngine.kt:124)",
      "\tat org.jetbrains.kotlinx.jupyter.streams.StreamSubstitutionManager.withSubstitutedStreams(StreamSubstitutionManager.kt:118)",
      "\tat org.jetbrains.kotlinx.jupyter.messaging.IdeCompatibleMessageRequestProcessor.withForkedOut(IdeCompatibleMessageRequestProcessor.kt:334)",
      "\tat org.jetbrains.kotlinx.jupyter.messaging.IdeCompatibleMessageRequestProcessor.evalWithIO(IdeCompatibleMessageRequestProcessor.kt:362)",
      "\tat org.jetbrains.kotlinx.jupyter.messaging.IdeCompatibleMessageRequestProcessor.processExecuteRequest$lambda$0$0(IdeCompatibleMessageRequestProcessor.kt:160)",
      "\tat org.jetbrains.kotlinx.jupyter.execution.JupyterExecutorImpl$Task.execute(JupyterExecutorImpl.kt:41)",
      "\tat org.jetbrains.kotlinx.jupyter.execution.JupyterExecutorImpl.executorThread$lambda$0(JupyterExecutorImpl.kt:81)",
      "\tat kotlin.concurrent.ThreadsKt$thread$thread$1.run(Thread.kt:30)",
      ""
     ]
    }
   ],
   "source": [
    "str[0] = 'b'"
   ]
  },
  {
   "cell_type": "markdown",
   "id": "77a849a6-f8fa-428d-bc63-c4205e841efa",
   "metadata": {},
   "source": [
    "You can print strings to the standard output stream using the buitlin functions `print()` and `println()`, the only difference between these two is that `println()` automatically adds a linebreak (`\\n`)"
   ]
  },
  {
   "cell_type": "code",
   "execution_count": 126,
   "id": "2bb6436c-effd-4ba7-9431-adf37d4bab37",
   "metadata": {},
   "outputs": [
    {
     "name": "stdout",
     "output_type": "stream",
     "text": [
      "this is a\n",
      "string\n"
     ]
    }
   ],
   "source": [
    "print(\"this \")\n",
    "print(\"is\")\n",
    "println(\" a\")\n",
    "println(\"string\")"
   ]
  },
  {
   "cell_type": "markdown",
   "id": "7c223f89-befb-4e4d-9114-c65f0a4e41fa",
   "metadata": {},
   "source": [
    "Using string templates you can easily insert non-`String`s expressions into `String` literals. You can use the `${}` syntax to achieve this:"
   ]
  },
  {
   "cell_type": "code",
   "execution_count": 131,
   "id": "e7ea3b37-7289-4c3c-99bd-1bbed9e52c3c",
   "metadata": {},
   "outputs": [
    {
     "data": {
      "text/plain": [
       "Sum is: 5"
      ]
     },
     "execution_count": 131,
     "metadata": {},
     "output_type": "execute_result"
    }
   ],
   "source": [
    "\"Sum is: ${3 + 2}\""
   ]
  },
  {
   "cell_type": "markdown",
   "id": "762aaef3-9d5b-4e32-8285-72e709c3cd3d",
   "metadata": {},
   "source": [
    "Expressions enclosed inside `${}` are evaluated, converted into `String` representations, and inserted into the string. When inserting `var`s or `val`s you can omit the curly braces:"
   ]
  },
  {
   "cell_type": "code",
   "execution_count": 135,
   "id": "79b9e94a-1f71-4cfd-b3e7-baf44f0e7605",
   "metadata": {},
   "outputs": [
    {
     "data": {
      "text/plain": [
       "List elements:[1, 2, 3], size:3"
      ]
     },
     "execution_count": 135,
     "metadata": {},
     "output_type": "execute_result"
    }
   ],
   "source": [
    "val list = listOf(1,2,3)\n",
    "\n",
    "\"List elements:$list, size:${list.size}\""
   ]
  },
  {
   "cell_type": "markdown",
   "id": "f0e63714-5ce8-478f-aec3-d1012ea0122b",
   "metadata": {},
   "source": [
    "### Map\n",
    "\n",
    "`Map`s are collections of `Pair`s. This datatype models the mapping between two values. In each `Pair` entry, the first value is called the key. You can think of a map as an array but instead of using integers as indices you can use any type as indices. The keys of a map are basically its indices."
   ]
  },
  {
   "cell_type": "code",
   "execution_count": 149,
   "id": "226ef644-5a56-423e-ba7e-2ec4fb12f886",
   "metadata": {},
   "outputs": [
    {
     "data": {
      "text/plain": [
       "{a=1, b=2, x=-1}"
      ]
     },
     "execution_count": 149,
     "metadata": {},
     "output_type": "execute_result"
    }
   ],
   "source": [
    "val m = mapOf('a' to 1, 'b' to 2, 'x' to -1)\n",
    "m"
   ]
  },
  {
   "cell_type": "code",
   "execution_count": 153,
   "id": "c34caa04-8b19-43b3-bd31-ea82d25856ff",
   "metadata": {},
   "outputs": [
    {
     "data": {
      "text/plain": [
       "LinkedHashMap"
      ]
     },
     "execution_count": 153,
     "metadata": {},
     "output_type": "execute_result"
    }
   ],
   "source": [
    "m::class.simpleName"
   ]
  },
  {
   "cell_type": "markdown",
   "id": "a5f16464-3107-4f0c-b7c1-20404bb4889f",
   "metadata": {},
   "source": [
    "When dereferencing using the index operator you can access the each key's associated value."
   ]
  },
  {
   "cell_type": "code",
   "execution_count": 142,
   "id": "215f8898-f00a-4935-8020-0ba5b1d20a77",
   "metadata": {},
   "outputs": [
    {
     "data": {
      "text/plain": [
       "1"
      ]
     },
     "execution_count": 142,
     "metadata": {},
     "output_type": "execute_result"
    }
   ],
   "source": [
    "m['a']"
   ]
  },
  {
   "cell_type": "code",
   "execution_count": 150,
   "id": "d6954383-abb9-4e41-85da-6071d5de6fc5",
   "metadata": {},
   "outputs": [
    {
     "data": {
      "text/plain": [
       "-1"
      ]
     },
     "execution_count": 150,
     "metadata": {},
     "output_type": "execute_result"
    }
   ],
   "source": [
    "m['x']"
   ]
  },
  {
   "cell_type": "markdown",
   "id": "bc8c6e10-fb86-479a-a794-d2449e9fa893",
   "metadata": {},
   "source": [
    "Just like lists you can concatenate two maps using the `+` operator (as long as the types of match). You can also use `size` to find the number of pairs, and `in` to check if a key exists in the map"
   ]
  },
  {
   "cell_type": "code",
   "execution_count": 148,
   "id": "204a900b-ae42-48f3-bf11-4e57a8c10c72",
   "metadata": {},
   "outputs": [
    {
     "data": {
      "text/plain": [
       "{a=1, b=2, x=-1, y=-4}"
      ]
     },
     "execution_count": 148,
     "metadata": {},
     "output_type": "execute_result"
    }
   ],
   "source": [
    "m + mapOf('y' to -4)"
   ]
  },
  {
   "cell_type": "code",
   "execution_count": 154,
   "id": "19376735-274d-486c-b64f-c754118366a1",
   "metadata": {},
   "outputs": [
    {
     "data": {
      "text/plain": [
       "3"
      ]
     },
     "execution_count": 154,
     "metadata": {},
     "output_type": "execute_result"
    }
   ],
   "source": [
    "m.size"
   ]
  },
  {
   "cell_type": "code",
   "execution_count": 156,
   "id": "349c1683-7e36-46be-baed-e2b401e6ba80",
   "metadata": {},
   "outputs": [
    {
     "data": {
      "text/plain": [
       "true"
      ]
     },
     "execution_count": 156,
     "metadata": {},
     "output_type": "execute_result"
    }
   ],
   "source": [
    "'x' in m"
   ]
  },
  {
   "cell_type": "markdown",
   "id": "b7658d54-ac01-4bf7-b47f-65d05adc9ec7",
   "metadata": {},
   "source": [
    "`Map`s are immutable. The entries cannot be changed. If you want a mutable version you can instead use a `MutableMap`:"
   ]
  },
  {
   "cell_type": "code",
   "execution_count": 182,
   "id": "5f3f70ab-4b98-4921-a7df-5f18c2af5301",
   "metadata": {},
   "outputs": [
    {
     "data": {
      "text/plain": [
       "fruit"
      ]
     },
     "execution_count": 182,
     "metadata": {},
     "output_type": "execute_result"
    }
   ],
   "source": [
    "val foodtype = mutableMapOf(\n",
    "    \"apple\" to \"fruit\",\n",
    "    \"tomato\" to \"vegetable\",\n",
    "    \"carrot\" to \"vegetable\",\n",
    ")\n",
    "// the formatting above is optional, it helps with readability\n",
    "\n",
    "val food = \"apple\"\n",
    "foodtype[food]"
   ]
  },
  {
   "cell_type": "markdown",
   "id": "4e7b5854-bf17-41f7-9f31-b69dabd092cb",
   "metadata": {},
   "source": [
    "Since `foodtype` is mutable. You can add change entries using assignment:"
   ]
  },
  {
   "cell_type": "code",
   "execution_count": 183,
   "id": "c6b52bb1-5c59-4010-8932-78e81ee813fa",
   "metadata": {},
   "outputs": [
    {
     "data": {
      "text/plain": [
       "{apple=fruit, tomato=fruit, carrot=vegetable}"
      ]
     },
     "execution_count": 183,
     "metadata": {},
     "output_type": "execute_result"
    }
   ],
   "source": [
    "foodtype[\"tomato\"] = \"fruit\"\n",
    "foodtype"
   ]
  },
  {
   "cell_type": "markdown",
   "id": "5b6a345d-d5b7-4cd4-82de-ff1ca222677e",
   "metadata": {},
   "source": [
    "If you assign on an non-existent key, kotlin will create a new instance with said key:"
   ]
  },
  {
   "cell_type": "code",
   "execution_count": 184,
   "id": "002e3d7e-e52a-40f6-b3fe-037027767a68",
   "metadata": {},
   "outputs": [
    {
     "data": {
      "text/plain": [
       "{apple=fruit, tomato=fruit, carrot=vegetable, soy sauce=condiment}"
      ]
     },
     "execution_count": 184,
     "metadata": {},
     "output_type": "execute_result"
    }
   ],
   "source": [
    "foodtype[\"soy sauce\"] = \"condiment\"\n",
    "foodtype"
   ]
  },
  {
   "cell_type": "markdown",
   "id": "5f4e131c-03f8-40b0-99be-220d0ef0b87f",
   "metadata": {},
   "source": [
    "you can delete using `remove()`"
   ]
  },
  {
   "cell_type": "code",
   "execution_count": 186,
   "id": "726f6010-17ea-4da4-9150-3d57fea7be74",
   "metadata": {},
   "outputs": [
    {
     "data": {
      "text/plain": [
       "{apple=fruit, tomato=fruit, soy sauce=condiment}"
      ]
     },
     "execution_count": 186,
     "metadata": {},
     "output_type": "execute_result"
    }
   ],
   "source": [
    "foodtype.remove(\"carrot\")\n",
    "foodtype"
   ]
  },
  {
   "cell_type": "markdown",
   "id": "df0dab51-057a-4110-8bd2-91ce99b50168",
   "metadata": {},
   "source": [
    "# Selection and Repetition\n",
    "\n",
    "Selection and repetition in kotlin is written similar to c's selection and repetition.\n",
    "\n",
    "### `if`-`else`"
   ]
  },
  {
   "cell_type": "code",
   "execution_count": 158,
   "id": "cb8809fd-8737-4ac0-9b69-86474b0d859d",
   "metadata": {},
   "outputs": [
    {
     "name": "stdout",
     "output_type": "stream",
     "text": [
      "bar"
     ]
    }
   ],
   "source": [
    "if (1 > 3) \n",
    "    print(\"foo\")\n",
    "else\n",
    "    print(\"bar\")"
   ]
  },
  {
   "cell_type": "code",
   "execution_count": 161,
   "id": "95d09493-45b1-4137-bdc7-dc13e03602b6",
   "metadata": {},
   "outputs": [
    {
     "name": "stdout",
     "output_type": "stream",
     "text": [
      "branch 2"
     ]
    }
   ],
   "source": [
    "if (1 > 2) {\n",
    "    print(\"branch 1\")\n",
    "}\n",
    "else if (0 == 0 && 'a' == 'a') {\n",
    "    print(\"branch 2\")\n",
    "}\n",
    "else {\n",
    "    print(\"branch 3\")\n",
    "}"
   ]
  },
  {
   "cell_type": "markdown",
   "id": "d9043954-c392-41ee-8040-4d208e5d724c",
   "metadata": {},
   "source": [
    "### Ternary\n",
    "\n",
    "Kotlin also supports a ternary expression. A ternary expression can evaluate to either one of two possible expressions. If the condition on the ternary expression evaluates into `true` then the entire ternary expression will evaluate into the first expression, and the second expression otherwise."
   ]
  },
  {
   "cell_type": "code",
   "execution_count": 173,
   "id": "ae30b5cf-7d6c-4a41-bd6b-31b04fff1179",
   "metadata": {},
   "outputs": [
    {
     "data": {
      "text/plain": [
       "5"
      ]
     },
     "execution_count": 173,
     "metadata": {},
     "output_type": "execute_result"
    }
   ],
   "source": [
    "val number = -2\n",
    "\n",
    "3 + (if (number > 0) number else (-number))"
   ]
  },
  {
   "cell_type": "markdown",
   "id": "10a859d5-ca42-45a1-abe7-2242b6e020ca",
   "metadata": {},
   "source": [
    "You can also use other `selection` patterns in kotlin using `when` clauses: [kotlin control flow](https://kotlinlang.org/docs/control-flow.html)"
   ]
  },
  {
   "cell_type": "code",
   "execution_count": 171,
   "id": "d31f9629-691e-4dcf-81c4-7a8acaea744d",
   "metadata": {},
   "outputs": [
    {
     "data": {
      "text/plain": [
       "10"
      ]
     },
     "execution_count": 171,
     "metadata": {},
     "output_type": "execute_result"
    }
   ],
   "source": [
    "var sum = 0\n",
    "var i = 0 \n",
    "while (i < 5) {\n",
    "    sum += i\n",
    "    i++\n",
    "}\n",
    "sum"
   ]
  },
  {
   "cell_type": "code",
   "execution_count": 172,
   "id": "b9fdcb02-c184-4022-8a06-e366a1c4d593",
   "metadata": {},
   "outputs": [
    {
     "name": "stdout",
     "output_type": "stream",
     "text": [
      "this"
     ]
    }
   ],
   "source": [
    "do {\n",
    "    print(\"this\")\n",
    "} while (false)"
   ]
  },
  {
   "cell_type": "markdown",
   "id": "935006dc-b99d-4719-8040-654c1e9250a0",
   "metadata": {},
   "source": [
    "### `for` loop\n",
    "\n",
    "A `for` loop in kotlin is a different from for loops in c. Instead of supplying it with the usual initialization-condition-increment, you instead supply it with the membership check operation, `in`, specifically checking if a given `var` (`iter` in the example below) is a member of a given collection (`listOf(1,2,3,4,5)`). If true then kotlin executes enclosed block. The loop initializes `iter` with the first element of the collection (`1` in the example below). After executing one iteration it then reassigns the `iter` to the next element (`2` in the example below) and loops back. It does this until it goes through every element of the collection exactly once."
   ]
  },
  {
   "cell_type": "code",
   "execution_count": 179,
   "id": "bc6f5f64-4ebc-48ae-b59c-1c8e2ca7001d",
   "metadata": {},
   "outputs": [
    {
     "name": "stdout",
     "output_type": "stream",
     "text": [
      "1,2,3,4,5,\n"
     ]
    }
   ],
   "source": [
    "for (iter in listOf(1,2,3,4,5)) \n",
    "    print(\"$iter,\")\n",
    "println()"
   ]
  },
  {
   "cell_type": "markdown",
   "id": "8488e18d-5326-4d9c-a982-090de3f4f18f",
   "metadata": {},
   "source": [
    "For loops work with any collection (and other types that have iterators), including `Map`s:"
   ]
  },
  {
   "cell_type": "code",
   "execution_count": 219,
   "id": "647915fb-72e2-431b-90fc-dbe14b3ccaf9",
   "metadata": {},
   "outputs": [
    {
     "name": "stdout",
     "output_type": "stream",
     "text": [
      "a : 20, 20\n",
      "b : 5, 25\n",
      "c : 30, 55\n"
     ]
    }
   ],
   "source": [
    "val entries : Map<Char,Int> = mapOf('a' to 20, 'b' to 5, 'c' to 30) \n",
    "\n",
    "var cumulativeSum = 0\n",
    "for ((key,value) in entries) { // since elements of a map are pairs, it can be destructured using the syntax here\n",
    "    cumulativeSum += value\n",
    "    println(\"$key : $value, $cumulativeSum\")\n",
    "}"
   ]
  },
  {
   "cell_type": "markdown",
   "id": "3f807479-39ce-4adf-8b79-b494525d0ad6",
   "metadata": {},
   "source": [
    "You can achieve iteration over a range of numbers using when combining for loops with `IntRange` and `IntProgression` collections:"
   ]
  },
  {
   "cell_type": "code",
   "execution_count": 221,
   "id": "ae1e0d1e-f1e4-4317-95d9-29cc77f915ae",
   "metadata": {},
   "outputs": [
    {
     "name": "stdout",
     "output_type": "stream",
     "text": [
      "0,1,2,3,4,5,6,"
     ]
    }
   ],
   "source": [
    "for (i in 0..6)\n",
    "    print(\"$i,\")"
   ]
  },
  {
   "cell_type": "code",
   "execution_count": 226,
   "id": "c181eae5-9d0b-4140-8aef-1ba03b4ee807",
   "metadata": {},
   "outputs": [
    {
     "name": "stdout",
     "output_type": "stream",
     "text": [
      "10,7,4,1,-2,-5,-8,"
     ]
    }
   ],
   "source": [
    "for (i in 10 downTo -10 step 3)\n",
    "    print(\"$i,\")"
   ]
  },
  {
   "cell_type": "markdown",
   "id": "9a1f4a13-0d10-466c-bd62-bf117f1f4fc4",
   "metadata": {},
   "source": [
    "# Functions\n",
    "\n",
    "You can define functions in haskell using the `fun` declaration:"
   ]
  },
  {
   "cell_type": "code",
   "execution_count": 237,
   "id": "2889056b-7df8-4130-868a-8812c015ada6",
   "metadata": {},
   "outputs": [
    {
     "name": "stdout",
     "output_type": "stream",
     "text": [
      "square of 25 is 625"
     ]
    }
   ],
   "source": [
    "fun printSquare(x: Int) {\n",
    "    print(\"square of $x is ${x*x}\")\n",
    "}\n",
    "\n",
    "printSquare(25)"
   ]
  },
  {
   "cell_type": "markdown",
   "id": "19b2c1be-5616-4101-a0fe-1b7f6d2dfa1b",
   "metadata": {},
   "source": [
    "As seen above, when defining functions, kotlin cannot infer the type of the parameters. You must declare parameters with an explicit type.\n",
    "\n",
    "The `printSquare()` function does not return anything. But internally it actually returns a type known as a `Unit`. It's a type that can only have one value. When you omit the return type of a function, kotlin automatically assumes that the return type is `Unit`. \n",
    "\n",
    "When creating functions that return something, you must declare the return type:"
   ]
  },
  {
   "cell_type": "code",
   "execution_count": 238,
   "id": "d0fddcb9-6949-4197-b49e-45a56ca5a901",
   "metadata": {},
   "outputs": [
    {
     "data": {
      "text/plain": [
       "625"
      ]
     },
     "execution_count": 238,
     "metadata": {},
     "output_type": "execute_result"
    }
   ],
   "source": [
    "fun square(x: Int): Int {\n",
    "    return x * x\n",
    "}\n",
    "\n",
    "square(25)"
   ]
  },
  {
   "cell_type": "markdown",
   "id": "347fa821-627b-4919-8e6e-d5a8b86e6b36",
   "metadata": {},
   "source": [
    "### Optional parameters\n",
    "\n",
    "Kotlin functions can be declared with optional parameters. For a parameter to be designated optional, it must be supplied with a default value. In the example `introduce()`, we designate the parameter `isCensored` as optional by appending `= true`."
   ]
  },
  {
   "cell_type": "code",
   "execution_count": 267,
   "id": "082984ad-c93a-4eac-90bf-08c984d47fae",
   "metadata": {},
   "outputs": [],
   "source": [
    "fun introduce(name: String, age: Int, isCensored: Boolean = false) {\n",
    "    if (!isCensored)\n",
    "        println(\"$name, $age\")\n",
    "    else\n",
    "        println(\"redacted\")\n",
    "}"
   ]
  },
  {
   "cell_type": "markdown",
   "id": "feef8603-e454-40ed-b877-32a517a44714",
   "metadata": {},
   "source": [
    "When invoking `introduce()` you can omit `isCensored`, when doing so you `isCensored` will be automatically assigned with the its default value, `true`"
   ]
  },
  {
   "cell_type": "code",
   "execution_count": 266,
   "id": "d12a7204-d2fa-4b1a-8d35-df096ccd247c",
   "metadata": {},
   "outputs": [
    {
     "name": "stdout",
     "output_type": "stream",
     "text": [
      "Rub\n"
     ]
    }
   ],
   "source": [
    "introduce(\"Rub\", 75)"
   ]
  },
  {
   "cell_type": "code",
   "execution_count": 268,
   "id": "8e793182-1689-4e38-b9b5-c1cb4b0d5dc8",
   "metadata": {},
   "outputs": [
    {
     "name": "stdout",
     "output_type": "stream",
     "text": [
      "redacted\n"
     ]
    }
   ],
   "source": [
    "introduce(\"Rub\", 75, true)"
   ]
  },
  {
   "cell_type": "markdown",
   "id": "c7a4030d-312f-466a-b85e-97a3817bf28a",
   "metadata": {},
   "source": [
    "### Named parameters\n",
    "\n",
    "When calling functions, you can rearrange the parameter order by explicitly naming parameters using the following syntax"
   ]
  },
  {
   "cell_type": "code",
   "execution_count": 269,
   "id": "49d2ffb6-5ac7-4afc-b9c5-20e551a6a82a",
   "metadata": {},
   "outputs": [
    {
     "name": "stdout",
     "output_type": "stream",
     "text": [
      "Rub, 90\n"
     ]
    }
   ],
   "source": [
    "introduce(age = 90, name = \"Rub\")"
   ]
  },
  {
   "cell_type": "markdown",
   "id": "920f7b71-f888-40ba-a656-dc0ebeae421f",
   "metadata": {},
   "source": [
    "# Null Safety\n",
    "\n",
    "By default, all types in kotlin cannot have a `null` value. We call these types non-nullable. Kotlin can infer if a specific `var`, `val`, parameter, or function return has the potential to be `null`. In the example below, kotlin infers the value `nullable` as a nullable integers. This is because if database is indexed with a nonexistent key (like `\"invalid\"`), then it cannot supply a value. As a result `database[q]` has a potential to evaluate into `null`"
   ]
  },
  {
   "cell_type": "code",
   "execution_count": 274,
   "id": "d5515fe1-6ef7-4229-977a-c0aa93375e32",
   "metadata": {},
   "outputs": [],
   "source": [
    "val database = mapOf(\"this\" to 1, \"that\" to 2)\n",
    "\n",
    "\n",
    "var q = \"invalid\"\n",
    "val nullable = database[q]"
   ]
  },
  {
   "cell_type": "code",
   "execution_count": 280,
   "id": "b0403ba7-81d2-4d2c-a570-bbac52377ca0",
   "metadata": {},
   "outputs": [
    {
     "data": {
      "text/plain": [
       "null"
      ]
     },
     "execution_count": 280,
     "metadata": {},
     "output_type": "execute_result"
    }
   ],
   "source": [
    "nullable"
   ]
  },
  {
   "cell_type": "markdown",
   "id": "aafd6059-fbfd-4526-8c26-4840b31de95a",
   "metadata": {},
   "source": [
    "On cases where you need to declare that a type is nullable suchas the function return value below. You can append the type with a `?`:"
   ]
  },
  {
   "cell_type": "code",
   "execution_count": 288,
   "id": "f22f07eb-69b1-4358-986c-e128f3fbf36e",
   "metadata": {},
   "outputs": [],
   "source": [
    "fun value(map: Map<String,Int>, key: String): Int? { // removing the `?` will result in a compilation error\n",
    "    return map[key]\n",
    "}"
   ]
  },
  {
   "cell_type": "markdown",
   "id": "1a5520eb-1503-4e9b-9db1-e3ef783efa8c",
   "metadata": {},
   "source": [
    "A nullable type will cause type mismatch errors on some operations. In the example below, `+` wont work with nullable values. Even if the expression does not evaluate into null. The code below wont even compile:"
   ]
  },
  {
   "cell_type": "code",
   "execution_count": 296,
   "id": "8d73bb1c-a96c-417e-a4e7-52a13be34c9d",
   "metadata": {
    "scrolled": true
   },
   "outputs": [
    {
     "additionalInfo": {
      "colEnd": 25,
      "colStart": 24,
      "lineEnd": 1,
      "lineStart": 1,
      "message": "Operator call corresponds to a dot-qualified call 'value(database,\"this\").plus(3)' which is not allowed on a nullable receiver 'value(database,\"this\")'.",
      "path": "Line_295.jupyter.kts"
     },
     "ename": "org.jetbrains.kotlinx.jupyter.exceptions.ReplCompilerException",
     "evalue": "at Cell In[296], line 1, column 24: Operator call corresponds to a dot-qualified call 'value(database,\"this\").plus(3)' which is not allowed on a nullable receiver 'value(database,\"this\")'.",
     "execution_count": 296,
     "output_type": "error",
     "status": "error",
     "traceback": [
      "org.jetbrains.kotlinx.jupyter.exceptions.ReplCompilerException: at Cell In[296], line 1, column 24: Operator call corresponds to a dot-qualified call 'value(database,\"this\").plus(3)' which is not allowed on a nullable receiver 'value(database,\"this\")'.",
      "\tat org.jetbrains.kotlinx.jupyter.repl.impl.JupyterCompilerImpl.compileSync(JupyterCompilerImpl.kt:151)",
      "\tat org.jetbrains.kotlinx.jupyter.repl.impl.InternalEvaluatorImpl.eval(InternalEvaluatorImpl.kt:126)",
      "\tat org.jetbrains.kotlinx.jupyter.repl.impl.CellExecutorImpl.execute_L4Nmkdk$lambda$0$0(CellExecutorImpl.kt:80)",
      "\tat org.jetbrains.kotlinx.jupyter.repl.impl.ReplForJupyterImpl.withHost(ReplForJupyterImpl.kt:790)",
      "\tat org.jetbrains.kotlinx.jupyter.repl.impl.CellExecutorImpl.execute-L4Nmkdk(CellExecutorImpl.kt:78)",
      "\tat org.jetbrains.kotlinx.jupyter.repl.execution.CellExecutor.execute-L4Nmkdk$default(CellExecutor.kt:14)",
      "\tat org.jetbrains.kotlinx.jupyter.repl.impl.ReplForJupyterImpl.evaluateUserCode-wNURfNM(ReplForJupyterImpl.kt:615)",
      "\tat org.jetbrains.kotlinx.jupyter.repl.impl.ReplForJupyterImpl.evalExImpl(ReplForJupyterImpl.kt:473)",
      "\tat org.jetbrains.kotlinx.jupyter.repl.impl.ReplForJupyterImpl.evalEx$lambda$0(ReplForJupyterImpl.kt:467)",
      "\tat org.jetbrains.kotlinx.jupyter.repl.impl.ReplForJupyterImpl.withEvalContext(ReplForJupyterImpl.kt:449)",
      "\tat org.jetbrains.kotlinx.jupyter.repl.impl.ReplForJupyterImpl.evalEx(ReplForJupyterImpl.kt:466)",
      "\tat org.jetbrains.kotlinx.jupyter.messaging.IdeCompatibleMessageRequestProcessor.processExecuteRequest$lambda$0$0$0(IdeCompatibleMessageRequestProcessor.kt:161)",
      "\tat org.jetbrains.kotlinx.jupyter.streams.BlockingSubstitutionEngine.withDataSubstitution(SubstitutionEngine.kt:124)",
      "\tat org.jetbrains.kotlinx.jupyter.streams.StreamSubstitutionManager.withSubstitutedStreams(StreamSubstitutionManager.kt:118)",
      "\tat org.jetbrains.kotlinx.jupyter.messaging.IdeCompatibleMessageRequestProcessor.withForkedIn(IdeCompatibleMessageRequestProcessor.kt:351)",
      "\tat org.jetbrains.kotlinx.jupyter.messaging.IdeCompatibleMessageRequestProcessor.evalWithIO$lambda$0$0(IdeCompatibleMessageRequestProcessor.kt:364)",
      "\tat org.jetbrains.kotlinx.jupyter.streams.BlockingSubstitutionEngine.withDataSubstitution(SubstitutionEngine.kt:124)",
      "\tat org.jetbrains.kotlinx.jupyter.streams.StreamSubstitutionManager.withSubstitutedStreams(StreamSubstitutionManager.kt:118)",
      "\tat org.jetbrains.kotlinx.jupyter.messaging.IdeCompatibleMessageRequestProcessor.withForkedErr(IdeCompatibleMessageRequestProcessor.kt:341)",
      "\tat org.jetbrains.kotlinx.jupyter.messaging.IdeCompatibleMessageRequestProcessor.evalWithIO$lambda$0(IdeCompatibleMessageRequestProcessor.kt:363)",
      "\tat org.jetbrains.kotlinx.jupyter.streams.BlockingSubstitutionEngine.withDataSubstitution(SubstitutionEngine.kt:124)",
      "\tat org.jetbrains.kotlinx.jupyter.streams.StreamSubstitutionManager.withSubstitutedStreams(StreamSubstitutionManager.kt:118)",
      "\tat org.jetbrains.kotlinx.jupyter.messaging.IdeCompatibleMessageRequestProcessor.withForkedOut(IdeCompatibleMessageRequestProcessor.kt:334)",
      "\tat org.jetbrains.kotlinx.jupyter.messaging.IdeCompatibleMessageRequestProcessor.evalWithIO(IdeCompatibleMessageRequestProcessor.kt:362)",
      "\tat org.jetbrains.kotlinx.jupyter.messaging.IdeCompatibleMessageRequestProcessor.processExecuteRequest$lambda$0$0(IdeCompatibleMessageRequestProcessor.kt:160)",
      "\tat org.jetbrains.kotlinx.jupyter.execution.JupyterExecutorImpl$Task.execute(JupyterExecutorImpl.kt:41)",
      "\tat org.jetbrains.kotlinx.jupyter.execution.JupyterExecutorImpl.executorThread$lambda$0(JupyterExecutorImpl.kt:81)",
      "\tat kotlin.concurrent.ThreadsKt$thread$thread$1.run(Thread.kt:30)",
      ""
     ]
    }
   ],
   "source": [
    "value(database,\"this\") + 3"
   ]
  },
  {
   "cell_type": "markdown",
   "id": "d1c7b24c-9cbc-4fd7-9d64-af371295ce1b",
   "metadata": {},
   "source": [
    "To remedy this you can do a null check using selection statements:"
   ]
  },
  {
   "cell_type": "code",
   "execution_count": 299,
   "id": "38f27da8-9f90-4692-a04f-318ad0abc446",
   "metadata": {},
   "outputs": [
    {
     "name": "stdout",
     "output_type": "stream",
     "text": [
      "3"
     ]
    }
   ],
   "source": [
    "val v = value(database, \"this\")\n",
    "if (v == null)\n",
    "    print(v + 3)\n",
    "else\n",
    "    print(0 + 3)"
   ]
  },
  {
   "cell_type": "markdown",
   "id": "434d9307-2f30-4ff2-89de-020b3e9f38d8",
   "metadata": {},
   "source": [
    "You can also use the specialized safe elvis operator `?:` that works like a ternary. Using this operator if the left operand evaluates into `null` the elvis operation evaluates into the left operand. Otherwise, it evalutes into the right operand."
   ]
  },
  {
   "cell_type": "code",
   "execution_count": 300,
   "id": "831dcce6-2d53-4847-b46a-e48fdea1e3df",
   "metadata": {},
   "outputs": [
    {
     "data": {
      "text/plain": [
       "4"
      ]
     },
     "execution_count": 300,
     "metadata": {},
     "output_type": "execute_result"
    }
   ],
   "source": [
    "(value(database, \"this\") ?: 0) + 3"
   ]
  },
  {
   "cell_type": "code",
   "execution_count": 301,
   "id": "4ae83a0a-ee35-481b-9574-1f08b7c388b3",
   "metadata": {},
   "outputs": [
    {
     "data": {
      "text/plain": [
       "3"
      ]
     },
     "execution_count": 301,
     "metadata": {},
     "output_type": "execute_result"
    }
   ],
   "source": [
    "(value(database, \"invalid\") ?: 0) + 3"
   ]
  },
  {
   "cell_type": "markdown",
   "id": "ba69b27b-2c2c-4bae-87a3-431a2c7ff794",
   "metadata": {},
   "source": [
    "You can also avoid returning nullable types by ensuring null safety in the function call. "
   ]
  },
  {
   "cell_type": "code",
   "execution_count": 308,
   "id": "3f751c87-69dd-43f6-b4b1-0a90b6754573",
   "metadata": {},
   "outputs": [],
   "source": [
    "fun value(map: Map<String,Int>, key: String): Int { // removing the `?` will not result in a compilation error\n",
    "    return map[key] ?: 0\n",
    "}"
   ]
  },
  {
   "cell_type": "markdown",
   "id": "25bbfb20-b6ac-4b66-a8ab-1add10016c54",
   "metadata": {},
   "source": [
    "# Imports and Packages\n",
    "\n",
    "To import definitions from external packages you can use the import statement. The line below imports the class `File` found in the package `java.io`."
   ]
  },
  {
   "cell_type": "code",
   "execution_count": 310,
   "id": "2b37f402-07ee-47c5-806c-e0941a6ad689",
   "metadata": {},
   "outputs": [],
   "source": [
    "import java.io.File\n",
    "\n",
    "val f = File(\"test.in\")"
   ]
  },
  {
   "cell_type": "markdown",
   "id": "4b9d4a90-79a6-4e38-a54a-26648b265aed",
   "metadata": {},
   "source": [
    "You can also give imported definitions aliases. This will help when importing definitions from different packages that happene to have the same name:"
   ]
  },
  {
   "cell_type": "code",
   "execution_count": 313,
   "id": "e04c9672-f385-408d-9cfb-5918b0091e90",
   "metadata": {},
   "outputs": [],
   "source": [
    "import java.io.File as FileClass\n",
    "\n",
    "val g = FileClass(\"test.in\")"
   ]
  },
  {
   "cell_type": "markdown",
   "id": "8053e090-fcf3-4e5a-85a5-46534d1dec65",
   "metadata": {},
   "source": [
    "If you want to import everythin on the package `java.io`, you can use the following syntax"
   ]
  },
  {
   "cell_type": "code",
   "execution_count": 322,
   "id": "2de5b3c5-d9a7-44df-8705-ce1152ae6170",
   "metadata": {},
   "outputs": [],
   "source": [
    "import java.io.*\n",
    "\n",
    "val h: InputStream? = null // able import InputStream by importing everything"
   ]
  },
  {
   "cell_type": "markdown",
   "id": "04f860af-a765-4d63-98f3-7d5363c6ed13",
   "metadata": {},
   "source": [
    "One way to make definitions available across different files is by using a `package` declaration above your .kt files\n",
    "\n",
    "```kotlin\n",
    "package library\n",
    "...\n",
    "```\n",
    "\n",
    "All of the definitions (classes, functions global variables) in every `.kt` file with the package header `library` will be included. This allows you to use defintions across different files as long as they are in the same package"
   ]
  },
  {
   "cell_type": "markdown",
   "id": "0731ef4a-365c-4d61-b378-fb2ac1e9c50e",
   "metadata": {},
   "source": [
    "# File writing and reading\n",
    "\n",
    "You can read and write files using the the class `File` in the `java.io*` package."
   ]
  },
  {
   "cell_type": "code",
   "id": "c19d65bf-a0b9-4369-929f-dd7560c2108f",
   "metadata": {
    "ExecuteTime": {
     "end_time": "2025-10-05T16:36:56.100712100Z",
     "start_time": "2025-10-05T16:36:56.019061300Z"
    }
   },
   "source": [
    "import java.io.File\n",
    "\n",
    "val inputFile = File(\"input.in\")"
   ],
   "outputs": [],
   "execution_count": 3
  },
  {
   "cell_type": "markdown",
   "id": "cc919647-fc53-48cf-9ab5-650935f87aed",
   "metadata": {},
   "source": [
    "You can read the entire file using `readText()`"
   ]
  },
  {
   "cell_type": "code",
   "execution_count": 332,
   "id": "db0e3cbe-e095-4366-97be-62d3773b4075",
   "metadata": {},
   "outputs": [
    {
     "data": {
      "text/plain": [
       "content\n",
       "more content\n",
       "foo\n",
       "bar"
      ]
     },
     "execution_count": 332,
     "metadata": {},
     "output_type": "execute_result"
    }
   ],
   "source": [
    "inputFile.readText()"
   ]
  },
  {
   "cell_type": "markdown",
   "id": "4c3f1b92-4642-45ce-bd3d-9afe0232a6fc",
   "metadata": {},
   "source": [
    "You can read the entire file line by line using `readLines()` which stores the contents into a `List<String>` of lines:"
   ]
  },
  {
   "cell_type": "code",
   "execution_count": 336,
   "id": "0074e525-22f3-4831-b340-7e7f6845d27d",
   "metadata": {},
   "outputs": [
    {
     "name": "stdout",
     "output_type": "stream",
     "text": [
      "line: content\n",
      "line: more content\n",
      "line: foo\n",
      "line: bar\n"
     ]
    }
   ],
   "source": [
    "for (line in inputFile.readLines())\n",
    "    println(\"line: $line\")"
   ]
  },
  {
   "cell_type": "markdown",
   "id": "a8b52872-18a2-44a3-94fe-3c1ffbd42789",
   "metadata": {},
   "source": [
    "You can write to a file using `writeText()`"
   ]
  },
  {
   "cell_type": "code",
   "execution_count": 337,
   "id": "3185f341-dec6-4586-99a5-83e9f809bf66",
   "metadata": {},
   "outputs": [],
   "source": [
    "val output = File(\"output.out\")\n",
    "\n",
    "output.writeText(\"foo\")"
   ]
  },
  {
   "cell_type": "markdown",
   "id": "8fa2c3c3-8c6c-4bed-9693-4717077094be",
   "metadata": {},
   "source": [
    "Calling `writeText()` again will replace the current contents."
   ]
  },
  {
   "cell_type": "code",
   "execution_count": 340,
   "id": "7574d2dc-0854-4cdb-9c07-267b32df8e8c",
   "metadata": {},
   "outputs": [],
   "source": [
    "output.writeText(\"bar\")"
   ]
  },
  {
   "cell_type": "markdown",
   "id": "510e0e56-adcb-4180-8a2d-9bf0e300d91a",
   "metadata": {},
   "source": [
    "To append, you can use `appendText()` instead"
   ]
  },
  {
   "cell_type": "code",
   "execution_count": 341,
   "id": "054c90b0-07ea-451d-8b48-0f446b6d7fb7",
   "metadata": {},
   "outputs": [],
   "source": [
    "output.appendText(\" extra content\")"
   ]
  },
  {
   "metadata": {},
   "cell_type": "markdown",
   "source": [
    "# Other Things\n",
    "\n",
    "## LocalDate\n",
    "\n",
    "Kotlin has plenty of classes related to date, one of them is imported from `java.time.LocalDate` which is available in the kotlin standard library.\n",
    "\n",
    "You can create date instances using the following:"
   ],
   "id": "2a4fe27503c590e5"
  },
  {
   "metadata": {
    "ExecuteTime": {
     "end_time": "2025-10-06T20:58:51.778376145Z",
     "start_time": "2025-10-06T20:58:51.628824553Z"
    }
   },
   "cell_type": "code",
   "source": [
    "import java.time.LocalDate\n",
    "\n",
    "LocalDate.of(2023, 5, 11)"
   ],
   "id": "25cf91d296c16eee",
   "outputs": [
    {
     "data": {
      "text/plain": [
       "2023-05-11"
      ]
     },
     "execution_count": 1,
     "metadata": {},
     "output_type": "execute_result"
    }
   ],
   "execution_count": 1
  },
  {
   "metadata": {},
   "cell_type": "markdown",
   "source": "`LocalDate`s can be compared. Using the `<` comparison checks if the left operand comes before the right operand",
   "id": "fd60bd7a690edb1b"
  },
  {
   "metadata": {
    "ExecuteTime": {
     "end_time": "2025-10-06T21:02:09.641843396Z",
     "start_time": "2025-10-06T21:02:09.501052579Z"
    }
   },
   "cell_type": "code",
   "source": "LocalDate.of(2023, 5, 11) < LocalDate.of(2023, 4, 30)",
   "id": "8a93532241ec0a6c",
   "outputs": [
    {
     "data": {
      "text/plain": [
       "false"
      ]
     },
     "execution_count": 5,
     "metadata": {},
     "output_type": "execute_result"
    }
   ],
   "execution_count": 5
  },
  {
   "metadata": {},
   "cell_type": "markdown",
   "source": "You can add or subtract days/weeks/months/years to a `LocalDate`",
   "id": "2144e7338d088a1d"
  },
  {
   "metadata": {
    "ExecuteTime": {
     "end_time": "2025-10-06T21:04:46.440741066Z",
     "start_time": "2025-10-06T21:04:46.352773386Z"
    }
   },
   "cell_type": "code",
   "source": "LocalDate.of(2023, 5, 11).plusDays(44L)",
   "id": "5f86d2f22e7a81cc",
   "outputs": [
    {
     "data": {
      "text/plain": [
       "2023-06-24"
      ]
     },
     "execution_count": 7,
     "metadata": {},
     "output_type": "execute_result"
    }
   ],
   "execution_count": 7
  },
  {
   "metadata": {
    "ExecuteTime": {
     "end_time": "2025-10-06T21:06:33.455819983Z",
     "start_time": "2025-10-06T21:06:33.374874819Z"
    }
   },
   "cell_type": "code",
   "source": "LocalDate.of(2024, 5, 11).minusMonths(3L)",
   "id": "e1e9a9770fd95ed0",
   "outputs": [
    {
     "data": {
      "text/plain": [
       "2024-02-11"
      ]
     },
     "execution_count": 9,
     "metadata": {},
     "output_type": "execute_result"
    }
   ],
   "execution_count": 9
  },
  {
   "metadata": {},
   "cell_type": "markdown",
   "source": "You can subtract `LocalDate`s to obtain the time period between them using `Period`",
   "id": "8c67841745262e1b"
  },
  {
   "metadata": {
    "ExecuteTime": {
     "end_time": "2025-10-06T21:11:32.180340765Z",
     "start_time": "2025-10-06T21:11:31.997569477Z"
    }
   },
   "cell_type": "code",
   "source": [
    "import java.time.Period\n",
    "\n",
    "val period = Period.between(LocalDate.of(2023, 5, 11), LocalDate.of(2023, 2, 28))\n",
    "\n",
    "println(period.years)\n",
    "println(period.months)\n",
    "println(period.days)"
   ],
   "id": "b83f02fb566e66f9",
   "outputs": [
    {
     "name": "stdout",
     "output_type": "stream",
     "text": [
      "0\n",
      "-2\n",
      "-11\n"
     ]
    }
   ],
   "execution_count": 16
  },
  {
   "metadata": {},
   "cell_type": "code",
   "outputs": [],
   "execution_count": null,
   "source": "",
   "id": "7c78cb49750df03e"
  }
 ],
 "metadata": {
  "kernelspec": {
   "display_name": "Kotlin",
   "language": "kotlin",
   "name": "kotlin"
  },
  "language_info": {
   "codemirror_mode": "text/x-kotlin",
   "file_extension": ".kt",
   "mimetype": "text/x-kotlin",
   "name": "kotlin",
   "nbconvert_exporter": "",
   "pygments_lexer": "kotlin",
   "version": "2.2.20-Beta2"
  }
 },
 "nbformat": 4,
 "nbformat_minor": 5
}
