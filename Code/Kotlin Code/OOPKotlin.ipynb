{
 "cells": [
  {
   "cell_type": "markdown",
   "id": "220ae05e-2751-47d5-b3e2-9bb8a82607bd",
   "metadata": {},
   "source": [
    "# Introduction\n",
    "\n",
    "While kotlin is a modern multiparadaigm language. Its supports rich OOP support. In fact kotlin is very strongly OOP flavored. You will notice it in how everythin in kotlin is class.\n",
    "\n",
    "Create kotlin classes and objects/instances\n",
    "Class constructor\n",
    "Establish realization relationships in kotlin\n",
    "Establish specialization relationships in kotlin\n",
    "Explain how different levels of visibility affects access and inheritance in kotlin\n",
    "\n",
    "# Kotlin Classes\n",
    "\n",
    "Creating classes in kotlin is very easy, here's an empty class called `EmptyClass`:"
   ]
  },
  {
   "cell_type": "code",
   "execution_count": 1,
   "id": "78f8c01b-0c5d-4922-a6af-766d1fd7ec6c",
   "metadata": {},
   "outputs": [],
   "source": [
    "class EmptyClass"
   ]
  },
  {
   "cell_type": "markdown",
   "id": "346dba2a-d194-4a7a-b782-8e80ac9f5ce2",
   "metadata": {},
   "source": [
    "> It is conventional to name your classes as nouns that start with capital letters like `EmptyClass`\n",
    "\n",
    "To make classes more interesting, lets put something inside it. You can put methods and attributes inside classes. Everything found inside the `{ }` scope of a class, belongs to that class. Below we have a more interesting class called `VoiceBox`"
   ]
  },
  {
   "cell_type": "code",
   "execution_count": 2,
   "id": "e8c0841b-8233-40e4-99c9-8864d52033cf",
   "metadata": {},
   "outputs": [],
   "source": [
    "class VoiceBox {\n",
    "    fun speak() {\n",
    "        println(\"Hi I'm a voicebox that speaks\")\n",
    "    }\n",
    "}"
   ]
  },
  {
   "cell_type": "markdown",
   "id": "c52262b5-32f4-4f7a-a5e0-f4adacdec717",
   "metadata": {},
   "source": [
    "Inside the scope of the class `VoiceBox` we have the function `speak()`. Since this function is a member of the class `VoiceBox` we also call it a **method**. We say `speak()` is a method of `VoiceBox`\n",
    "\n",
    "To use this class we create an **instance** of `VoiceBox`. We invoke what is know as the **default constructor** of `VoiceBox` using the syntax `VoiceBox()`. The constructor `VoiceBox()` will evaluate into an instance of `VoiceBox`.\n",
    "\n",
    "This constructed instance is assign to the `val` `v`. We call `v` an instance of `VoiceBox` or a `VoiceBox` **object**. To interact with this voicebox object we can call its method `speak()`. We use the dot-reference operator as shown below. This tells kotlin that we are invloking the method `speak()` specifically owned by the instance `v`."
   ]
  },
  {
   "cell_type": "code",
   "execution_count": 3,
   "id": "33385690-c1a3-48f8-bcf1-4c1a75d10376",
   "metadata": {},
   "outputs": [
    {
     "name": "stdout",
     "output_type": "stream",
     "text": [
      "Hi I'm a voicebox that speaks\n"
     ]
    }
   ],
   "source": [
    "val v = VoiceBox()\n",
    "v.speak()"
   ]
  },
  {
   "cell_type": "markdown",
   "id": "c87be289-c097-49e2-bc80-260b1689bfaa",
   "metadata": {},
   "source": [
    "**Classes vs objects**. Classes and objects are similar things. We refer to `v` as a `VoiceBox` object or instance. This is different from the `VoiceBox` class itself. The `VoiceBox` class refers to the definition of what `VoiceBox` objects like `v` can be. There can only be one `VoiceBox` class. On the other hand a `VoiceBox` instance like `v` refers to one of the many possible `VoiceBox` instances that can be created. In the example below we create another `VoiceBox` instance `w`. Right now there is no way to differentiate between these two because all `VoiceBox`es are created the same way. \n",
    "\n",
    "> The distinction between classes may not be important right now (especially in kotlin). But in some language you can create methods that are specifically owned by the class itself rather than the instances of the class. These methods are known as static methods. Kotlin does not happen to support static methods."
   ]
  },
  {
   "cell_type": "code",
   "execution_count": 4,
   "id": "76e2d21d-268f-47d0-8c55-4671ee362943",
   "metadata": {},
   "outputs": [
    {
     "name": "stdout",
     "output_type": "stream",
     "text": [
      "Hi I'm a voicebox that speaks\n"
     ]
    }
   ],
   "source": [
    "val w = VoiceBox()\n",
    "v.speak()"
   ]
  },
  {
   "cell_type": "markdown",
   "id": "188b3736-9837-42fb-bfc8-74d84357bfe6",
   "metadata": {},
   "source": [
    "# Customizing the Constructor\n",
    "\n",
    "All class definitions automatically come with a default constructor. But to add nuance to how instances are created we can change the constructor."
   ]
  },
  {
   "cell_type": "code",
   "execution_count": 5,
   "id": "9e0d7c11-05cb-408e-af32-b63ce342722b",
   "metadata": {},
   "outputs": [],
   "source": [
    "class Robot constructor (var name: String) {\n",
    "    fun talk() {\n",
    "        println(\"Howdy it's me $name\")\n",
    "    }\n",
    "\n",
    "    fun communicate(partner: Robot) {\n",
    "        println(\"Howdy ${partner.name} it's me $name\")\n",
    "    }\n",
    "    \n",
    "}"
   ]
  },
  {
   "cell_type": "markdown",
   "id": "c0f10c5e-d8fe-4247-8aaa-cd30db1f4cbe",
   "metadata": {},
   "source": [
    "In the example above we change our constructor so that when invoked it accepts a string called `name` as a parameter. By adding `name` in the constructor header kotlin automatically creates an **attribute** called `name`. This attribute will recieve the value passed during the construction of `Robot`.\n",
    "\n",
    "The attributes of a specific instance is owned by that specific instance. Using the code below as n example, the `Robot` instance `r1` has its own version of the attribute `name` (accessed through `r1.name()`) which is distinct from `r2`s version of `name`.\n",
    "\n",
    "> Note how inside the function communicate, you refer to an external instance's name attribute using dot-reference (`partner.name`) while referencing an internal attribute is done directly."
   ]
  },
  {
   "cell_type": "code",
   "execution_count": 6,
   "id": "b6def1ca-81cf-4301-a75f-775eaec2e036",
   "metadata": {},
   "outputs": [
    {
     "name": "stdout",
     "output_type": "stream",
     "text": [
      "Bonk\n",
      "Chonk\n"
     ]
    }
   ],
   "source": [
    "val r1 = Robot(\"Bonk\")\n",
    "val r2 = Robot(\"Chonk\")\n",
    "\n",
    "println(r1.name)\n",
    "println(r2.name)"
   ]
  },
  {
   "cell_type": "markdown",
   "id": "ffc5a893-fd79-4cb0-b132-c8e459866e5e",
   "metadata": {},
   "source": [
    "Going back to the class definition of `Robot` you can see the attribute `name` referenced inside the scope of `Robot`. All attributes owned by `Robot` can referenced by any of `Robot`s methods. In fact it can be referenced anywhere inside the `Robot` scope.\n",
    "\n",
    "When you call the methods `talk()` or `communicate()`, the reference `name` can be used without any problem."
   ]
  },
  {
   "cell_type": "code",
   "execution_count": 7,
   "id": "50ac5887-bb83-4c86-bbbe-a506cb5e1415",
   "metadata": {},
   "outputs": [
    {
     "name": "stdout",
     "output_type": "stream",
     "text": [
      "Howdy it's me Bonk\n",
      "Howdy Bonk it's me Chonk\n"
     ]
    }
   ],
   "source": [
    "r1.talk()\n",
    "r2.communicate(r1)"
   ]
  },
  {
   "cell_type": "markdown",
   "id": "5c4929df-39dd-4f44-a2a8-e29f30d68cc6",
   "metadata": {},
   "source": [
    "Since `name` is declared as `var` in the constructor, it can be changed like any variable"
   ]
  },
  {
   "cell_type": "code",
   "execution_count": 8,
   "id": "90a58c1f-8065-4529-a62a-72f4ace4a01d",
   "metadata": {},
   "outputs": [
    {
     "name": "stdout",
     "output_type": "stream",
     "text": [
      "Howdy it's me Donk\n"
     ]
    }
   ],
   "source": [
    "r1.name = \"Donk\"\n",
    "r1.talk()"
   ]
  },
  {
   "cell_type": "code",
   "execution_count": 9,
   "id": "56265997-4ea7-431b-a5e8-b674ab2e4e03",
   "metadata": {},
   "outputs": [
    {
     "name": "stdout",
     "output_type": "stream",
     "text": [
      "0.0\n",
      "0.7\n"
     ]
    }
   ],
   "source": [
    "class RoboticArm (val type: Char) { //if there are no visibility modifiers, the `constructor` keyword can be ommitted\n",
    "    \n",
    "    var position = 0.0f\n",
    "    \n",
    "    fun move(amount: Float) {\n",
    "        position = position + amount\n",
    "    }\n",
    "\n",
    "    \n",
    "    \n",
    "    fun reset() {\n",
    "        position = 0.0f\n",
    "    }\n",
    "\n",
    "}\n",
    "\n",
    "val arm = RoboticArm('A')\n",
    "println(arm.position)\n",
    "arm.move(0.2f)\n",
    "arm.move(0.5f)\n",
    "println(arm.position)"
   ]
  },
  {
   "cell_type": "markdown",
   "id": "dc393d5a-61c3-4ef7-9a76-c0614656e7aa",
   "metadata": {},
   "source": [
    "In some cases you might want to add attributes to your classes without making said attributes as constructor parameters. To do this you simply declare the attribute somewhere inside the class but outside the method bodies. Just like the attribute `position` in the class `RoboticArm` above.\n",
    "\n",
    "You can only place declarations and definitions in the class defintion scope. You cannot put runnable code. If you want to run some code during object construction you can create an `init` block. All of the code inside an `init` block will be executed during the constructor invocation."
   ]
  },
  {
   "cell_type": "code",
   "execution_count": 10,
   "id": "6b6ff8da-2e63-41e9-9720-df0a0ae90d03",
   "metadata": {},
   "outputs": [
    {
     "name": "stdout",
     "output_type": "stream",
     "text": [
      "startup.\n",
      "cleaning sensor...\n",
      "cleaning complete\n"
     ]
    }
   ],
   "source": [
    "class Camera {\n",
    "    \n",
    "    init {\n",
    "        println(\"startup.\")\n",
    "        cleanSensor()\n",
    "    }\n",
    "\n",
    "    fun cleanSensor() {\n",
    "        println(\"cleaning sensor...\")\n",
    "        println(\"cleaning complete\")\n",
    "    }\n",
    "\n",
    "}\n",
    "val cam = Camera()"
   ]
  },
  {
   "cell_type": "markdown",
   "id": "972c9cea-b630-4367-87da-5feb3cab0498",
   "metadata": {},
   "source": [
    "You can also **overload** the class's constructor in kotlin. To do this you simply define a new constructor block with a different set of parameters. The constructor in the class header (beside the class name) is called the primary constructor while all other constructors are know as secondary constructors.\n",
    "\n",
    "You can read more aboth secondary constructors here: [Constructors](https://kotlinlang.org/docs/classes.html#constructors)"
   ]
  },
  {
   "cell_type": "code",
   "execution_count": 11,
   "id": "4d42f6c5-6a78-44b2-b8a9-dcb9dbf10e05",
   "metadata": {},
   "outputs": [],
   "source": [
    "class Person (val name: String) {\n",
    "    constructor (firstname: String, lastname: String) : this(\"$firstname $lastname\")\n",
    "}"
   ]
  },
  {
   "cell_type": "markdown",
   "id": "9a3f09bc-9174-4987-91c5-23fe3a31a6ac",
   "metadata": {},
   "source": [
    "# Kotlin Specializations and Realizations"
   ]
  },
  {
   "cell_type": "markdown",
   "id": "3c9d936c-f612-47f9-85e4-bc0bb475d2d1",
   "metadata": {},
   "source": [
    "All classes in kotlin inherit from the `Any` generalization. The `Any` class is a class that doesn't have any generalization."
   ]
  },
  {
   "cell_type": "code",
   "execution_count": 12,
   "id": "86608375-6932-4c03-932d-e35efb2bb852",
   "metadata": {},
   "outputs": [
    {
     "name": "stdout",
     "output_type": "stream",
     "text": [
      "true\n"
     ]
    }
   ],
   "source": [
    "println(r1 is Any) // r1 is an instance of Robot"
   ]
  },
  {
   "cell_type": "markdown",
   "id": "680074f3-229c-4328-8426-c27a21097412",
   "metadata": {},
   "source": [
    "To establish your a specialization relationship in kotlin you must first mark the general class to be `open`:\n",
    "\n",
    "```kotlin\n",
    "open class Robot constructor (var name: String) {\n",
    "...\n",
    "```"
   ]
  },
  {
   "cell_type": "code",
   "execution_count": 13,
   "id": "4edf07fa-244f-4032-8398-bffc15691f5a",
   "metadata": {},
   "outputs": [],
   "source": [
    "open class Robot constructor (open var name: String) { //open is a modifier that allows Robot to be specialized\n",
    "    \n",
    "    open fun talk() {\n",
    "        println(\"Howdy it's me $name\")\n",
    "    }\n",
    "\n",
    "    open fun communicate(partner: Robot) {\n",
    "        println(\"Howdy ${partner.name} it's me $name\")\n",
    "    }\n",
    "    \n",
    "}"
   ]
  },
  {
   "cell_type": "markdown",
   "id": "8ce8bb94-5438-4d54-b09d-957d6d8df4e3",
   "metadata": {},
   "source": [
    "To establish that  the class `Skybot` below is a specialization of `Robot`, it must be specified in class header using `:` syntax. In this particular example, `Robot` has a primary constructor (i.e. it is not using a default constructor), so `Skybot` must have a primary constructor with the same pattern as `Robot`. The primary constructor of `Robot` accepts one `String` called name, so `Skybot`s primary constructor should also accept one `String`. This must be done so that all of the attribute assignments in `Robot` are also inherited by `Skybot`. "
   ]
  },
  {
   "cell_type": "code",
   "execution_count": 14,
   "id": "41bdfa94-b2ed-4b64-b5f4-466f40925517",
   "metadata": {},
   "outputs": [],
   "source": [
    "class SkyBot (name: String) : Robot(name) {\n",
    "    fun fly(height: Int) {\n",
    "        println(\"I'm flying ${height}m high in the air\")\n",
    "    }\n",
    "}"
   ]
  },
  {
   "cell_type": "markdown",
   "id": "c07018e4-516d-4405-95f2-8c0f2fd6536c",
   "metadata": {},
   "source": [
    "Since `Skybot` is now a specialized `Robot`, it will inherit all of the inheritable definitions in `Robot`. This includes `talk()` and `communicate()`"
   ]
  },
  {
   "cell_type": "code",
   "execution_count": 15,
   "id": "5a6424c7-825e-4ff8-b6d8-445d9a804ddd",
   "metadata": {},
   "outputs": [
    {
     "name": "stdout",
     "output_type": "stream",
     "text": [
      "Howdy it's me Zonk\n",
      "Howdy Donk it's me Zonk\n"
     ]
    }
   ],
   "source": [
    "val r = Robot(\"Donk\")\n",
    "val s1 = SkyBot(\"Zonk\")\n",
    "\n",
    "s1.talk()\n",
    "s1.communicate(r)"
   ]
  },
  {
   "cell_type": "markdown",
   "id": "3a0ac178-bc62-4448-a5a4-d478bf47ff29",
   "metadata": {},
   "source": [
    "Due to polymorphism all specializations of `Robot` are also considered as `Robot`s. This means that `Skybot` instances can be used as `Robot`s without any type mismatch. The method `communicate()` which accepts `Robot` instances as parameters can also accept `Skybot` instances."
   ]
  },
  {
   "cell_type": "code",
   "execution_count": 16,
   "id": "a67602e6-15eb-4b1e-9d7f-6f8dd32dfa2f",
   "metadata": {},
   "outputs": [
    {
     "name": "stdout",
     "output_type": "stream",
     "text": [
      "Howdy Wonk it's me Zonk\n"
     ]
    }
   ],
   "source": [
    "val s2 = SkyBot(\"Wonk\")\n",
    "\n",
    "s1.communicate(s2)"
   ]
  },
  {
   "cell_type": "markdown",
   "id": "3ef9ac1b-48b2-45e9-a7dc-1411daab159d",
   "metadata": {},
   "source": [
    "Instances of `Skybot` can of course use it's specialized method `fly()`"
   ]
  },
  {
   "cell_type": "code",
   "execution_count": 17,
   "id": "d114b514-2c3a-4c1f-ad7f-b4a096ab93bc",
   "metadata": {},
   "outputs": [
    {
     "name": "stdout",
     "output_type": "stream",
     "text": [
      "I'm flying 4m high in the air\n"
     ]
    }
   ],
   "source": [
    "s1.fly(4)"
   ]
  },
  {
   "cell_type": "markdown",
   "id": "45599a13-61cf-41a3-b62b-229789b9b37e",
   "metadata": {},
   "source": [
    "Specializations of classes can also override the definitions of their generalization. "
   ]
  },
  {
   "cell_type": "code",
   "execution_count": 18,
   "id": "b431bb04-efc7-4404-bd0a-9cb39876b8cf",
   "metadata": {},
   "outputs": [],
   "source": [
    "class ShadeBot(name: String, val visorOpacity: Float) : Robot(name) {\n",
    "    \n",
    "    override fun communicate(partner: Robot) {\n",
    "        if (visorOpacity >= 1)\n",
    "            println(\"Howdy, it's me $name. Sorry I cant see you my shades are too dark\")\n",
    "        else\n",
    "            println(\"Howdy ${partner.name} it's me $name\")\n",
    "    }\n",
    "\n",
    "}"
   ]
  },
  {
   "cell_type": "markdown",
   "id": "559945be-e887-43bb-8f89-9d2470304583",
   "metadata": {},
   "source": [
    "To override a method or an attribute you must explicitly, use the `override` modifier. This tells kotlin that instead of inheriting `communicate()` you will replace it with the definition found in `ShadeBot`. Take note that methods are final by default so you can only override methods that are declared to be `open` in the generalization. Without the modifiers `override` and `open` the override of `communicate()` will not compile.\n",
    "\n",
    "```kotlin\n",
    "open class Robot constructor (var name: String) { \n",
    "    \n",
    "    open fun talk() {... //talk() is actually not overriden right now but we can declare it to be open for future specializations\n",
    "\n",
    "    open fun communicate(partner: Robot) {...\n",
    "    \n",
    "}\n",
    "```\n",
    "\n",
    "Also in the class header of `ShadeBot` we are overriding the primary constructor to accept two parameters instead of just one. Since `visorOpacity` is a special attribute of `ShadeBot` it has not been declared yet. Therefore we have to explicitly declare it as `val` or `var` in the in the primary constructor declaration. The attribute `name`, on the other hand, is inherited so it doesn't need to be redeclared. If you do redeclare it, then it will be considered as an override, requiring the `override` modifier."
   ]
  },
  {
   "cell_type": "code",
   "execution_count": 19,
   "id": "4ae3953f-1a6c-4d9a-a36c-0da62daefc4c",
   "metadata": {},
   "outputs": [
    {
     "name": "stdout",
     "output_type": "stream",
     "text": [
      "Howdy, it's me Tonk. Sorry I cant see you my shades are too dark\n"
     ]
    }
   ],
   "source": [
    "val sh1 = ShadeBot(\"Tonk\", 1.0f)\n",
    "sh1.communicate(s1)"
   ]
  },
  {
   "cell_type": "markdown",
   "id": "a652cd47-3ea7-40c7-a397-905afd9575e2",
   "metadata": {},
   "source": [
    "## Realization\n",
    "\n",
    "To create an abstraction in kotlin you simply use the keyword `interface`. Any abstraction's methods must be declared to be `abstract`. The `abstract` modifier allows these functions to have no body. Note that abstract functions are open by default so you dont need the `open` modifier"
   ]
  },
  {
   "cell_type": "code",
   "execution_count": 20,
   "id": "23c53af6-7bcb-4622-b799-62c33f3a1da1",
   "metadata": {},
   "outputs": [],
   "source": [
    "interface BorrowableItem {\n",
    "    abstract fun borrow()\n",
    "    abstract fun name(): String\n",
    "}"
   ]
  },
  {
   "cell_type": "markdown",
   "id": "fbe7dfc5-0f9e-46b3-918d-73dec34aa01f",
   "metadata": {},
   "source": [
    "To realize an existing abstraction, you also use the `:` syntax"
   ]
  },
  {
   "cell_type": "code",
   "execution_count": 21,
   "id": "afc6eda9-2b2a-467e-ab9e-c5c8bc5fa1a4",
   "metadata": {},
   "outputs": [],
   "source": [
    "class Book(val title: String) : BorrowableItem {\n",
    "    \n",
    "    override fun borrow() {\n",
    "        println(\"I am a book called ${name()} and I'm being borrowed\")\n",
    "    }\n",
    "\n",
    "    override fun name(): String{\n",
    "        return title\n",
    "    }\n",
    "    \n",
    "}\n",
    "\n",
    "class IMacUnit(val id: Int) : BorrowableItem {\n",
    "\n",
    "    override fun borrow() {\n",
    "        println(\"I am an imac called ${name()} and I'm being borrowed\")\n",
    "    }\n",
    "\n",
    "    override fun name(): String {\n",
    "        return \"iMac$id\"\n",
    "    }\n",
    "}"
   ]
  },
  {
   "cell_type": "markdown",
   "id": "332828d3-4dc1-43f2-b1f7-b7043e6d9bd1",
   "metadata": {},
   "source": [
    "Due to polymorphism, you can declare a `Book` or `IMacUnit` instance to be of type `BorrowableItem`."
   ]
  },
  {
   "cell_type": "code",
   "execution_count": 22,
   "id": "89fb94f0-5a19-4a34-af07-1ef1f857a1d7",
   "metadata": {},
   "outputs": [
    {
     "name": "stdout",
     "output_type": "stream",
     "text": [
      "I am a book called Necronomicon and I'm being borrowed\n",
      "I am an imac called iMac5 and I'm being borrowed\n"
     ]
    }
   ],
   "source": [
    "val b: BorrowableItem = Book(\"Necronomicon\")\n",
    "val imac: BorrowableItem = IMacUnit(5)\n",
    "\n",
    "b.borrow()\n",
    "imac.borrow()"
   ]
  },
  {
   "cell_type": "code",
   "execution_count": 23,
   "id": "640026ba-bbb5-4068-afb6-6012d5a868d8",
   "metadata": {},
   "outputs": [
    {
     "name": "stdout",
     "output_type": "stream",
     "text": [
      "Necronomicon\n",
      "iMac5\n"
     ]
    }
   ],
   "source": [
    "val binder: List<BorrowableItem> = listOf(b,imac)\n",
    "\n",
    "for (bi in binder) \n",
    "    println(bi.name())"
   ]
  },
  {
   "cell_type": "code",
   "execution_count": 24,
   "id": "1aca25ad-d47e-4839-a7f0-2025a2e41d31",
   "metadata": {},
   "outputs": [
    {
     "data": {
      "text/plain": [
       "ArrayList"
      ]
     },
     "execution_count": 24,
     "metadata": {},
     "output_type": "execute_result"
    }
   ],
   "source": [
    "binder::class.simpleName"
   ]
  },
  {
   "cell_type": "markdown",
   "id": "9dfd90e1-2540-4266-a9b0-98de3b06b4bd",
   "metadata": {},
   "source": [
    "Any class that realizes the `BorrowableItem` abstraction will be forced to override all of its abstract functions. If you miss overriding even one function, it will lead to an error"
   ]
  },
  {
   "cell_type": "code",
   "execution_count": 25,
   "id": "20d1bea5-21f1-4521-8e93-880d7ae70bd6",
   "metadata": {
    "scrolled": true
   },
   "outputs": [
    {
     "additionalInfo": {
      "colEnd": 15,
      "colStart": 1,
      "lineEnd": 1,
      "lineStart": 1,
      "message": "Class 'Research' is not abstract and does not implement abstract member public abstract fun borrow(): Unit defined in Line_19_jupyter.BorrowableItem",
      "path": "Line_24.jupyter.kts"
     },
     "ename": "org.jetbrains.kotlinx.jupyter.exceptions.ReplCompilerException",
     "evalue": "at Cell In[25], line 1, column 1: Class 'Research' is not abstract and does not implement abstract member public abstract fun borrow(): Unit defined in Line_19_jupyter.BorrowableItem",
     "execution_count": 25,
     "output_type": "error",
     "status": "error",
     "traceback": [
      "org.jetbrains.kotlinx.jupyter.exceptions.ReplCompilerException: at Cell In[25], line 1, column 1: Class 'Research' is not abstract and does not implement abstract member public abstract fun borrow(): Unit defined in Line_19_jupyter.BorrowableItem",
      "\tat org.jetbrains.kotlinx.jupyter.repl.impl.JupyterCompilerImpl.compileSync(JupyterCompilerImpl.kt:151)",
      "\tat org.jetbrains.kotlinx.jupyter.repl.impl.InternalEvaluatorImpl.eval(InternalEvaluatorImpl.kt:126)",
      "\tat org.jetbrains.kotlinx.jupyter.repl.impl.CellExecutorImpl.execute_L4Nmkdk$lambda$0$0(CellExecutorImpl.kt:80)",
      "\tat org.jetbrains.kotlinx.jupyter.repl.impl.ReplForJupyterImpl.withHost(ReplForJupyterImpl.kt:790)",
      "\tat org.jetbrains.kotlinx.jupyter.repl.impl.CellExecutorImpl.execute-L4Nmkdk(CellExecutorImpl.kt:78)",
      "\tat org.jetbrains.kotlinx.jupyter.repl.execution.CellExecutor.execute-L4Nmkdk$default(CellExecutor.kt:14)",
      "\tat org.jetbrains.kotlinx.jupyter.repl.impl.ReplForJupyterImpl.evaluateUserCode-wNURfNM(ReplForJupyterImpl.kt:615)",
      "\tat org.jetbrains.kotlinx.jupyter.repl.impl.ReplForJupyterImpl.evalExImpl(ReplForJupyterImpl.kt:473)",
      "\tat org.jetbrains.kotlinx.jupyter.repl.impl.ReplForJupyterImpl.evalEx$lambda$0(ReplForJupyterImpl.kt:467)",
      "\tat org.jetbrains.kotlinx.jupyter.repl.impl.ReplForJupyterImpl.withEvalContext(ReplForJupyterImpl.kt:449)",
      "\tat org.jetbrains.kotlinx.jupyter.repl.impl.ReplForJupyterImpl.evalEx(ReplForJupyterImpl.kt:466)",
      "\tat org.jetbrains.kotlinx.jupyter.messaging.IdeCompatibleMessageRequestProcessor.processExecuteRequest$lambda$0$0$0(IdeCompatibleMessageRequestProcessor.kt:161)",
      "\tat org.jetbrains.kotlinx.jupyter.streams.BlockingSubstitutionEngine.withDataSubstitution(SubstitutionEngine.kt:124)",
      "\tat org.jetbrains.kotlinx.jupyter.streams.StreamSubstitutionManager.withSubstitutedStreams(StreamSubstitutionManager.kt:118)",
      "\tat org.jetbrains.kotlinx.jupyter.messaging.IdeCompatibleMessageRequestProcessor.withForkedIn(IdeCompatibleMessageRequestProcessor.kt:351)",
      "\tat org.jetbrains.kotlinx.jupyter.messaging.IdeCompatibleMessageRequestProcessor.evalWithIO$lambda$0$0(IdeCompatibleMessageRequestProcessor.kt:364)",
      "\tat org.jetbrains.kotlinx.jupyter.streams.BlockingSubstitutionEngine.withDataSubstitution(SubstitutionEngine.kt:124)",
      "\tat org.jetbrains.kotlinx.jupyter.streams.StreamSubstitutionManager.withSubstitutedStreams(StreamSubstitutionManager.kt:118)",
      "\tat org.jetbrains.kotlinx.jupyter.messaging.IdeCompatibleMessageRequestProcessor.withForkedErr(IdeCompatibleMessageRequestProcessor.kt:341)",
      "\tat org.jetbrains.kotlinx.jupyter.messaging.IdeCompatibleMessageRequestProcessor.evalWithIO$lambda$0(IdeCompatibleMessageRequestProcessor.kt:363)",
      "\tat org.jetbrains.kotlinx.jupyter.streams.BlockingSubstitutionEngine.withDataSubstitution(SubstitutionEngine.kt:124)",
      "\tat org.jetbrains.kotlinx.jupyter.streams.StreamSubstitutionManager.withSubstitutedStreams(StreamSubstitutionManager.kt:118)",
      "\tat org.jetbrains.kotlinx.jupyter.messaging.IdeCompatibleMessageRequestProcessor.withForkedOut(IdeCompatibleMessageRequestProcessor.kt:334)",
      "\tat org.jetbrains.kotlinx.jupyter.messaging.IdeCompatibleMessageRequestProcessor.evalWithIO(IdeCompatibleMessageRequestProcessor.kt:362)",
      "\tat org.jetbrains.kotlinx.jupyter.messaging.IdeCompatibleMessageRequestProcessor.processExecuteRequest$lambda$0$0(IdeCompatibleMessageRequestProcessor.kt:160)",
      "\tat org.jetbrains.kotlinx.jupyter.execution.JupyterExecutorImpl$Task.execute(JupyterExecutorImpl.kt:41)",
      "\tat org.jetbrains.kotlinx.jupyter.execution.JupyterExecutorImpl.executorThread$lambda$0(JupyterExecutorImpl.kt:81)",
      "\tat kotlin.concurrent.ThreadsKt$thread$thread$1.run(Thread.kt:30)",
      ""
     ]
    }
   ],
   "source": [
    "class Research: BorrowableItem{\n",
    "    override fun name(): String {\n",
    "        return \"Research\"\n",
    "    }\n",
    "}"
   ]
  },
  {
   "cell_type": "markdown",
   "id": "ddae18d1-e7a1-4fc5-b049-c90b0fbcfa08",
   "metadata": {},
   "source": [
    "# Visibility Control\n",
    "\n",
    "To implement proper data hiding principle sin OOP, kotlin has the visibility modifers `public`, `private`, and `protected`."
   ]
  },
  {
   "cell_type": "code",
   "execution_count": 51,
   "id": "c61440ad-bc6a-4804-880e-040d56efd207",
   "metadata": {},
   "outputs": [],
   "source": [
    "open class ClandestineClass (\n",
    "    public var v1: Int,\n",
    "    protected var v2: Int,\n",
    "    private var v3: Int \n",
    ") { //the syntax above is just a way to make the formatted constructor look neater\n",
    "    public open fun method1() {\n",
    "        println(\"Hey, these are my values\")\n",
    "        println(\"$v1, $v2, $v3\")\n",
    "    }\n",
    "\n",
    "    protected open fun method2() {\n",
    "        println(\"Hey!\")\n",
    "    }\n",
    "\n",
    "    private fun method3() {\n",
    "        println(\"...\")\n",
    "    }\n",
    "\n",
    "}\n",
    "\n",
    "val secretiveObject = ClandestineClass(1,2,3)"
   ]
  },
  {
   "cell_type": "code",
   "execution_count": 52,
   "id": "95432fa0-7a83-41b5-b7d1-7fd467e16576",
   "metadata": {},
   "outputs": [
    {
     "data": {
      "text/plain": [
       "1"
      ]
     },
     "execution_count": 52,
     "metadata": {},
     "output_type": "execute_result"
    }
   ],
   "source": [
    "secretiveObject.v1"
   ]
  },
  {
   "cell_type": "code",
   "execution_count": 53,
   "id": "9bc69c85-912f-421d-b389-7e02aba5d4db",
   "metadata": {
    "scrolled": true
   },
   "outputs": [
    {
     "additionalInfo": {
      "colEnd": 19,
      "colStart": 17,
      "lineEnd": 1,
      "lineStart": 1,
      "message": "Cannot access 'v2': it is protected in 'ClandestineClass'",
      "path": "Line_52.jupyter.kts"
     },
     "ename": "org.jetbrains.kotlinx.jupyter.exceptions.ReplCompilerException",
     "evalue": "at Cell In[53], line 1, column 17: Cannot access 'v2': it is protected in 'ClandestineClass'",
     "execution_count": 53,
     "output_type": "error",
     "status": "error",
     "traceback": [
      "org.jetbrains.kotlinx.jupyter.exceptions.ReplCompilerException: at Cell In[53], line 1, column 17: Cannot access 'v2': it is protected in 'ClandestineClass'",
      "\tat org.jetbrains.kotlinx.jupyter.repl.impl.JupyterCompilerImpl.compileSync(JupyterCompilerImpl.kt:151)",
      "\tat org.jetbrains.kotlinx.jupyter.repl.impl.InternalEvaluatorImpl.eval(InternalEvaluatorImpl.kt:126)",
      "\tat org.jetbrains.kotlinx.jupyter.repl.impl.CellExecutorImpl.execute_L4Nmkdk$lambda$0$0(CellExecutorImpl.kt:80)",
      "\tat org.jetbrains.kotlinx.jupyter.repl.impl.ReplForJupyterImpl.withHost(ReplForJupyterImpl.kt:790)",
      "\tat org.jetbrains.kotlinx.jupyter.repl.impl.CellExecutorImpl.execute-L4Nmkdk(CellExecutorImpl.kt:78)",
      "\tat org.jetbrains.kotlinx.jupyter.repl.execution.CellExecutor.execute-L4Nmkdk$default(CellExecutor.kt:14)",
      "\tat org.jetbrains.kotlinx.jupyter.repl.impl.ReplForJupyterImpl.evaluateUserCode-wNURfNM(ReplForJupyterImpl.kt:615)",
      "\tat org.jetbrains.kotlinx.jupyter.repl.impl.ReplForJupyterImpl.evalExImpl(ReplForJupyterImpl.kt:473)",
      "\tat org.jetbrains.kotlinx.jupyter.repl.impl.ReplForJupyterImpl.evalEx$lambda$0(ReplForJupyterImpl.kt:467)",
      "\tat org.jetbrains.kotlinx.jupyter.repl.impl.ReplForJupyterImpl.withEvalContext(ReplForJupyterImpl.kt:449)",
      "\tat org.jetbrains.kotlinx.jupyter.repl.impl.ReplForJupyterImpl.evalEx(ReplForJupyterImpl.kt:466)",
      "\tat org.jetbrains.kotlinx.jupyter.messaging.IdeCompatibleMessageRequestProcessor.processExecuteRequest$lambda$0$0$0(IdeCompatibleMessageRequestProcessor.kt:161)",
      "\tat org.jetbrains.kotlinx.jupyter.streams.BlockingSubstitutionEngine.withDataSubstitution(SubstitutionEngine.kt:124)",
      "\tat org.jetbrains.kotlinx.jupyter.streams.StreamSubstitutionManager.withSubstitutedStreams(StreamSubstitutionManager.kt:118)",
      "\tat org.jetbrains.kotlinx.jupyter.messaging.IdeCompatibleMessageRequestProcessor.withForkedIn(IdeCompatibleMessageRequestProcessor.kt:351)",
      "\tat org.jetbrains.kotlinx.jupyter.messaging.IdeCompatibleMessageRequestProcessor.evalWithIO$lambda$0$0(IdeCompatibleMessageRequestProcessor.kt:364)",
      "\tat org.jetbrains.kotlinx.jupyter.streams.BlockingSubstitutionEngine.withDataSubstitution(SubstitutionEngine.kt:124)",
      "\tat org.jetbrains.kotlinx.jupyter.streams.StreamSubstitutionManager.withSubstitutedStreams(StreamSubstitutionManager.kt:118)",
      "\tat org.jetbrains.kotlinx.jupyter.messaging.IdeCompatibleMessageRequestProcessor.withForkedErr(IdeCompatibleMessageRequestProcessor.kt:341)",
      "\tat org.jetbrains.kotlinx.jupyter.messaging.IdeCompatibleMessageRequestProcessor.evalWithIO$lambda$0(IdeCompatibleMessageRequestProcessor.kt:363)",
      "\tat org.jetbrains.kotlinx.jupyter.streams.BlockingSubstitutionEngine.withDataSubstitution(SubstitutionEngine.kt:124)",
      "\tat org.jetbrains.kotlinx.jupyter.streams.StreamSubstitutionManager.withSubstitutedStreams(StreamSubstitutionManager.kt:118)",
      "\tat org.jetbrains.kotlinx.jupyter.messaging.IdeCompatibleMessageRequestProcessor.withForkedOut(IdeCompatibleMessageRequestProcessor.kt:334)",
      "\tat org.jetbrains.kotlinx.jupyter.messaging.IdeCompatibleMessageRequestProcessor.evalWithIO(IdeCompatibleMessageRequestProcessor.kt:362)",
      "\tat org.jetbrains.kotlinx.jupyter.messaging.IdeCompatibleMessageRequestProcessor.processExecuteRequest$lambda$0$0(IdeCompatibleMessageRequestProcessor.kt:160)",
      "\tat org.jetbrains.kotlinx.jupyter.execution.JupyterExecutorImpl$Task.execute(JupyterExecutorImpl.kt:41)",
      "\tat org.jetbrains.kotlinx.jupyter.execution.JupyterExecutorImpl.executorThread$lambda$0(JupyterExecutorImpl.kt:81)",
      "\tat kotlin.concurrent.ThreadsKt$thread$thread$1.run(Thread.kt:30)",
      ""
     ]
    }
   ],
   "source": [
    "secretiveObject.v2"
   ]
  },
  {
   "cell_type": "code",
   "execution_count": 54,
   "id": "31a6e680-14be-42e7-a788-4a88d5296b5b",
   "metadata": {
    "scrolled": true
   },
   "outputs": [
    {
     "additionalInfo": {
      "colEnd": 19,
      "colStart": 17,
      "lineEnd": 1,
      "lineStart": 1,
      "message": "Cannot access 'v3': it is private in 'ClandestineClass'",
      "path": "Line_53.jupyter.kts"
     },
     "ename": "org.jetbrains.kotlinx.jupyter.exceptions.ReplCompilerException",
     "evalue": "at Cell In[54], line 1, column 17: Cannot access 'v3': it is private in 'ClandestineClass'",
     "execution_count": 54,
     "output_type": "error",
     "status": "error",
     "traceback": [
      "org.jetbrains.kotlinx.jupyter.exceptions.ReplCompilerException: at Cell In[54], line 1, column 17: Cannot access 'v3': it is private in 'ClandestineClass'",
      "\tat org.jetbrains.kotlinx.jupyter.repl.impl.JupyterCompilerImpl.compileSync(JupyterCompilerImpl.kt:151)",
      "\tat org.jetbrains.kotlinx.jupyter.repl.impl.InternalEvaluatorImpl.eval(InternalEvaluatorImpl.kt:126)",
      "\tat org.jetbrains.kotlinx.jupyter.repl.impl.CellExecutorImpl.execute_L4Nmkdk$lambda$0$0(CellExecutorImpl.kt:80)",
      "\tat org.jetbrains.kotlinx.jupyter.repl.impl.ReplForJupyterImpl.withHost(ReplForJupyterImpl.kt:790)",
      "\tat org.jetbrains.kotlinx.jupyter.repl.impl.CellExecutorImpl.execute-L4Nmkdk(CellExecutorImpl.kt:78)",
      "\tat org.jetbrains.kotlinx.jupyter.repl.execution.CellExecutor.execute-L4Nmkdk$default(CellExecutor.kt:14)",
      "\tat org.jetbrains.kotlinx.jupyter.repl.impl.ReplForJupyterImpl.evaluateUserCode-wNURfNM(ReplForJupyterImpl.kt:615)",
      "\tat org.jetbrains.kotlinx.jupyter.repl.impl.ReplForJupyterImpl.evalExImpl(ReplForJupyterImpl.kt:473)",
      "\tat org.jetbrains.kotlinx.jupyter.repl.impl.ReplForJupyterImpl.evalEx$lambda$0(ReplForJupyterImpl.kt:467)",
      "\tat org.jetbrains.kotlinx.jupyter.repl.impl.ReplForJupyterImpl.withEvalContext(ReplForJupyterImpl.kt:449)",
      "\tat org.jetbrains.kotlinx.jupyter.repl.impl.ReplForJupyterImpl.evalEx(ReplForJupyterImpl.kt:466)",
      "\tat org.jetbrains.kotlinx.jupyter.messaging.IdeCompatibleMessageRequestProcessor.processExecuteRequest$lambda$0$0$0(IdeCompatibleMessageRequestProcessor.kt:161)",
      "\tat org.jetbrains.kotlinx.jupyter.streams.BlockingSubstitutionEngine.withDataSubstitution(SubstitutionEngine.kt:124)",
      "\tat org.jetbrains.kotlinx.jupyter.streams.StreamSubstitutionManager.withSubstitutedStreams(StreamSubstitutionManager.kt:118)",
      "\tat org.jetbrains.kotlinx.jupyter.messaging.IdeCompatibleMessageRequestProcessor.withForkedIn(IdeCompatibleMessageRequestProcessor.kt:351)",
      "\tat org.jetbrains.kotlinx.jupyter.messaging.IdeCompatibleMessageRequestProcessor.evalWithIO$lambda$0$0(IdeCompatibleMessageRequestProcessor.kt:364)",
      "\tat org.jetbrains.kotlinx.jupyter.streams.BlockingSubstitutionEngine.withDataSubstitution(SubstitutionEngine.kt:124)",
      "\tat org.jetbrains.kotlinx.jupyter.streams.StreamSubstitutionManager.withSubstitutedStreams(StreamSubstitutionManager.kt:118)",
      "\tat org.jetbrains.kotlinx.jupyter.messaging.IdeCompatibleMessageRequestProcessor.withForkedErr(IdeCompatibleMessageRequestProcessor.kt:341)",
      "\tat org.jetbrains.kotlinx.jupyter.messaging.IdeCompatibleMessageRequestProcessor.evalWithIO$lambda$0(IdeCompatibleMessageRequestProcessor.kt:363)",
      "\tat org.jetbrains.kotlinx.jupyter.streams.BlockingSubstitutionEngine.withDataSubstitution(SubstitutionEngine.kt:124)",
      "\tat org.jetbrains.kotlinx.jupyter.streams.StreamSubstitutionManager.withSubstitutedStreams(StreamSubstitutionManager.kt:118)",
      "\tat org.jetbrains.kotlinx.jupyter.messaging.IdeCompatibleMessageRequestProcessor.withForkedOut(IdeCompatibleMessageRequestProcessor.kt:334)",
      "\tat org.jetbrains.kotlinx.jupyter.messaging.IdeCompatibleMessageRequestProcessor.evalWithIO(IdeCompatibleMessageRequestProcessor.kt:362)",
      "\tat org.jetbrains.kotlinx.jupyter.messaging.IdeCompatibleMessageRequestProcessor.processExecuteRequest$lambda$0$0(IdeCompatibleMessageRequestProcessor.kt:160)",
      "\tat org.jetbrains.kotlinx.jupyter.execution.JupyterExecutorImpl$Task.execute(JupyterExecutorImpl.kt:41)",
      "\tat org.jetbrains.kotlinx.jupyter.execution.JupyterExecutorImpl.executorThread$lambda$0(JupyterExecutorImpl.kt:81)",
      "\tat kotlin.concurrent.ThreadsKt$thread$thread$1.run(Thread.kt:30)",
      ""
     ]
    }
   ],
   "source": [
    "secretiveObject.v3"
   ]
  },
  {
   "cell_type": "markdown",
   "id": "b6d5dc68-83fa-411c-a51b-07fb5f8133db",
   "metadata": {},
   "source": [
    "As you see in the example above, accessing the attribute `v1` outside the scope of `ClandestineClass` works. On the other hand accessing the attributes `v2`, and `v3` will cause an error. This is because only `public` attributes can be accessed outside the scope of any give class."
   ]
  },
  {
   "cell_type": "code",
   "execution_count": 55,
   "id": "a2ba2055-0820-4056-97e3-ed3ed64894e2",
   "metadata": {},
   "outputs": [
    {
     "name": "stdout",
     "output_type": "stream",
     "text": [
      "Hey, these are my values\n",
      "1, 2, 3\n"
     ]
    }
   ],
   "source": [
    "secretiveObject.method1()"
   ]
  },
  {
   "attachments": {},
   "cell_type": "markdown",
   "id": "9bd81a51-84eb-4af4-9013-39125ca10f08",
   "metadata": {},
   "source": [
    "The function body of `method1()` is inside the scope of the class, so there are no issues with using `v2`, and `v3` inside `method1()`.\n",
    "\n",
    "Just like attributes, `protected` and `private` methods cannot be accessed outside the scope of the class."
   ]
  },
  {
   "cell_type": "code",
   "execution_count": 56,
   "id": "58e1b8fa-2f47-4786-bb24-b83f49970183",
   "metadata": {
    "scrolled": true
   },
   "outputs": [
    {
     "additionalInfo": {
      "colEnd": 24,
      "colStart": 17,
      "lineEnd": 1,
      "lineStart": 1,
      "message": "Cannot access 'method2': it is protected in 'ClandestineClass'",
      "path": "Line_55.jupyter.kts"
     },
     "ename": "org.jetbrains.kotlinx.jupyter.exceptions.ReplCompilerException",
     "evalue": "at Cell In[56], line 1, column 17: Cannot access 'method2': it is protected in 'ClandestineClass'",
     "execution_count": 56,
     "output_type": "error",
     "status": "error",
     "traceback": [
      "org.jetbrains.kotlinx.jupyter.exceptions.ReplCompilerException: at Cell In[56], line 1, column 17: Cannot access 'method2': it is protected in 'ClandestineClass'",
      "\tat org.jetbrains.kotlinx.jupyter.repl.impl.JupyterCompilerImpl.compileSync(JupyterCompilerImpl.kt:151)",
      "\tat org.jetbrains.kotlinx.jupyter.repl.impl.InternalEvaluatorImpl.eval(InternalEvaluatorImpl.kt:126)",
      "\tat org.jetbrains.kotlinx.jupyter.repl.impl.CellExecutorImpl.execute_L4Nmkdk$lambda$0$0(CellExecutorImpl.kt:80)",
      "\tat org.jetbrains.kotlinx.jupyter.repl.impl.ReplForJupyterImpl.withHost(ReplForJupyterImpl.kt:790)",
      "\tat org.jetbrains.kotlinx.jupyter.repl.impl.CellExecutorImpl.execute-L4Nmkdk(CellExecutorImpl.kt:78)",
      "\tat org.jetbrains.kotlinx.jupyter.repl.execution.CellExecutor.execute-L4Nmkdk$default(CellExecutor.kt:14)",
      "\tat org.jetbrains.kotlinx.jupyter.repl.impl.ReplForJupyterImpl.evaluateUserCode-wNURfNM(ReplForJupyterImpl.kt:615)",
      "\tat org.jetbrains.kotlinx.jupyter.repl.impl.ReplForJupyterImpl.evalExImpl(ReplForJupyterImpl.kt:473)",
      "\tat org.jetbrains.kotlinx.jupyter.repl.impl.ReplForJupyterImpl.evalEx$lambda$0(ReplForJupyterImpl.kt:467)",
      "\tat org.jetbrains.kotlinx.jupyter.repl.impl.ReplForJupyterImpl.withEvalContext(ReplForJupyterImpl.kt:449)",
      "\tat org.jetbrains.kotlinx.jupyter.repl.impl.ReplForJupyterImpl.evalEx(ReplForJupyterImpl.kt:466)",
      "\tat org.jetbrains.kotlinx.jupyter.messaging.IdeCompatibleMessageRequestProcessor.processExecuteRequest$lambda$0$0$0(IdeCompatibleMessageRequestProcessor.kt:161)",
      "\tat org.jetbrains.kotlinx.jupyter.streams.BlockingSubstitutionEngine.withDataSubstitution(SubstitutionEngine.kt:124)",
      "\tat org.jetbrains.kotlinx.jupyter.streams.StreamSubstitutionManager.withSubstitutedStreams(StreamSubstitutionManager.kt:118)",
      "\tat org.jetbrains.kotlinx.jupyter.messaging.IdeCompatibleMessageRequestProcessor.withForkedIn(IdeCompatibleMessageRequestProcessor.kt:351)",
      "\tat org.jetbrains.kotlinx.jupyter.messaging.IdeCompatibleMessageRequestProcessor.evalWithIO$lambda$0$0(IdeCompatibleMessageRequestProcessor.kt:364)",
      "\tat org.jetbrains.kotlinx.jupyter.streams.BlockingSubstitutionEngine.withDataSubstitution(SubstitutionEngine.kt:124)",
      "\tat org.jetbrains.kotlinx.jupyter.streams.StreamSubstitutionManager.withSubstitutedStreams(StreamSubstitutionManager.kt:118)",
      "\tat org.jetbrains.kotlinx.jupyter.messaging.IdeCompatibleMessageRequestProcessor.withForkedErr(IdeCompatibleMessageRequestProcessor.kt:341)",
      "\tat org.jetbrains.kotlinx.jupyter.messaging.IdeCompatibleMessageRequestProcessor.evalWithIO$lambda$0(IdeCompatibleMessageRequestProcessor.kt:363)",
      "\tat org.jetbrains.kotlinx.jupyter.streams.BlockingSubstitutionEngine.withDataSubstitution(SubstitutionEngine.kt:124)",
      "\tat org.jetbrains.kotlinx.jupyter.streams.StreamSubstitutionManager.withSubstitutedStreams(StreamSubstitutionManager.kt:118)",
      "\tat org.jetbrains.kotlinx.jupyter.messaging.IdeCompatibleMessageRequestProcessor.withForkedOut(IdeCompatibleMessageRequestProcessor.kt:334)",
      "\tat org.jetbrains.kotlinx.jupyter.messaging.IdeCompatibleMessageRequestProcessor.evalWithIO(IdeCompatibleMessageRequestProcessor.kt:362)",
      "\tat org.jetbrains.kotlinx.jupyter.messaging.IdeCompatibleMessageRequestProcessor.processExecuteRequest$lambda$0$0(IdeCompatibleMessageRequestProcessor.kt:160)",
      "\tat org.jetbrains.kotlinx.jupyter.execution.JupyterExecutorImpl$Task.execute(JupyterExecutorImpl.kt:41)",
      "\tat org.jetbrains.kotlinx.jupyter.execution.JupyterExecutorImpl.executorThread$lambda$0(JupyterExecutorImpl.kt:81)",
      "\tat kotlin.concurrent.ThreadsKt$thread$thread$1.run(Thread.kt:30)",
      ""
     ]
    }
   ],
   "source": [
    "secretiveObject.method2()"
   ]
  },
  {
   "cell_type": "code",
   "execution_count": 57,
   "id": "cf64c1c1-277d-45b1-919d-cac75f7c5db0",
   "metadata": {
    "scrolled": true
   },
   "outputs": [
    {
     "additionalInfo": {
      "colEnd": 24,
      "colStart": 17,
      "lineEnd": 1,
      "lineStart": 1,
      "message": "Cannot access 'method3': it is private in 'ClandestineClass'",
      "path": "Line_56.jupyter.kts"
     },
     "ename": "org.jetbrains.kotlinx.jupyter.exceptions.ReplCompilerException",
     "evalue": "at Cell In[57], line 1, column 17: Cannot access 'method3': it is private in 'ClandestineClass'",
     "execution_count": 57,
     "output_type": "error",
     "status": "error",
     "traceback": [
      "org.jetbrains.kotlinx.jupyter.exceptions.ReplCompilerException: at Cell In[57], line 1, column 17: Cannot access 'method3': it is private in 'ClandestineClass'",
      "\tat org.jetbrains.kotlinx.jupyter.repl.impl.JupyterCompilerImpl.compileSync(JupyterCompilerImpl.kt:151)",
      "\tat org.jetbrains.kotlinx.jupyter.repl.impl.InternalEvaluatorImpl.eval(InternalEvaluatorImpl.kt:126)",
      "\tat org.jetbrains.kotlinx.jupyter.repl.impl.CellExecutorImpl.execute_L4Nmkdk$lambda$0$0(CellExecutorImpl.kt:80)",
      "\tat org.jetbrains.kotlinx.jupyter.repl.impl.ReplForJupyterImpl.withHost(ReplForJupyterImpl.kt:790)",
      "\tat org.jetbrains.kotlinx.jupyter.repl.impl.CellExecutorImpl.execute-L4Nmkdk(CellExecutorImpl.kt:78)",
      "\tat org.jetbrains.kotlinx.jupyter.repl.execution.CellExecutor.execute-L4Nmkdk$default(CellExecutor.kt:14)",
      "\tat org.jetbrains.kotlinx.jupyter.repl.impl.ReplForJupyterImpl.evaluateUserCode-wNURfNM(ReplForJupyterImpl.kt:615)",
      "\tat org.jetbrains.kotlinx.jupyter.repl.impl.ReplForJupyterImpl.evalExImpl(ReplForJupyterImpl.kt:473)",
      "\tat org.jetbrains.kotlinx.jupyter.repl.impl.ReplForJupyterImpl.evalEx$lambda$0(ReplForJupyterImpl.kt:467)",
      "\tat org.jetbrains.kotlinx.jupyter.repl.impl.ReplForJupyterImpl.withEvalContext(ReplForJupyterImpl.kt:449)",
      "\tat org.jetbrains.kotlinx.jupyter.repl.impl.ReplForJupyterImpl.evalEx(ReplForJupyterImpl.kt:466)",
      "\tat org.jetbrains.kotlinx.jupyter.messaging.IdeCompatibleMessageRequestProcessor.processExecuteRequest$lambda$0$0$0(IdeCompatibleMessageRequestProcessor.kt:161)",
      "\tat org.jetbrains.kotlinx.jupyter.streams.BlockingSubstitutionEngine.withDataSubstitution(SubstitutionEngine.kt:124)",
      "\tat org.jetbrains.kotlinx.jupyter.streams.StreamSubstitutionManager.withSubstitutedStreams(StreamSubstitutionManager.kt:118)",
      "\tat org.jetbrains.kotlinx.jupyter.messaging.IdeCompatibleMessageRequestProcessor.withForkedIn(IdeCompatibleMessageRequestProcessor.kt:351)",
      "\tat org.jetbrains.kotlinx.jupyter.messaging.IdeCompatibleMessageRequestProcessor.evalWithIO$lambda$0$0(IdeCompatibleMessageRequestProcessor.kt:364)",
      "\tat org.jetbrains.kotlinx.jupyter.streams.BlockingSubstitutionEngine.withDataSubstitution(SubstitutionEngine.kt:124)",
      "\tat org.jetbrains.kotlinx.jupyter.streams.StreamSubstitutionManager.withSubstitutedStreams(StreamSubstitutionManager.kt:118)",
      "\tat org.jetbrains.kotlinx.jupyter.messaging.IdeCompatibleMessageRequestProcessor.withForkedErr(IdeCompatibleMessageRequestProcessor.kt:341)",
      "\tat org.jetbrains.kotlinx.jupyter.messaging.IdeCompatibleMessageRequestProcessor.evalWithIO$lambda$0(IdeCompatibleMessageRequestProcessor.kt:363)",
      "\tat org.jetbrains.kotlinx.jupyter.streams.BlockingSubstitutionEngine.withDataSubstitution(SubstitutionEngine.kt:124)",
      "\tat org.jetbrains.kotlinx.jupyter.streams.StreamSubstitutionManager.withSubstitutedStreams(StreamSubstitutionManager.kt:118)",
      "\tat org.jetbrains.kotlinx.jupyter.messaging.IdeCompatibleMessageRequestProcessor.withForkedOut(IdeCompatibleMessageRequestProcessor.kt:334)",
      "\tat org.jetbrains.kotlinx.jupyter.messaging.IdeCompatibleMessageRequestProcessor.evalWithIO(IdeCompatibleMessageRequestProcessor.kt:362)",
      "\tat org.jetbrains.kotlinx.jupyter.messaging.IdeCompatibleMessageRequestProcessor.processExecuteRequest$lambda$0$0(IdeCompatibleMessageRequestProcessor.kt:160)",
      "\tat org.jetbrains.kotlinx.jupyter.execution.JupyterExecutorImpl$Task.execute(JupyterExecutorImpl.kt:41)",
      "\tat org.jetbrains.kotlinx.jupyter.execution.JupyterExecutorImpl.executorThread$lambda$0(JupyterExecutorImpl.kt:81)",
      "\tat kotlin.concurrent.ThreadsKt$thread$thread$1.run(Thread.kt:30)",
      ""
     ]
    }
   ],
   "source": [
    "secretiveObject.method3()"
   ]
  },
  {
   "cell_type": "code",
   "execution_count": 58,
   "id": "9c521260-c9d5-4049-bc0a-b37045b89a50",
   "metadata": {
    "scrolled": true
   },
   "outputs": [
    {
     "additionalInfo": {
      "colEnd": 31,
      "colStart": 29,
      "lineEnd": 9,
      "lineStart": 9,
      "message": "Cannot access 'v3': it is invisible (private in a supertype) in 'SpecialClandestineClass1'",
      "path": "Line_57.jupyter.kts"
     },
     "ename": "org.jetbrains.kotlinx.jupyter.exceptions.ReplCompilerException",
     "evalue": "at Cell In[58], line 9, column 29: Cannot access 'v3': it is invisible (private in a supertype) in 'SpecialClandestineClass1'",
     "execution_count": 58,
     "output_type": "error",
     "status": "error",
     "traceback": [
      "org.jetbrains.kotlinx.jupyter.exceptions.ReplCompilerException: at Cell In[58], line 9, column 29: Cannot access 'v3': it is invisible (private in a supertype) in 'SpecialClandestineClass1'",
      "\tat org.jetbrains.kotlinx.jupyter.repl.impl.JupyterCompilerImpl.compileSync(JupyterCompilerImpl.kt:151)",
      "\tat org.jetbrains.kotlinx.jupyter.repl.impl.InternalEvaluatorImpl.eval(InternalEvaluatorImpl.kt:126)",
      "\tat org.jetbrains.kotlinx.jupyter.repl.impl.CellExecutorImpl.execute_L4Nmkdk$lambda$0$0(CellExecutorImpl.kt:80)",
      "\tat org.jetbrains.kotlinx.jupyter.repl.impl.ReplForJupyterImpl.withHost(ReplForJupyterImpl.kt:790)",
      "\tat org.jetbrains.kotlinx.jupyter.repl.impl.CellExecutorImpl.execute-L4Nmkdk(CellExecutorImpl.kt:78)",
      "\tat org.jetbrains.kotlinx.jupyter.repl.execution.CellExecutor.execute-L4Nmkdk$default(CellExecutor.kt:14)",
      "\tat org.jetbrains.kotlinx.jupyter.repl.impl.ReplForJupyterImpl.evaluateUserCode-wNURfNM(ReplForJupyterImpl.kt:615)",
      "\tat org.jetbrains.kotlinx.jupyter.repl.impl.ReplForJupyterImpl.evalExImpl(ReplForJupyterImpl.kt:473)",
      "\tat org.jetbrains.kotlinx.jupyter.repl.impl.ReplForJupyterImpl.evalEx$lambda$0(ReplForJupyterImpl.kt:467)",
      "\tat org.jetbrains.kotlinx.jupyter.repl.impl.ReplForJupyterImpl.withEvalContext(ReplForJupyterImpl.kt:449)",
      "\tat org.jetbrains.kotlinx.jupyter.repl.impl.ReplForJupyterImpl.evalEx(ReplForJupyterImpl.kt:466)",
      "\tat org.jetbrains.kotlinx.jupyter.messaging.IdeCompatibleMessageRequestProcessor.processExecuteRequest$lambda$0$0$0(IdeCompatibleMessageRequestProcessor.kt:161)",
      "\tat org.jetbrains.kotlinx.jupyter.streams.BlockingSubstitutionEngine.withDataSubstitution(SubstitutionEngine.kt:124)",
      "\tat org.jetbrains.kotlinx.jupyter.streams.StreamSubstitutionManager.withSubstitutedStreams(StreamSubstitutionManager.kt:118)",
      "\tat org.jetbrains.kotlinx.jupyter.messaging.IdeCompatibleMessageRequestProcessor.withForkedIn(IdeCompatibleMessageRequestProcessor.kt:351)",
      "\tat org.jetbrains.kotlinx.jupyter.messaging.IdeCompatibleMessageRequestProcessor.evalWithIO$lambda$0$0(IdeCompatibleMessageRequestProcessor.kt:364)",
      "\tat org.jetbrains.kotlinx.jupyter.streams.BlockingSubstitutionEngine.withDataSubstitution(SubstitutionEngine.kt:124)",
      "\tat org.jetbrains.kotlinx.jupyter.streams.StreamSubstitutionManager.withSubstitutedStreams(StreamSubstitutionManager.kt:118)",
      "\tat org.jetbrains.kotlinx.jupyter.messaging.IdeCompatibleMessageRequestProcessor.withForkedErr(IdeCompatibleMessageRequestProcessor.kt:341)",
      "\tat org.jetbrains.kotlinx.jupyter.messaging.IdeCompatibleMessageRequestProcessor.evalWithIO$lambda$0(IdeCompatibleMessageRequestProcessor.kt:363)",
      "\tat org.jetbrains.kotlinx.jupyter.streams.BlockingSubstitutionEngine.withDataSubstitution(SubstitutionEngine.kt:124)",
      "\tat org.jetbrains.kotlinx.jupyter.streams.StreamSubstitutionManager.withSubstitutedStreams(StreamSubstitutionManager.kt:118)",
      "\tat org.jetbrains.kotlinx.jupyter.messaging.IdeCompatibleMessageRequestProcessor.withForkedOut(IdeCompatibleMessageRequestProcessor.kt:334)",
      "\tat org.jetbrains.kotlinx.jupyter.messaging.IdeCompatibleMessageRequestProcessor.evalWithIO(IdeCompatibleMessageRequestProcessor.kt:362)",
      "\tat org.jetbrains.kotlinx.jupyter.messaging.IdeCompatibleMessageRequestProcessor.processExecuteRequest$lambda$0$0(IdeCompatibleMessageRequestProcessor.kt:160)",
      "\tat org.jetbrains.kotlinx.jupyter.execution.JupyterExecutorImpl$Task.execute(JupyterExecutorImpl.kt:41)",
      "\tat org.jetbrains.kotlinx.jupyter.execution.JupyterExecutorImpl.executorThread$lambda$0(JupyterExecutorImpl.kt:81)",
      "\tat kotlin.concurrent.ThreadsKt$thread$thread$1.run(Thread.kt:30)",
      ""
     ]
    }
   ],
   "source": [
    "open class SpecialClandestineClass1(\n",
    "    v1: Int, \n",
    "    v2: Int, \n",
    "    v3: Int\n",
    ") : ClandestineClass(v1,v2,v3) {\n",
    "    \n",
    "    override fun method2() {\n",
    "        println(\"Hey! Attempting to display values\")\n",
    "        println(\"$v1, $v2, $v3\")\n",
    "    }\n",
    "    \n",
    "}"
   ]
  },
  {
   "cell_type": "markdown",
   "id": "f35fc8d4-d8f8-41dd-b4f5-974039f48e8c",
   "metadata": {},
   "source": [
    "The specializations of a class will have access to `public` and `protected` attributes. The code above will not compile because `SpecialClandestineClass1` doesn't have access to the private attribute `v3`. \n",
    "\n",
    "Ommiting `v3` inside the body of `method2`, the code now works:"
   ]
  },
  {
   "cell_type": "code",
   "execution_count": 60,
   "id": "b1759a69-420a-401d-abce-7e358f76246d",
   "metadata": {},
   "outputs": [],
   "source": [
    "open class SpecialClandestineClass2(\n",
    "    v1: Int, \n",
    "    v2: Int, \n",
    "    v3: Int\n",
    ") : ClandestineClass(v1,v2,v3) {\n",
    "    \n",
    "    override fun method2() {\n",
    "        println(\"Hey! Attempting to display values\")\n",
    "        println(\"$v1, $v2\")\n",
    "    }\n",
    "    \n",
    "}"
   ]
  },
  {
   "cell_type": "markdown",
   "id": "de7da117-89e2-4529-94c3-7b2b90bf3315",
   "metadata": {},
   "source": [
    "Note that although private attributes and methods of a general class cannot be accessed by its specializations, said attributes and methods are still inherited. For example, instances of `SpecialClandestineClass2` can still display the private attribute `v3` since it still exists. This works because the definition of `method1()` being used here is inherited from `ClandestineClass`."
   ]
  },
  {
   "cell_type": "code",
   "execution_count": 62,
   "id": "97382c40-9aed-41ef-ab70-b4735559b7f6",
   "metadata": {},
   "outputs": [
    {
     "name": "stdout",
     "output_type": "stream",
     "text": [
      "Hey, these are my values\n",
      "1, 2, 3\n"
     ]
    }
   ],
   "source": [
    "val secret2 = SpecialClandestineClass2(1,2,3)\n",
    "secret2.method1()"
   ]
  },
  {
   "cell_type": "markdown",
   "id": "9af7e1f3-44d4-4bcd-a061-4280e2032c4a",
   "metadata": {},
   "source": [
    "Note that since private methods cannot be accessed by specializations, they cannot be have the `open` modifier as well.\n",
    "\n",
    "Here is a summary of visibility modifiers and where they can be accessed\n",
    "\n",
    "| visibility | accessed by specializations | accessed by clients (outside) |\n",
    "| ---------- |  -------------------------- | ----------------------------- |\n",
    "| public     |  yes                        | yes                           |\n",
    "| protected  |  yes                        | no                            |\n",
    "| private    |  no                         | no                            |\n"
   ]
  },
  {
   "cell_type": "markdown",
   "id": "69056dbe-bc38-4b6a-8548-23cbcf379d30",
   "metadata": {},
   "source": [
    "# Abstract Classes\n",
    "\n",
    "Abstract classes are hybrids of interfaces and concrete classes. Abstract classes, unlike interfaces, can have attributes and contructors. Also, unlike concrete classes, it can be defined with abstract methods.\n",
    "\n",
    "In the example below `AbsClass` has the modifier `abstract` making it an abstract class. The method `printSomethingA()` is an abstract function so all realizations of `AbsClass` must override it. While the method `printSomethingB()` is concrete, so it can be inherited or overridden."
   ]
  },
  {
   "cell_type": "code",
   "execution_count": 63,
   "id": "2f037e2f-543c-4ca4-b482-f545f1e10c28",
   "metadata": {},
   "outputs": [],
   "source": [
    "abstract class AbsClass(val state: String) {\n",
    "    \n",
    "    abstract fun printSomethingA()\n",
    "\n",
    "    open fun printSomethingB() {\n",
    "        println(\"I'm inherited, you can also override me if you want\")\n",
    "    }\n",
    "\n",
    "}\n",
    "\n",
    "class ConcreteClass1(state: String) : AbsClass(state) {\n",
    "\n",
    "    override fun printSomethingA() {\n",
    "        println(\"I'm implemented by ConcreteClass1\")\n",
    "    }\n",
    "\n",
    "}\n",
    "\n",
    "class ConcreteClass2(state: String) : AbsClass(state) {\n",
    "\n",
    "    override fun printSomethingA() {\n",
    "        println(\"I'm implemented by ConcreteClass2\")\n",
    "    }\n",
    "\n",
    "    override fun printSomethingB() {\n",
    "        println(\"I'm overriden by ConcreteClass2\")\n",
    "    }\n",
    "    \n",
    "}"
   ]
  },
  {
   "cell_type": "code",
   "execution_count": 64,
   "id": "83726cb8-6b01-4599-9ab3-51bbcc5c48f7",
   "metadata": {},
   "outputs": [],
   "source": [
    "val c1 = ConcreteClass1(\"initial state\")\n",
    "val c2 = ConcreteClass2(\"initial state\")"
   ]
  },
  {
   "cell_type": "code",
   "execution_count": 67,
   "id": "9aa4c41a-7709-47b0-bee4-600007fd25bb",
   "metadata": {},
   "outputs": [
    {
     "name": "stdout",
     "output_type": "stream",
     "text": [
      "I'm implemented by ConcreteClass1\n",
      "I'm inherited, you can also override me if you want\n",
      "\n",
      "I'm implemented by ConcreteClass2\n",
      "I'm overriden by ConcreteClass2\n"
     ]
    }
   ],
   "source": [
    "c1.printSomethingA()\n",
    "c1.printSomethingB()\n",
    "println()\n",
    "c2.printSomethingA()\n",
    "c2.printSomethingB()"
   ]
  },
  {
   "cell_type": "code",
   "execution_count": null,
   "id": "e9abd56b-9bea-4d83-840e-304e9f6dd8dc",
   "metadata": {},
   "outputs": [],
   "source": []
  }
 ],
 "metadata": {
  "kernelspec": {
   "display_name": "Kotlin",
   "language": "kotlin",
   "name": "kotlin"
  },
  "language_info": {
   "codemirror_mode": "text/x-kotlin",
   "file_extension": ".kt",
   "mimetype": "text/x-kotlin",
   "name": "kotlin",
   "nbconvert_exporter": "",
   "pygments_lexer": "kotlin",
   "version": "2.2.20-Beta2"
  }
 },
 "nbformat": 4,
 "nbformat_minor": 5
}
